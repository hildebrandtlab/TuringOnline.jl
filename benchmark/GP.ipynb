{
 "cells": [
  {
   "cell_type": "markdown",
   "metadata": {},
   "source": [
    "# Demonstration of the TuringOnline package"
   ]
  },
  {
   "cell_type": "markdown",
   "metadata": {},
   "source": [
    "In this notebook we will provide a use case of the TuringOnline package in order to illustrate its benefits and to provide evidence for the correct working.\n",
    "\n",
    "The package aims to provide online updates of inferred parameter sets, given parameter samples from e.g. a MCMC algorithm and new, i.e. previously unseen data.\n",
    "\n",
    "The notebook is structured as follows:"
   ]
  },
  {
   "cell_type": "markdown",
   "metadata": {},
   "source": [
    "## Table of contents\n",
    "1. [Used packages](#import)\n",
    "1. [Model](#model)    \n",
    "1. [Data generation](#data)\n",
    "    1. [Independent variables](#data_indep)\n",
    "    1. [Dependent variables](#data_dep)\n",
    "    1. [Suitability of generated data](#data_suit)\n",
    "1. [Benchmark](#bench)\n",
    "    1. [Speed and memory consumption](#bench_speed)\n",
    "    1. [Accuracy](#bench_acc)\n",
    "1. [Repeated updates](#loop)\n",
    "1. [Summary](#sum)"
   ]
  },
  {
   "cell_type": "markdown",
   "metadata": {},
   "source": [
    "## Used packages <a name=\"import\"></a>"
   ]
  },
  {
   "cell_type": "code",
   "execution_count": 1,
   "metadata": {},
   "outputs": [],
   "source": [
    "import PyPlot as plt\n",
    "import Seaborn as sns\n",
    "import Pandas as pd"
   ]
  },
  {
   "cell_type": "code",
   "execution_count": 2,
   "metadata": {},
   "outputs": [],
   "source": [
    "import Random as rnd\n",
    "import Distributions as dist"
   ]
  },
  {
   "cell_type": "code",
   "execution_count": 3,
   "metadata": {},
   "outputs": [],
   "source": [
    "import Turing as tur"
   ]
  },
  {
   "cell_type": "code",
   "execution_count": 4,
   "metadata": {},
   "outputs": [],
   "source": [
    "import AdvancedPS as aps"
   ]
  },
  {
   "cell_type": "code",
   "execution_count": 5,
   "metadata": {},
   "outputs": [],
   "source": [
    "import DynamicPPL as ppl"
   ]
  },
  {
   "cell_type": "code",
   "execution_count": 6,
   "metadata": {},
   "outputs": [
    {
     "data": {
      "text/plain": [
       "MersenneTwister(1)"
      ]
     },
     "execution_count": 6,
     "metadata": {},
     "output_type": "execute_result"
    }
   ],
   "source": [
    "rng = rnd.seed!(1)"
   ]
  },
  {
   "cell_type": "code",
   "execution_count": 7,
   "metadata": {},
   "outputs": [],
   "source": [
    "include(\"../src/TuringOnline.jl\")\n",
    "using Revise\n",
    "import .online as online"
   ]
  },
  {
   "cell_type": "code",
   "execution_count": 115,
   "metadata": {},
   "outputs": [],
   "source": [
    "include(\"./scoring.jl\")\n",
    "import .scoring as scoring"
   ]
  },
  {
   "cell_type": "code",
   "execution_count": 8,
   "metadata": {},
   "outputs": [],
   "source": [
    "using StatsFuns: logistic"
   ]
  },
  {
   "cell_type": "code",
   "execution_count": 9,
   "metadata": {},
   "outputs": [],
   "source": [
    "using BenchmarkTools"
   ]
  },
  {
   "cell_type": "code",
   "execution_count": 10,
   "metadata": {},
   "outputs": [],
   "source": [
    "using Suppressor"
   ]
  },
  {
   "cell_type": "code",
   "execution_count": 11,
   "metadata": {},
   "outputs": [],
   "source": [
    "import LinearAlgebra"
   ]
  },
  {
   "cell_type": "code",
   "execution_count": 12,
   "metadata": {},
   "outputs": [],
   "source": [
    "using Distances"
   ]
  },
  {
   "cell_type": "code",
   "execution_count": 66,
   "metadata": {},
   "outputs": [],
   "source": [
    "import Statistics as stats"
   ]
  },
  {
   "cell_type": "markdown",
   "metadata": {},
   "source": [
    "## Model <a name=\"model\"></a>"
   ]
  },
  {
   "cell_type": "code",
   "execution_count": 13,
   "metadata": {},
   "outputs": [
    {
     "data": {
      "text/plain": [
       "0.001"
      ]
     },
     "execution_count": 13,
     "metadata": {},
     "output_type": "execute_result"
    }
   ],
   "source": [
    "eps=1e-3"
   ]
  },
  {
   "cell_type": "code",
   "execution_count": 14,
   "metadata": {},
   "outputs": [
    {
     "data": {
      "text/plain": [
       "sqexp_cov_fn (generic function with 1 method)"
      ]
     },
     "execution_count": 14,
     "metadata": {},
     "output_type": "execute_result"
    }
   ],
   "source": [
    "sqexp_cov_fn(D, phi) = exp.(-(D/phi)^2) + LinearAlgebra.I * eps"
   ]
  },
  {
   "cell_type": "code",
   "execution_count": 15,
   "metadata": {},
   "outputs": [
    {
     "data": {
      "text/plain": [
       "GP (generic function with 4 methods)"
      ]
     },
     "execution_count": 15,
     "metadata": {},
     "output_type": "execute_result"
    }
   ],
   "source": [
    "tur.@model function GP(X,y,cov_fn, m=0, s=1)\n",
    "    # Dimensions of predictors.\n",
    "    N = size(X,1)\n",
    "   \n",
    "    # Distance matrix.\n",
    "    D = pairwise(Distances.Euclidean(), X)\n",
    "    \n",
    "    # Priors.\n",
    "    mu ~ dist.Normal(m, s)\n",
    "    sig2 ~ dist.LogNormal(0, 1)\n",
    "    phi ~ dist.InverseGamma(3,0.5)\n",
    "    \n",
    "    # Realized covariance function\n",
    "    K = cov_fn(D, phi)\n",
    "    \n",
    "    # cov matrix\n",
    "    cov = LinearAlgebra.Symmetric(K + sig2 * LinearAlgebra.I(N))\n",
    "    \n",
    "    # check positive definiteness prior to MvNormal as it can crash\n",
    "    if ! LinearAlgebra.isposdef(cov)\n",
    "        cov = LinearAlgebra.Symmetric(sig2 * LinearAlgebra.I(N))\n",
    "    end\n",
    "   \n",
    "    # Sampling Distribution.\n",
    "    # The latent variables have been marginalized out here,\n",
    "    # so there's only one level.\n",
    "    y ~ dist.MvNormal(mu * ones(N),cov)\n",
    "\n",
    "    return (y=y,mu=mu,sig2=sig2,phi=phi)\n",
    "end"
   ]
  },
  {
   "cell_type": "markdown",
   "metadata": {},
   "source": [
    "## Generate test data <a name=\"data\"></a>\n",
    "We generate data synthetically by drawing from the model to rule out modelling errors as a cause for bad inference performance."
   ]
  },
  {
   "cell_type": "markdown",
   "metadata": {},
   "source": [
    "### Independent variables <a name=\"data_indep\"></a>"
   ]
  },
  {
   "cell_type": "code",
   "execution_count": 16,
   "metadata": {},
   "outputs": [],
   "source": [
    "numTimeSteps = 50;"
   ]
  },
  {
   "cell_type": "code",
   "execution_count": 17,
   "metadata": {},
   "outputs": [
    {
     "data": {
      "text/plain": [
       "0.0:0.10204081632653061:5.0"
      ]
     },
     "execution_count": 17,
     "metadata": {},
     "output_type": "execute_result"
    }
   ],
   "source": [
    "time = range(0; stop=5, length=numTimeSteps)"
   ]
  },
  {
   "cell_type": "markdown",
   "metadata": {},
   "source": [
    "### Prior samples for parameters and dependent variable <a name=\"data_dep\"></a>"
   ]
  },
  {
   "cell_type": "code",
   "execution_count": 18,
   "metadata": {},
   "outputs": [],
   "source": [
    "missing_y =  fill(missing,numTimeSteps);"
   ]
  },
  {
   "cell_type": "code",
   "execution_count": 19,
   "metadata": {},
   "outputs": [
    {
     "data": {
      "text/plain": [
       "DynamicPPL.Model{typeof(GP), (:X, :y, :cov_fn, :m, :s), (:m, :s), (:y,), Tuple{StepRangeLen{Float64, Base.TwicePrecision{Float64}, Base.TwicePrecision{Float64}}, Missing, typeof(sqexp_cov_fn), Int64, Int64}, Tuple{Int64, Int64}, DynamicPPL.DefaultContext}(:GP, GP, (X = 0.0:0.10204081632653061:5.0, y = missing, cov_fn = sqexp_cov_fn, m = 0, s = 1), (m = 0, s = 1), DynamicPPL.DefaultContext())"
      ]
     },
     "execution_count": 19,
     "metadata": {},
     "output_type": "execute_result"
    }
   ],
   "source": [
    "m_missing_full = GP(time,missing_y[1],sqexp_cov_fn)"
   ]
  },
  {
   "cell_type": "code",
   "execution_count": 20,
   "metadata": {},
   "outputs": [
    {
     "data": {
      "text/plain": [
       "Chains MCMC chain (2×54×1 Array{Float64, 3}):\n",
       "\n",
       "Iterations        = 1:1:2\n",
       "Number of chains  = 1\n",
       "Samples per chain = 2\n",
       "Wall duration     = 5.68 seconds\n",
       "Compute duration  = 5.68 seconds\n",
       "parameters        = mu, sig2, phi, y[1], y[2], y[3], y[4], y[5], y[6], y[7], y[8], y[9], y[10], y[11], y[12], y[13], y[14], y[15], y[16], y[17], y[18], y[19], y[20], y[21], y[22], y[23], y[24], y[25], y[26], y[27], y[28], y[29], y[30], y[31], y[32], y[33], y[34], y[35], y[36], y[37], y[38], y[39], y[40], y[41], y[42], y[43], y[44], y[45], y[46], y[47], y[48], y[49], y[50]\n",
       "internals         = lp\n",
       "\n",
       "Summary Statistics\n",
       " \u001b[1m parameters \u001b[0m \u001b[1m    mean \u001b[0m \u001b[1m     std \u001b[0m \u001b[1m naive_se \u001b[0m \u001b[1m    mcse \u001b[0m \u001b[1m     ess \u001b[0m \u001b[1m    rhat \u001b[0m \u001b[1m es\u001b[0m ⋯\n",
       " \u001b[90m     Symbol \u001b[0m \u001b[90m Float64 \u001b[0m \u001b[90m Float64 \u001b[0m \u001b[90m  Float64 \u001b[0m \u001b[90m Float64 \u001b[0m \u001b[90m Missing \u001b[0m \u001b[90m Missing \u001b[0m \u001b[90m   \u001b[0m ⋯\n",
       "\n",
       "          mu    0.1335    0.2316     0.1638    0.1638   missing   missing      ⋯\n",
       "        sig2    1.0814    0.5437     0.3844    0.3844   missing   missing      ⋯\n",
       "         phi    0.9017    0.8451     0.5976    0.5976   missing   missing      ⋯\n",
       "        y[1]   -0.8548    0.1922     0.1359    0.1359   missing   missing      ⋯\n",
       "        y[2]    1.1075    0.6129     0.4334    0.4334   missing   missing      ⋯\n",
       "        y[3]    0.9090    3.0658     2.1679    2.1679   missing   missing      ⋯\n",
       "        y[4]   -1.4629    1.3937     0.9855    0.9855   missing   missing      ⋯\n",
       "        y[5]    0.0520    1.2547     0.8872    0.8872   missing   missing      ⋯\n",
       "        y[6]   -0.1838    1.4193     1.0036    1.0036   missing   missing      ⋯\n",
       "        y[7]    0.5431    0.6522     0.4611    0.4611   missing   missing      ⋯\n",
       "        y[8]    0.4595    1.4205     1.0044    1.0044   missing   missing      ⋯\n",
       "        y[9]   -0.3071    1.6406     1.1601    1.1601   missing   missing      ⋯\n",
       "       y[10]   -0.0488    0.4052     0.2865    0.2865   missing   missing      ⋯\n",
       "       y[11]   -0.2238    1.4364     1.0157    1.0157   missing   missing      ⋯\n",
       "       y[12]   -0.1027    0.4792     0.3389    0.3389   missing   missing      ⋯\n",
       "       y[13]   -0.4591    0.1184     0.0837    0.0837   missing   missing      ⋯\n",
       "       y[14]   -0.5221    1.8793     1.3289    1.3289   missing   missing      ⋯\n",
       "       y[15]    0.6973    0.3589     0.2538    0.2538   missing   missing      ⋯\n",
       "       y[16]   -0.8796    0.3667     0.2593    0.2593   missing   missing      ⋯\n",
       "       y[17]   -1.5795    0.3086     0.2182    0.2182   missing   missing      ⋯\n",
       "       y[18]    0.4322    1.1724     0.8290    0.8290   missing   missing      ⋯\n",
       "       y[19]    1.0513    0.0813     0.0575    0.0575   missing   missing      ⋯\n",
       "       y[20]    1.0891    0.1763     0.1247    0.1247   missing   missing      ⋯\n",
       "      ⋮           ⋮         ⋮         ⋮          ⋮         ⋮         ⋮         ⋱\n",
       "\u001b[36m                                                    1 column and 30 rows omitted\u001b[0m\n",
       "\n",
       "Quantiles\n",
       " \u001b[1m parameters \u001b[0m \u001b[1m    2.5% \u001b[0m \u001b[1m   25.0% \u001b[0m \u001b[1m   50.0% \u001b[0m \u001b[1m   75.0% \u001b[0m \u001b[1m   97.5% \u001b[0m\n",
       " \u001b[90m     Symbol \u001b[0m \u001b[90m Float64 \u001b[0m \u001b[90m Float64 \u001b[0m \u001b[90m Float64 \u001b[0m \u001b[90m Float64 \u001b[0m \u001b[90m Float64 \u001b[0m\n",
       "\n",
       "          mu   -0.0221    0.0516    0.1335    0.2154    0.2891\n",
       "        sig2    0.7161    0.8891    1.0814    1.2736    1.4466\n",
       "         phi    0.3340    0.6029    0.9017    1.2005    1.4694\n",
       "        y[1]   -0.9839   -0.9227   -0.8548   -0.7868   -0.7257\n",
       "        y[2]    0.6957    0.8908    1.1075    1.3241    1.5192\n",
       "        y[3]   -1.1505   -0.1749    0.9090    1.9930    2.9685\n",
       "        y[4]   -2.3991   -1.9557   -1.4629   -0.9701   -0.5267\n",
       "        y[5]   -0.7909   -0.3916    0.0520    0.4955    0.8948\n",
       "        y[6]   -1.1372   -0.6856   -0.1838    0.3180    0.7696\n",
       "        y[7]    0.1050    0.3125    0.5431    0.7737    0.9812\n",
       "        y[8]   -0.4948   -0.0428    0.4595    0.9617    1.4137\n",
       "        y[9]   -1.4092   -0.8871   -0.3071    0.2729    0.7949\n",
       "       y[10]   -0.3210   -0.1921   -0.0488    0.0945    0.2234\n",
       "       y[11]   -1.1886   -0.7316   -0.2238    0.2841    0.7411\n",
       "       y[12]   -0.4246   -0.2721   -0.1027    0.0668    0.2192\n",
       "       y[13]   -0.5386   -0.5009   -0.4591   -0.4172   -0.3796\n",
       "       y[14]   -1.7846   -1.1866   -0.5221    0.1423    0.7403\n",
       "       y[15]    0.4562    0.5704    0.6973    0.8242    0.9384\n",
       "       y[16]   -1.1259   -1.0092   -0.8796   -0.7499   -0.6333\n",
       "       y[17]   -1.7867   -1.6885   -1.5795   -1.4704   -1.3722\n",
       "       y[18]   -0.3553    0.0177    0.4322    0.8468    1.2198\n",
       "       y[19]    0.9967    1.0225    1.0513    1.0801    1.1059\n",
       "       y[20]    0.9707    1.0268    1.0891    1.1514    1.2075\n",
       "      ⋮           ⋮         ⋮         ⋮         ⋮         ⋮\n",
       "\u001b[36m                                                 30 rows omitted\u001b[0m\n"
      ]
     },
     "execution_count": 20,
     "metadata": {},
     "output_type": "execute_result"
    }
   ],
   "source": [
    "prior_chain = tur.sample(m_missing_full, tur.Prior(), 2)"
   ]
  },
  {
   "cell_type": "code",
   "execution_count": 21,
   "metadata": {},
   "outputs": [
    {
     "name": "stderr",
     "output_type": "stream",
     "text": [
      "┌ Warning: the following keys were not found in `vi`, and thus `kernel!` was not applied to these: [\"lp\"]\n",
      "└ @ DynamicPPL /home/konstantin/.julia/packages/DynamicPPL/RcfQU/src/varinfo.jl:1311\n",
      "┌ Warning: the following keys were not found in `vi`, and thus `kernel!` was not applied to these: [\"lp\"]\n",
      "└ @ DynamicPPL /home/konstantin/.julia/packages/DynamicPPL/RcfQU/src/varinfo.jl:1311\n"
     ]
    }
   ],
   "source": [
    "generated = tur.generated_quantities(m_missing_full, prior_chain);"
   ]
  },
  {
   "cell_type": "code",
   "execution_count": 22,
   "metadata": {},
   "outputs": [
    {
     "name": "stderr",
     "output_type": "stream",
     "text": [
      "┌ Warning: the following keys were not found in `vi`, and thus `kernel!` was not applied to these: [\"lp\"]\n",
      "└ @ DynamicPPL /home/konstantin/.julia/packages/DynamicPPL/RcfQU/src/varinfo.jl:1311\n",
      "┌ Warning: the following keys were not found in `vi`, and thus `kernel!` was not applied to these: [\"lp\"]\n",
      "└ @ DynamicPPL /home/konstantin/.julia/packages/DynamicPPL/RcfQU/src/varinfo.jl:1311\n"
     ]
    },
    {
     "data": {
      "text/plain": [
       "50-element Vector{Float64}:\n",
       " -0.718867541866441\n",
       "  0.6740786728045314\n",
       "  3.076896484038134\n",
       " -2.4484075913734156\n",
       "  0.9391356753545212\n",
       "  0.8197877901021824\n",
       "  1.0042241202706048\n",
       "  1.4639178245286935\n",
       "  0.8529352346829828\n",
       " -0.3353203520396399\n",
       "  0.7919011019851532\n",
       "  0.23618589245973792\n",
       " -0.5428042960312074\n",
       "  ⋮\n",
       "  0.3826321450720065\n",
       "  0.711238531882072\n",
       "  2.398768016504759\n",
       "  1.8716318617098768\n",
       "  0.5472180084330726\n",
       " -0.9245544556948306\n",
       " -0.7322246736374887\n",
       "  1.665129351997279\n",
       " -1.3359371228424373\n",
       "  1.7994192288746405\n",
       "  0.22989311988358047\n",
       "  1.2169946167604337"
      ]
     },
     "execution_count": 22,
     "metadata": {},
     "output_type": "execute_result"
    }
   ],
   "source": [
    "y = tur.generated_quantities(m_missing_full, prior_chain)[1][:y]"
   ]
  },
  {
   "cell_type": "code",
   "execution_count": 23,
   "metadata": {},
   "outputs": [
    {
     "data": {
      "text/plain": [
       "Dict{Any, Any}()"
      ]
     },
     "execution_count": 23,
     "metadata": {},
     "output_type": "execute_result"
    }
   ],
   "source": [
    "trueVals = Dict()"
   ]
  },
  {
   "cell_type": "code",
   "execution_count": 24,
   "metadata": {},
   "outputs": [
    {
     "data": {
      "text/plain": [
       "Dict{Any, Any} with 3 entries:\n",
       "  :mu   => 0.297288\n",
       "  :phi  => 0.304072\n",
       "  :sig2 => 1.46579"
      ]
     },
     "execution_count": 24,
     "metadata": {},
     "output_type": "execute_result"
    }
   ],
   "source": [
    "@suppress begin\n",
    "\n",
    "for key in [:mu,:sig2,:phi]\n",
    "    trueVals[key] = tur.generated_quantities(m_missing_full, prior_chain)[1][key]\n",
    "end\n",
    "trueVals\n",
    "end"
   ]
  },
  {
   "cell_type": "markdown",
   "metadata": {},
   "source": [
    "### Show the data"
   ]
  },
  {
   "cell_type": "code",
   "execution_count": 25,
   "metadata": {},
   "outputs": [
    {
     "data": {
      "image/png": "[encoded data removed]",
      "text/plain": [
       "PyPlot.Figure(PyObject <Figure size 640x480 with 1 Axes>)"
      ]
     },
     "metadata": {},
     "output_type": "display_data"
    }
   ],
   "source": [
    "plt.title(\"Generated cases over time\")\n",
    "plt.plot(time,y);\n",
    "plt.ylabel(\"y\");\n",
    "plt.xlabel(\"Time\");"
   ]
  },
  {
   "cell_type": "markdown",
   "metadata": {},
   "source": [
    "### Show suitablity by inference through NUTS with full data <a name=\"data_suit\"></a>\n",
    "We consider the NUTS algorithm as a reference standard and show that the data contains enough information for a meaningful inference."
   ]
  },
  {
   "cell_type": "code",
   "execution_count": 26,
   "metadata": {},
   "outputs": [],
   "source": [
    "m_full = GP(time,y,sqexp_cov_fn);"
   ]
  },
  {
   "cell_type": "code",
   "execution_count": 27,
   "metadata": {},
   "outputs": [],
   "source": [
    "NUTS = tur.NUTS();"
   ]
  },
  {
   "cell_type": "code",
   "execution_count": 28,
   "metadata": {},
   "outputs": [],
   "source": [
    "num_chains = 2\n",
    "num_samples = 1000;"
   ]
  },
  {
   "cell_type": "code",
   "execution_count": 29,
   "metadata": {},
   "outputs": [
    {
     "name": "stderr",
     "output_type": "stream",
     "text": [
      "┌ Warning: Only a single thread available: MCMC chains are not sampled in parallel\n",
      "└ @ AbstractMCMC /home/konstantin/.julia/packages/AbstractMCMC/BPJCW/src/sample.jl:291\n",
      "┌ Info: Found initial step size\n",
      "│   ϵ = 0.8\n",
      "└ @ Turing.Inference /home/konstantin/.julia/packages/Turing/uMQmD/src/inference/hmc.jl:188\n",
      "┌ Info: Found initial step size\n",
      "│   ϵ = 0.8\n",
      "└ @ Turing.Inference /home/konstantin/.julia/packages/Turing/uMQmD/src/inference/hmc.jl:188\n"
     ]
    }
   ],
   "source": [
    "chain_NUTS_full =  tur.sample(m_full, NUTS, tur.MCMCThreads(), num_samples, num_chains; discard_adapt=true);"
   ]
  },
  {
   "cell_type": "code",
   "execution_count": 30,
   "metadata": {},
   "outputs": [
    {
     "data": {
      "text/plain": [
       "(parameters = [:mu, :sig2, :phi], mean = [0.23840841358384604, 1.5395578057370172, 0.24983094699723477], std = [0.1670500886183906, 0.313960411139276, 0.2459514322457179], naive_se = [0.0037353535379808524, 0.0070203682155120335, 0.005499641216648592], mcse = [0.0033815885808176353, 0.006121076750443335, 0.009894657293850596], ess = [2102.151006098725, 2255.042327132871, 709.8386665567729], rhat = [0.9991453673656681, 0.9996504319656441, 1.002666782182319], ess_per_sec = [88.15528835438752, 94.56690124687037, 29.7676200015421])"
      ]
     },
     "execution_count": 30,
     "metadata": {},
     "output_type": "execute_result"
    }
   ],
   "source": [
    "summaryNUTS = tur.summarize(chain_NUTS_full).nt"
   ]
  },
  {
   "cell_type": "code",
   "execution_count": 116,
   "metadata": {},
   "outputs": [
    {
     "data": {
      "text/plain": [
       "8.489021953776204"
      ]
     },
     "execution_count": 116,
     "metadata": {},
     "output_type": "execute_result"
    }
   ],
   "source": [
    "scoring.getScore(chain_NUTS_full,[:mu,:phi,:sig2],trueVals)"
   ]
  },
  {
   "cell_type": "code",
   "execution_count": 31,
   "metadata": {},
   "outputs": [
    {
     "data": {
      "image/png": "[encoded data removed]",
      "text/plain": [
       "PyPlot.Figure(PyObject <Figure size 640x480 with 1 Axes>)"
      ]
     },
     "metadata": {},
     "output_type": "display_data"
    }
   ],
   "source": [
    "jitter = 0.03\n",
    "plt.title(\"True and estimated params\")\n",
    "for (i,p) in enumerate(summaryNUTS.parameters)\n",
    "  plt.plot(i-jitter,trueVals[p],\"+\",label=\"True\",color=\"C$i\");\n",
    "  plt.errorbar(x=i+jitter,y=summaryNUTS.mean[i],yerr=summaryNUTS.std[i],fmt=\"o\",color=\"C$i\",label=\"Est\")\n",
    "end\n",
    "\n",
    "# ticks\n",
    "plt.xticks(1:length(summaryNUTS.parameters), summaryNUTS.parameters, rotation=\"vertical\")\n",
    "\n",
    "#plt.legend();\n",
    "#plt.ylabel(\"theta\")\n",
    "#plt.xlabel(\"Time\");"
   ]
  },
  {
   "cell_type": "markdown",
   "metadata": {},
   "source": [
    "As the estimated parameters match the true values by eye, we conclude that this data and model can be considered as a suitable testing ground."
   ]
  },
  {
   "cell_type": "markdown",
   "metadata": {},
   "source": [
    "## Benchmark of updating <a name=\"bench\"></a>\n",
    "We consider the situation where data and inferred parameters up to a point t in time are available and new data arrives at time t+1."
   ]
  },
  {
   "cell_type": "code",
   "execution_count": 32,
   "metadata": {},
   "outputs": [
    {
     "data": {
      "text/plain": [
       "40"
      ]
     },
     "execution_count": 32,
     "metadata": {},
     "output_type": "execute_result"
    }
   ],
   "source": [
    "someTime = length(time)-10"
   ]
  },
  {
   "cell_type": "code",
   "execution_count": 33,
   "metadata": {},
   "outputs": [
    {
     "data": {
      "text/plain": [
       "40-element Vector{Float64}:\n",
       " -0.718867541866441\n",
       "  0.6740786728045314\n",
       "  3.076896484038134\n",
       " -2.4484075913734156\n",
       "  0.9391356753545212\n",
       "  0.8197877901021824\n",
       "  1.0042241202706048\n",
       "  1.4639178245286935\n",
       "  0.8529352346829828\n",
       " -0.3353203520396399\n",
       "  0.7919011019851532\n",
       "  0.23618589245973792\n",
       " -0.5428042960312074\n",
       "  ⋮\n",
       "  0.21642447209779958\n",
       "  1.7778262493580634\n",
       "  0.984830791668541\n",
       "  1.2219707302181844\n",
       "  0.7558136467835658\n",
       " -0.48460238464467603\n",
       " -0.507673085312818\n",
       " -1.8863789076640074\n",
       " -1.263893090415111\n",
       " -0.10876164588755105\n",
       "  0.3826321450720065\n",
       "  0.711238531882072"
      ]
     },
     "execution_count": 33,
     "metadata": {},
     "output_type": "execute_result"
    }
   ],
   "source": [
    "y_t =  y[1:someTime]"
   ]
  },
  {
   "cell_type": "code",
   "execution_count": 34,
   "metadata": {},
   "outputs": [
    {
     "data": {
      "text/plain": [
       "41-element Vector{Float64}:\n",
       " -0.718867541866441\n",
       "  0.6740786728045314\n",
       "  3.076896484038134\n",
       " -2.4484075913734156\n",
       "  0.9391356753545212\n",
       "  0.8197877901021824\n",
       "  1.0042241202706048\n",
       "  1.4639178245286935\n",
       "  0.8529352346829828\n",
       " -0.3353203520396399\n",
       "  0.7919011019851532\n",
       "  0.23618589245973792\n",
       " -0.5428042960312074\n",
       "  ⋮\n",
       "  1.7778262493580634\n",
       "  0.984830791668541\n",
       "  1.2219707302181844\n",
       "  0.7558136467835658\n",
       " -0.48460238464467603\n",
       " -0.507673085312818\n",
       " -1.8863789076640074\n",
       " -1.263893090415111\n",
       " -0.10876164588755105\n",
       "  0.3826321450720065\n",
       "  0.711238531882072\n",
       "  2.398768016504759"
      ]
     },
     "execution_count": 34,
     "metadata": {},
     "output_type": "execute_result"
    }
   ],
   "source": [
    "y_t_inc = y[1:someTime+1]"
   ]
  },
  {
   "cell_type": "code",
   "execution_count": 35,
   "metadata": {},
   "outputs": [
    {
     "data": {
      "text/plain": [
       "DynamicPPL.Model{typeof(GP), (:X, :y, :cov_fn, :m, :s), (:m, :s), (), Tuple{StepRangeLen{Float64, Base.TwicePrecision{Float64}, Base.TwicePrecision{Float64}}, Vector{Float64}, typeof(sqexp_cov_fn), Int64, Int64}, Tuple{Int64, Int64}, DynamicPPL.DefaultContext}(:GP, GP, (X = 0.0:0.10204081632653061:3.979591836734694, y = [-0.718867541866441, 0.6740786728045314, 3.076896484038134, -2.4484075913734156, 0.9391356753545212, 0.8197877901021824, 1.0042241202706048, 1.4639178245286935, 0.8529352346829828, -0.3353203520396399  …  0.984830791668541, 1.2219707302181844, 0.7558136467835658, -0.48460238464467603, -0.507673085312818, -1.8863789076640074, -1.263893090415111, -0.10876164588755105, 0.3826321450720065, 0.711238531882072], cov_fn = sqexp_cov_fn, m = 0, s = 1), (m = 0, s = 1), DynamicPPL.DefaultContext())"
      ]
     },
     "execution_count": 35,
     "metadata": {},
     "output_type": "execute_result"
    }
   ],
   "source": [
    "model_t = GP(time[1:someTime],y_t,sqexp_cov_fn)"
   ]
  },
  {
   "cell_type": "code",
   "execution_count": 36,
   "metadata": {},
   "outputs": [
    {
     "data": {
      "text/plain": [
       "DynamicPPL.Model{typeof(GP), (:X, :y, :cov_fn, :m, :s), (:m, :s), (), Tuple{StepRangeLen{Float64, Base.TwicePrecision{Float64}, Base.TwicePrecision{Float64}}, Vector{Float64}, typeof(sqexp_cov_fn), Int64, Int64}, Tuple{Int64, Int64}, DynamicPPL.DefaultContext}(:GP, GP, (X = 0.0:0.10204081632653061:4.081632653061225, y = [-0.718867541866441, 0.6740786728045314, 3.076896484038134, -2.4484075913734156, 0.9391356753545212, 0.8197877901021824, 1.0042241202706048, 1.4639178245286935, 0.8529352346829828, -0.3353203520396399  …  1.2219707302181844, 0.7558136467835658, -0.48460238464467603, -0.507673085312818, -1.8863789076640074, -1.263893090415111, -0.10876164588755105, 0.3826321450720065, 0.711238531882072, 2.398768016504759], cov_fn = sqexp_cov_fn, m = 0, s = 1), (m = 0, s = 1), DynamicPPL.DefaultContext())"
      ]
     },
     "execution_count": 36,
     "metadata": {},
     "output_type": "execute_result"
    }
   ],
   "source": [
    "model_t_inc = GP(time[1:someTime+1],y_t_inc,sqexp_cov_fn)"
   ]
  },
  {
   "cell_type": "markdown",
   "metadata": {},
   "source": [
    "#### Get a chain from nuts\n",
    "We assume here that the parameter set up to time t is also available, we use NUTS as a reference for that:"
   ]
  },
  {
   "cell_type": "code",
   "execution_count": 37,
   "metadata": {},
   "outputs": [
    {
     "name": "stderr",
     "output_type": "stream",
     "text": [
      "┌ Warning: Only a single thread available: MCMC chains are not sampled in parallel\n",
      "└ @ AbstractMCMC /home/konstantin/.julia/packages/AbstractMCMC/BPJCW/src/sample.jl:291\n",
      "┌ Info: Found initial step size\n",
      "│   ϵ = 0.8\n",
      "└ @ Turing.Inference /home/konstantin/.julia/packages/Turing/uMQmD/src/inference/hmc.jl:188\n",
      "┌ Info: Found initial step size\n",
      "│   ϵ = 0.2\n",
      "└ @ Turing.Inference /home/konstantin/.julia/packages/Turing/uMQmD/src/inference/hmc.jl:188\n"
     ]
    },
    {
     "data": {
      "text/plain": [
       "Chains MCMC chain (1000×15×2 Array{Float64, 3}):\n",
       "\n",
       "Iterations        = 501:1:1500\n",
       "Number of chains  = 2\n",
       "Samples per chain = 1000\n",
       "Wall duration     = 7.66 seconds\n",
       "Compute duration  = 7.65 seconds\n",
       "parameters        = mu, sig2, phi\n",
       "internals         = lp, n_steps, is_accept, acceptance_rate, log_density, hamiltonian_energy, hamiltonian_energy_error, max_hamiltonian_energy_error, tree_depth, numerical_error, step_size, nom_step_size\n",
       "\n",
       "Summary Statistics\n",
       " \u001b[1m parameters \u001b[0m \u001b[1m    mean \u001b[0m \u001b[1m     std \u001b[0m \u001b[1m naive_se \u001b[0m \u001b[1m    mcse \u001b[0m \u001b[1m       ess \u001b[0m \u001b[1m    rhat \u001b[0m \u001b[1m \u001b[0m ⋯\n",
       " \u001b[90m     Symbol \u001b[0m \u001b[90m Float64 \u001b[0m \u001b[90m Float64 \u001b[0m \u001b[90m  Float64 \u001b[0m \u001b[90m Float64 \u001b[0m \u001b[90m   Float64 \u001b[0m \u001b[90m Float64 \u001b[0m \u001b[90m \u001b[0m ⋯\n",
       "\n",
       "          mu    0.1357    0.1848     0.0041    0.0038   1871.1173    0.9996    ⋯\n",
       "        sig2    1.4877    0.3360     0.0075    0.0080   2244.2979    1.0006    ⋯\n",
       "         phi    0.2405    0.1833     0.0041    0.0046   1472.4892    1.0038    ⋯\n",
       "\u001b[36m                                                                1 column omitted\u001b[0m\n",
       "\n",
       "Quantiles\n",
       " \u001b[1m parameters \u001b[0m \u001b[1m    2.5% \u001b[0m \u001b[1m   25.0% \u001b[0m \u001b[1m   50.0% \u001b[0m \u001b[1m   75.0% \u001b[0m \u001b[1m   97.5% \u001b[0m\n",
       " \u001b[90m     Symbol \u001b[0m \u001b[90m Float64 \u001b[0m \u001b[90m Float64 \u001b[0m \u001b[90m Float64 \u001b[0m \u001b[90m Float64 \u001b[0m \u001b[90m Float64 \u001b[0m\n",
       "\n",
       "          mu   -0.2186    0.0109    0.1308    0.2607    0.4932\n",
       "        sig2    0.9445    1.2499    1.4457    1.6793    2.2797\n",
       "         phi    0.0715    0.1301    0.1875    0.2852    0.7606\n"
      ]
     },
     "execution_count": 37,
     "metadata": {},
     "output_type": "execute_result"
    }
   ],
   "source": [
    "chain_t = tur.sample(model_t, NUTS, tur.MCMCThreads(), num_samples, num_chains; discard_adapt=true)"
   ]
  },
  {
   "cell_type": "markdown",
   "metadata": {},
   "source": [
    "### Speed and memory consumption <a name=\"bench_speed\"></a>"
   ]
  },
  {
   "cell_type": "code",
   "execution_count": 38,
   "metadata": {},
   "outputs": [
    {
     "data": {
      "text/plain": [
       "BenchmarkTools.Trial: 45 samples with 1 evaluation.\n",
       " Range \u001b[90m(\u001b[39m\u001b[36m\u001b[1mmin\u001b[22m\u001b[39m … \u001b[35mmax\u001b[39m\u001b[90m):  \u001b[39m\u001b[36m\u001b[1m921.964 ms\u001b[22m\u001b[39m … \u001b[35m   2.632 s\u001b[39m  \u001b[90m┊\u001b[39m GC \u001b[90m(\u001b[39mmin … max\u001b[90m): \u001b[39m10.21% … 8.44%\n",
       " Time  \u001b[90m(\u001b[39m\u001b[34m\u001b[1mmedian\u001b[22m\u001b[39m\u001b[90m):     \u001b[39m\u001b[34m\u001b[1m   1.216 s               \u001b[22m\u001b[39m\u001b[90m┊\u001b[39m GC \u001b[90m(\u001b[39mmedian\u001b[90m):    \u001b[39m11.86%\n",
       " Time  \u001b[90m(\u001b[39m\u001b[32m\u001b[1mmean\u001b[22m\u001b[39m ± \u001b[32mσ\u001b[39m\u001b[90m):   \u001b[39m\u001b[32m\u001b[1m   1.355 s\u001b[22m\u001b[39m ± \u001b[32m381.605 ms\u001b[39m  \u001b[90m┊\u001b[39m GC \u001b[90m(\u001b[39mmean ± σ\u001b[90m):  \u001b[39m14.37% ± 7.08%\n",
       "\n",
       "  \u001b[39m \u001b[39m \u001b[39m▄\u001b[39m█\u001b[39m▄\u001b[39m▁\u001b[39m▄\u001b[39m \u001b[39m▄\u001b[39m▁\u001b[34m▁\u001b[39m\u001b[39m \u001b[39m▁\u001b[39m \u001b[39m \u001b[32m \u001b[39m\u001b[39m \u001b[39m \u001b[39m \u001b[39m \u001b[39m \u001b[39m \u001b[39m▁\u001b[39m \u001b[39m▁\u001b[39m▁\u001b[39m \u001b[39m \u001b[39m \u001b[39m \u001b[39m▁\u001b[39m \u001b[39m \u001b[39m \u001b[39m \u001b[39m \u001b[39m \u001b[39m \u001b[39m \u001b[39m \u001b[39m \u001b[39m \u001b[39m \u001b[39m \u001b[39m \u001b[39m \u001b[39m \u001b[39m \u001b[39m \u001b[39m \u001b[39m \u001b[39m \u001b[39m \u001b[39m \u001b[39m \u001b[39m \u001b[39m \u001b[39m \u001b[39m \u001b[39m \u001b[39m \u001b[39m \u001b[39m \n",
       "  \u001b[39m▆\u001b[39m▆\u001b[39m█\u001b[39m█\u001b[39m█\u001b[39m█\u001b[39m█\u001b[39m▁\u001b[39m█\u001b[39m█\u001b[34m█\u001b[39m\u001b[39m▁\u001b[39m█\u001b[39m▆\u001b[39m▆\u001b[32m▆\u001b[39m\u001b[39m▁\u001b[39m▁\u001b[39m▁\u001b[39m▆\u001b[39m▁\u001b[39m▆\u001b[39m█\u001b[39m▁\u001b[39m█\u001b[39m█\u001b[39m▁\u001b[39m▆\u001b[39m▁\u001b[39m▁\u001b[39m█\u001b[39m▁\u001b[39m▁\u001b[39m▆\u001b[39m▆\u001b[39m▁\u001b[39m▆\u001b[39m▁\u001b[39m▁\u001b[39m▁\u001b[39m▁\u001b[39m▁\u001b[39m▁\u001b[39m▁\u001b[39m▁\u001b[39m▁\u001b[39m▁\u001b[39m▁\u001b[39m▁\u001b[39m▁\u001b[39m▁\u001b[39m▁\u001b[39m▆\u001b[39m▁\u001b[39m▁\u001b[39m▁\u001b[39m▁\u001b[39m▁\u001b[39m▁\u001b[39m▁\u001b[39m▆\u001b[39m \u001b[39m▁\n",
       "  922 ms\u001b[90m           Histogram: frequency by time\u001b[39m          2.63 s \u001b[0m\u001b[1m<\u001b[22m\n",
       "\n",
       " Memory estimate\u001b[90m: \u001b[39m\u001b[33m539.20 MiB\u001b[39m, allocs estimate\u001b[90m: \u001b[39m\u001b[33m944517\u001b[39m."
      ]
     },
     "execution_count": 38,
     "metadata": {},
     "output_type": "execute_result"
    }
   ],
   "source": [
    "@benchmark online.update(chain_t,model_t_inc,tur.SMC(),rng) seconds = 60"
   ]
  },
  {
   "cell_type": "code",
   "execution_count": 39,
   "metadata": {},
   "outputs": [
    {
     "name": "stderr",
     "output_type": "stream",
     "text": [
      "┌ Warning: Only a single thread available: MCMC chains are not sampled in parallel\n",
      "└ @ AbstractMCMC /home/konstantin/.julia/packages/AbstractMCMC/BPJCW/src/sample.jl:291\n",
      "┌ Info: Found initial step size\n",
      "│   ϵ = 0.8\n",
      "└ @ Turing.Inference /home/konstantin/.julia/packages/Turing/uMQmD/src/inference/hmc.jl:188\n",
      "┌ Info: Found initial step size\n",
      "│   ϵ = 0.4\n",
      "└ @ Turing.Inference /home/konstantin/.julia/packages/Turing/uMQmD/src/inference/hmc.jl:188\n",
      "┌ Warning: Only a single thread available: MCMC chains are not sampled in parallel\n",
      "└ @ AbstractMCMC /home/konstantin/.julia/packages/AbstractMCMC/BPJCW/src/sample.jl:291\n",
      "┌ Info: Found initial step size\n",
      "│   ϵ = 0.2\n",
      "└ @ Turing.Inference /home/konstantin/.julia/packages/Turing/uMQmD/src/inference/hmc.jl:188\n",
      "┌ Info: Found initial step size\n",
      "│   ϵ = 0.2328125\n",
      "└ @ Turing.Inference /home/konstantin/.julia/packages/Turing/uMQmD/src/inference/hmc.jl:188\n",
      "┌ Warning: Only a single thread available: MCMC chains are not sampled in parallel\n",
      "└ @ AbstractMCMC /home/konstantin/.julia/packages/AbstractMCMC/BPJCW/src/sample.jl:291\n",
      "┌ Info: Found initial step size\n",
      "│   ϵ = 0.2\n",
      "└ @ Turing.Inference /home/konstantin/.julia/packages/Turing/uMQmD/src/inference/hmc.jl:188\n",
      "┌ Info: Found initial step size\n",
      "│   ϵ = 0.4\n",
      "└ @ Turing.Inference /home/konstantin/.julia/packages/Turing/uMQmD/src/inference/hmc.jl:188\n",
      "┌ Warning: Only a single thread available: MCMC chains are not sampled in parallel\n",
      "└ @ AbstractMCMC /home/konstantin/.julia/packages/AbstractMCMC/BPJCW/src/sample.jl:291\n",
      "┌ Info: Found initial step size\n",
      "│   ϵ = 0.2\n",
      "└ @ Turing.Inference /home/konstantin/.julia/packages/Turing/uMQmD/src/inference/hmc.jl:188\n",
      "┌ Info: Found initial step size\n",
      "│   ϵ = 0.8\n",
      "└ @ Turing.Inference /home/konstantin/.julia/packages/Turing/uMQmD/src/inference/hmc.jl:188\n",
      "┌ Warning: Only a single thread available: MCMC chains are not sampled in parallel\n",
      "└ @ AbstractMCMC /home/konstantin/.julia/packages/AbstractMCMC/BPJCW/src/sample.jl:291\n",
      "┌ Info: Found initial step size\n",
      "│   ϵ = 0.2\n",
      "└ @ Turing.Inference /home/konstantin/.julia/packages/Turing/uMQmD/src/inference/hmc.jl:188\n",
      "┌ Info: Found initial step size\n",
      "│   ϵ = 0.8\n",
      "└ @ Turing.Inference /home/konstantin/.julia/packages/Turing/uMQmD/src/inference/hmc.jl:188\n",
      "┌ Warning: Only a single thread available: MCMC chains are not sampled in parallel\n",
      "└ @ AbstractMCMC /home/konstantin/.julia/packages/AbstractMCMC/BPJCW/src/sample.jl:291\n",
      "┌ Info: Found initial step size\n",
      "│   ϵ = 0.2\n",
      "└ @ Turing.Inference /home/konstantin/.julia/packages/Turing/uMQmD/src/inference/hmc.jl:188\n",
      "┌ Info: Found initial step size\n",
      "│   ϵ = 0.4\n",
      "└ @ Turing.Inference /home/konstantin/.julia/packages/Turing/uMQmD/src/inference/hmc.jl:188\n",
      "┌ Warning: Only a single thread available: MCMC chains are not sampled in parallel\n",
      "└ @ AbstractMCMC /home/konstantin/.julia/packages/AbstractMCMC/BPJCW/src/sample.jl:291\n",
      "┌ Info: Found initial step size\n",
      "│   ϵ = 0.4\n",
      "└ @ Turing.Inference /home/konstantin/.julia/packages/Turing/uMQmD/src/inference/hmc.jl:188\n",
      "┌ Info: Found initial step size\n",
      "│   ϵ = 0.4\n",
      "└ @ Turing.Inference /home/konstantin/.julia/packages/Turing/uMQmD/src/inference/hmc.jl:188\n",
      "┌ Warning: Only a single thread available: MCMC chains are not sampled in parallel\n",
      "└ @ AbstractMCMC /home/konstantin/.julia/packages/AbstractMCMC/BPJCW/src/sample.jl:291\n",
      "┌ Info: Found initial step size\n",
      "│   ϵ = 0.4\n",
      "└ @ Turing.Inference /home/konstantin/.julia/packages/Turing/uMQmD/src/inference/hmc.jl:188\n",
      "┌ Info: Found initial step size\n",
      "│   ϵ = 0.2\n",
      "└ @ Turing.Inference /home/konstantin/.julia/packages/Turing/uMQmD/src/inference/hmc.jl:188\n",
      "┌ Warning: Only a single thread available: MCMC chains are not sampled in parallel\n",
      "└ @ AbstractMCMC /home/konstantin/.julia/packages/AbstractMCMC/BPJCW/src/sample.jl:291\n",
      "┌ Info: Found initial step size\n",
      "│   ϵ = 0.4\n",
      "└ @ Turing.Inference /home/konstantin/.julia/packages/Turing/uMQmD/src/inference/hmc.jl:188\n",
      "┌ Info: Found initial step size\n",
      "│   ϵ = 0.4\n",
      "└ @ Turing.Inference /home/konstantin/.julia/packages/Turing/uMQmD/src/inference/hmc.jl:188\n",
      "┌ Warning: Only a single thread available: MCMC chains are not sampled in parallel\n",
      "└ @ AbstractMCMC /home/konstantin/.julia/packages/AbstractMCMC/BPJCW/src/sample.jl:291\n",
      "┌ Info: Found initial step size\n",
      "│   ϵ = 0.8\n",
      "└ @ Turing.Inference /home/konstantin/.julia/packages/Turing/uMQmD/src/inference/hmc.jl:188\n",
      "┌ Info: Found initial step size\n",
      "│   ϵ = 0.4\n",
      "└ @ Turing.Inference /home/konstantin/.julia/packages/Turing/uMQmD/src/inference/hmc.jl:188\n",
      "┌ Warning: Only a single thread available: MCMC chains are not sampled in parallel\n",
      "└ @ AbstractMCMC /home/konstantin/.julia/packages/AbstractMCMC/BPJCW/src/sample.jl:291\n",
      "┌ Info: Found initial step size\n",
      "│   ϵ = 0.8\n",
      "└ @ Turing.Inference /home/konstantin/.julia/packages/Turing/uMQmD/src/inference/hmc.jl:188\n",
      "┌ Info: Found initial step size\n",
      "│   ϵ = 0.8\n",
      "└ @ Turing.Inference /home/konstantin/.julia/packages/Turing/uMQmD/src/inference/hmc.jl:188\n",
      "┌ Warning: Only a single thread available: MCMC chains are not sampled in parallel\n",
      "└ @ AbstractMCMC /home/konstantin/.julia/packages/AbstractMCMC/BPJCW/src/sample.jl:291\n",
      "┌ Info: Found initial step size\n",
      "│   ϵ = 0.8\n",
      "└ @ Turing.Inference /home/konstantin/.julia/packages/Turing/uMQmD/src/inference/hmc.jl:188\n",
      "┌ Info: Found initial step size\n",
      "│   ϵ = 0.2\n",
      "└ @ Turing.Inference /home/konstantin/.julia/packages/Turing/uMQmD/src/inference/hmc.jl:188\n",
      "┌ Warning: Only a single thread available: MCMC chains are not sampled in parallel\n",
      "└ @ AbstractMCMC /home/konstantin/.julia/packages/AbstractMCMC/BPJCW/src/sample.jl:291\n",
      "┌ Info: Found initial step size\n",
      "│   ϵ = 0.2\n",
      "└ @ Turing.Inference /home/konstantin/.julia/packages/Turing/uMQmD/src/inference/hmc.jl:188\n",
      "┌ Info: Found initial step size\n",
      "│   ϵ = 0.2\n",
      "└ @ Turing.Inference /home/konstantin/.julia/packages/Turing/uMQmD/src/inference/hmc.jl:188\n",
      "┌ Warning: Only a single thread available: MCMC chains are not sampled in parallel\n",
      "└ @ AbstractMCMC /home/konstantin/.julia/packages/AbstractMCMC/BPJCW/src/sample.jl:291\n",
      "┌ Info: Found initial step size\n",
      "│   ϵ = 0.4\n",
      "└ @ Turing.Inference /home/konstantin/.julia/packages/Turing/uMQmD/src/inference/hmc.jl:188\n",
      "┌ Info: Found initial step size\n",
      "│   ϵ = 0.8\n",
      "└ @ Turing.Inference /home/konstantin/.julia/packages/Turing/uMQmD/src/inference/hmc.jl:188\n",
      "┌ Warning: Only a single thread available: MCMC chains are not sampled in parallel\n",
      "└ @ AbstractMCMC /home/konstantin/.julia/packages/AbstractMCMC/BPJCW/src/sample.jl:291\n",
      "┌ Info: Found initial step size\n",
      "│   ϵ = 0.2\n",
      "└ @ Turing.Inference /home/konstantin/.julia/packages/Turing/uMQmD/src/inference/hmc.jl:188\n",
      "┌ Info: Found initial step size\n",
      "│   ϵ = 0.4\n",
      "└ @ Turing.Inference /home/konstantin/.julia/packages/Turing/uMQmD/src/inference/hmc.jl:188\n",
      "┌ Warning: Only a single thread available: MCMC chains are not sampled in parallel\n",
      "└ @ AbstractMCMC /home/konstantin/.julia/packages/AbstractMCMC/BPJCW/src/sample.jl:291\n",
      "┌ Info: Found initial step size\n",
      "│   ϵ = 0.2\n",
      "└ @ Turing.Inference /home/konstantin/.julia/packages/Turing/uMQmD/src/inference/hmc.jl:188\n",
      "┌ Info: Found initial step size\n",
      "│   ϵ = 0.2\n",
      "└ @ Turing.Inference /home/konstantin/.julia/packages/Turing/uMQmD/src/inference/hmc.jl:188\n",
      "┌ Warning: Only a single thread available: MCMC chains are not sampled in parallel\n",
      "└ @ AbstractMCMC /home/konstantin/.julia/packages/AbstractMCMC/BPJCW/src/sample.jl:291\n",
      "┌ Info: Found initial step size\n",
      "│   ϵ = 0.8\n",
      "└ @ Turing.Inference /home/konstantin/.julia/packages/Turing/uMQmD/src/inference/hmc.jl:188\n",
      "┌ Info: Found initial step size\n",
      "│   ϵ = 0.8\n",
      "└ @ Turing.Inference /home/konstantin/.julia/packages/Turing/uMQmD/src/inference/hmc.jl:188\n",
      "┌ Warning: Only a single thread available: MCMC chains are not sampled in parallel\n",
      "└ @ AbstractMCMC /home/konstantin/.julia/packages/AbstractMCMC/BPJCW/src/sample.jl:291\n",
      "┌ Info: Found initial step size\n",
      "│   ϵ = 0.2\n",
      "└ @ Turing.Inference /home/konstantin/.julia/packages/Turing/uMQmD/src/inference/hmc.jl:188\n",
      "┌ Info: Found initial step size\n",
      "│   ϵ = 0.8\n",
      "└ @ Turing.Inference /home/konstantin/.julia/packages/Turing/uMQmD/src/inference/hmc.jl:188\n",
      "┌ Warning: Only a single thread available: MCMC chains are not sampled in parallel\n",
      "└ @ AbstractMCMC /home/konstantin/.julia/packages/AbstractMCMC/BPJCW/src/sample.jl:291\n",
      "┌ Info: Found initial step size\n",
      "│   ϵ = 0.05\n",
      "└ @ Turing.Inference /home/konstantin/.julia/packages/Turing/uMQmD/src/inference/hmc.jl:188\n",
      "┌ Info: Found initial step size\n",
      "│   ϵ = 0.4\n",
      "└ @ Turing.Inference /home/konstantin/.julia/packages/Turing/uMQmD/src/inference/hmc.jl:188\n"
     ]
    },
    {
     "name": "stderr",
     "output_type": "stream",
     "text": [
      "┌ Warning: Only a single thread available: MCMC chains are not sampled in parallel\n",
      "└ @ AbstractMCMC /home/konstantin/.julia/packages/AbstractMCMC/BPJCW/src/sample.jl:291\n",
      "┌ Info: Found initial step size\n",
      "│   ϵ = 0.4\n",
      "└ @ Turing.Inference /home/konstantin/.julia/packages/Turing/uMQmD/src/inference/hmc.jl:188\n",
      "┌ Info: Found initial step size\n",
      "│   ϵ = 0.2\n",
      "└ @ Turing.Inference /home/konstantin/.julia/packages/Turing/uMQmD/src/inference/hmc.jl:188\n"
     ]
    },
    {
     "data": {
      "text/plain": [
       "BenchmarkTools.Trial: 8 samples with 1 evaluation.\n",
       " Range \u001b[90m(\u001b[39m\u001b[36m\u001b[1mmin\u001b[22m\u001b[39m … \u001b[35mmax\u001b[39m\u001b[90m):  \u001b[39m\u001b[36m\u001b[1m7.136 s\u001b[22m\u001b[39m … \u001b[35m   9.493 s\u001b[39m  \u001b[90m┊\u001b[39m GC \u001b[90m(\u001b[39mmin … max\u001b[90m): \u001b[39m3.86% … 3.47%\n",
       " Time  \u001b[90m(\u001b[39m\u001b[34m\u001b[1mmedian\u001b[22m\u001b[39m\u001b[90m):     \u001b[39m\u001b[34m\u001b[1m7.537 s               \u001b[22m\u001b[39m\u001b[90m┊\u001b[39m GC \u001b[90m(\u001b[39mmedian\u001b[90m):    \u001b[39m3.72%\n",
       " Time  \u001b[90m(\u001b[39m\u001b[32m\u001b[1mmean\u001b[22m\u001b[39m ± \u001b[32mσ\u001b[39m\u001b[90m):   \u001b[39m\u001b[32m\u001b[1m7.947 s\u001b[22m\u001b[39m ± \u001b[32m833.245 ms\u001b[39m  \u001b[90m┊\u001b[39m GC \u001b[90m(\u001b[39mmean ± σ\u001b[90m):  \u001b[39m3.60% ± 0.18%\n",
       "\n",
       "  \u001b[39m█\u001b[39m \u001b[39m \u001b[39m█\u001b[39m \u001b[39m \u001b[39m \u001b[39m█\u001b[39m█\u001b[34m \u001b[39m\u001b[39m█\u001b[39m \u001b[39m \u001b[39m \u001b[39m \u001b[39m \u001b[39m \u001b[39m \u001b[39m \u001b[39m \u001b[32m \u001b[39m\u001b[39m \u001b[39m \u001b[39m \u001b[39m \u001b[39m \u001b[39m \u001b[39m \u001b[39m \u001b[39m \u001b[39m \u001b[39m \u001b[39m█\u001b[39m \u001b[39m \u001b[39m \u001b[39m \u001b[39m \u001b[39m█\u001b[39m \u001b[39m \u001b[39m \u001b[39m \u001b[39m \u001b[39m \u001b[39m \u001b[39m \u001b[39m \u001b[39m \u001b[39m \u001b[39m \u001b[39m \u001b[39m \u001b[39m \u001b[39m \u001b[39m \u001b[39m \u001b[39m█\u001b[39m \u001b[39m \n",
       "  \u001b[39m█\u001b[39m▁\u001b[39m▁\u001b[39m█\u001b[39m▁\u001b[39m▁\u001b[39m▁\u001b[39m█\u001b[39m█\u001b[34m▁\u001b[39m\u001b[39m█\u001b[39m▁\u001b[39m▁\u001b[39m▁\u001b[39m▁\u001b[39m▁\u001b[39m▁\u001b[39m▁\u001b[39m▁\u001b[39m▁\u001b[32m▁\u001b[39m\u001b[39m▁\u001b[39m▁\u001b[39m▁\u001b[39m▁\u001b[39m▁\u001b[39m▁\u001b[39m▁\u001b[39m▁\u001b[39m▁\u001b[39m▁\u001b[39m▁\u001b[39m█\u001b[39m▁\u001b[39m▁\u001b[39m▁\u001b[39m▁\u001b[39m▁\u001b[39m█\u001b[39m▁\u001b[39m▁\u001b[39m▁\u001b[39m▁\u001b[39m▁\u001b[39m▁\u001b[39m▁\u001b[39m▁\u001b[39m▁\u001b[39m▁\u001b[39m▁\u001b[39m▁\u001b[39m▁\u001b[39m▁\u001b[39m▁\u001b[39m▁\u001b[39m▁\u001b[39m▁\u001b[39m█\u001b[39m \u001b[39m▁\n",
       "  7.14 s\u001b[90m         Histogram: frequency by time\u001b[39m         9.49 s \u001b[0m\u001b[1m<\u001b[22m\n",
       "\n",
       " Memory estimate\u001b[90m: \u001b[39m\u001b[33m6.98 GiB\u001b[39m, allocs estimate\u001b[90m: \u001b[39m\u001b[33m1789959\u001b[39m."
      ]
     },
     "execution_count": 39,
     "metadata": {},
     "output_type": "execute_result"
    }
   ],
   "source": [
    "@benchmark tur.sample(model_t_inc, NUTS, tur.MCMCThreads(), num_samples, num_chains; discard_adapt=true) seconds = 60"
   ]
  },
  {
   "cell_type": "markdown",
   "metadata": {},
   "source": [
    "The two results above indicate that the online updates is faster and requires less memory."
   ]
  },
  {
   "cell_type": "markdown",
   "metadata": {},
   "source": [
    "### Accuracy <a name=\"bench_acc\"></a>\n",
    "We compare the estimated values from the online update and from NUTS to the true values."
   ]
  },
  {
   "cell_type": "code",
   "execution_count": 40,
   "metadata": {},
   "outputs": [],
   "source": [
    "newChain = online.update(chain_t,model_t_inc,tur.SMC(),rng);"
   ]
  },
  {
   "cell_type": "code",
   "execution_count": 41,
   "metadata": {},
   "outputs": [
    {
     "name": "stderr",
     "output_type": "stream",
     "text": [
      "┌ Warning: Only a single thread available: MCMC chains are not sampled in parallel\n",
      "└ @ AbstractMCMC /home/konstantin/.julia/packages/AbstractMCMC/BPJCW/src/sample.jl:291\n",
      "┌ Info: Found initial step size\n",
      "│   ϵ = 0.8\n",
      "└ @ Turing.Inference /home/konstantin/.julia/packages/Turing/uMQmD/src/inference/hmc.jl:188\n",
      "┌ Info: Found initial step size\n",
      "│   ϵ = 0.8\n",
      "└ @ Turing.Inference /home/konstantin/.julia/packages/Turing/uMQmD/src/inference/hmc.jl:188\n"
     ]
    }
   ],
   "source": [
    "chain_t_inc = tur.sample(model_t_inc, NUTS, tur.MCMCThreads(), num_samples, num_chains; discard_adapt=true);"
   ]
  },
  {
   "cell_type": "code",
   "execution_count": 117,
   "metadata": {},
   "outputs": [
    {
     "data": {
      "text/plain": [
       "7.438270459014338"
      ]
     },
     "execution_count": 117,
     "metadata": {},
     "output_type": "execute_result"
    }
   ],
   "source": [
    "scoring.getScore(chain_t_inc,[:mu,:phi,:sig2],trueVals)"
   ]
  },
  {
   "cell_type": "code",
   "execution_count": 118,
   "metadata": {},
   "outputs": [
    {
     "data": {
      "text/plain": [
       "8.063329487385602"
      ]
     },
     "execution_count": 118,
     "metadata": {},
     "output_type": "execute_result"
    }
   ],
   "source": [
    "scoring.getScore(newChain,[:mu,:phi,:sig2],trueVals)"
   ]
  },
  {
   "cell_type": "code",
   "execution_count": 42,
   "metadata": {},
   "outputs": [],
   "source": [
    "dictChains = Dict(\"Update\" => newChain, \"NUTS\" => chain_t_inc , \"True\" => prior_chain);"
   ]
  },
  {
   "cell_type": "code",
   "execution_count": 43,
   "metadata": {},
   "outputs": [],
   "source": [
    "dictColor = Dict(\"Update\" => \"C1\", \"NUTS\" => \"C2\" , \"True\" => \"k\");"
   ]
  },
  {
   "cell_type": "code",
   "execution_count": 44,
   "metadata": {},
   "outputs": [
    {
     "data": {
      "image/png": "[encoded data removed]",
      "text/plain": [
       "PyPlot.Figure(PyObject <Figure size 3600x2400 with 1 Axes>)"
      ]
     },
     "metadata": {},
     "output_type": "display_data"
    }
   ],
   "source": [
    "plt.figure(figsize=(12,8),dpi=300)\n",
    "for (i,sym) in enumerate(chain_t_inc.name_map.parameters)\n",
    "    for (k,v) in dictChains\n",
    "        if sym in v.name_map.parameters\n",
    "            if k != \"True\"\n",
    "                # compute statistics\n",
    "                samples = collect(Iterators.flatten(v[sym].data))\n",
    "                mean = dist.mean(samples)\n",
    "                std = dist.std(samples)\n",
    "                \n",
    "                # plot errorbars\n",
    "                plt.errorbar(x=i,y=mean,yerr=std,fmt=\"o\",color=dictColor[k],alpha=0.7)\n",
    "            else \n",
    "                # plot true\n",
    "                plt.scatter([i],v[sym].data[1,:],color=\"k\",marker=\"+\")\n",
    "            end\n",
    "        end        \n",
    "    \n",
    "    end\n",
    "end\n",
    "# add labels\n",
    "for (ckey,cvalue) in dictColor\n",
    "    plt.plot([],[],label=ckey,color=cvalue)\n",
    "end\n",
    "plt.legend()\n",
    "\n",
    "# ticks\n",
    "plt.xticks(1:length(chain_t_inc.name_map.parameters), chain_t_inc.name_map.parameters, rotation=\"vertical\")\n",
    "\n",
    "plt.show()"
   ]
  },
  {
   "cell_type": "markdown",
   "metadata": {},
   "source": [
    "The performance of both algorithms is similar as all estimates are within a fraction of the corresponding standard deviations."
   ]
  },
  {
   "cell_type": "markdown",
   "metadata": {},
   "source": [
    "## Repeated updates <a name=\"loop\"></a>\n",
    "We investigate the repeated use of the online update over a time series."
   ]
  },
  {
   "cell_type": "code",
   "execution_count": 45,
   "metadata": {},
   "outputs": [
    {
     "data": {
      "text/plain": [
       "Dict{Any, Any}()"
      ]
     },
     "execution_count": 45,
     "metadata": {},
     "output_type": "execute_result"
    }
   ],
   "source": [
    "chainDict = Dict()"
   ]
  },
  {
   "cell_type": "code",
   "execution_count": 46,
   "metadata": {},
   "outputs": [
    {
     "data": {
      "text/plain": [
       "Turing.Inference.SMC{(), AdvancedPS.ResampleWithESSThreshold{typeof(AdvancedPS.resample_systematic), Float64}}(AdvancedPS.ResampleWithESSThreshold{typeof(AdvancedPS.resample_systematic), Float64}(AdvancedPS.resample_systematic, 0.5))"
      ]
     },
     "execution_count": 46,
     "metadata": {},
     "output_type": "execute_result"
    }
   ],
   "source": [
    "smc = tur.SMC()"
   ]
  },
  {
   "cell_type": "code",
   "execution_count": 47,
   "metadata": {},
   "outputs": [
    {
     "name": "stdout",
     "output_type": "stream",
     "text": [
      "NUTS at 1\n",
      "SMC at 1\n"
     ]
    },
    {
     "name": "stderr",
     "output_type": "stream",
     "text": [
      "┌ Warning: Only a single thread available: MCMC chains are not sampled in parallel\n",
      "└ @ AbstractMCMC /home/konstantin/.julia/packages/AbstractMCMC/BPJCW/src/sample.jl:291\n",
      "┌ Info: Found initial step size\n",
      "│   ϵ = 3.2\n",
      "└ @ Turing.Inference /home/konstantin/.julia/packages/Turing/uMQmD/src/inference/hmc.jl:188\n",
      "┌ Info: Found initial step size\n",
      "│   ϵ = 1.6\n",
      "└ @ Turing.Inference /home/konstantin/.julia/packages/Turing/uMQmD/src/inference/hmc.jl:188\n",
      "┌ Warning: Only a single thread available: MCMC chains are not sampled in parallel\n",
      "└ @ AbstractMCMC /home/konstantin/.julia/packages/AbstractMCMC/BPJCW/src/sample.jl:291\n"
     ]
    },
    {
     "name": "stdout",
     "output_type": "stream",
     "text": [
      "NUTS at 2\n",
      "Online at 2\n"
     ]
    },
    {
     "name": "stderr",
     "output_type": "stream",
     "text": [
      "┌ Warning: Only a single thread available: MCMC chains are not sampled in parallel\n",
      "└ @ AbstractMCMC /home/konstantin/.julia/packages/AbstractMCMC/BPJCW/src/sample.jl:291\n",
      "┌ Info: Found initial step size\n",
      "│   ϵ = 0.8\n",
      "└ @ Turing.Inference /home/konstantin/.julia/packages/Turing/uMQmD/src/inference/hmc.jl:188\n",
      "┌ Info: Found initial step size\n",
      "│   ϵ = 0.8\n",
      "└ @ Turing.Inference /home/konstantin/.julia/packages/Turing/uMQmD/src/inference/hmc.jl:188\n"
     ]
    },
    {
     "name": "stdout",
     "output_type": "stream",
     "text": [
      "SMC at 2\n",
      "NUTS at 3.\n"
     ]
    },
    {
     "name": "stderr",
     "output_type": "stream",
     "text": [
      "┌ Warning: Only a single thread available: MCMC chains are not sampled in parallel\n",
      "└ @ AbstractMCMC /home/konstantin/.julia/packages/AbstractMCMC/BPJCW/src/sample.jl:291\n",
      "┌ Warning: Only a single thread available: MCMC chains are not sampled in parallel\n",
      "└ @ AbstractMCMC /home/konstantin/.julia/packages/AbstractMCMC/BPJCW/src/sample.jl:291\n",
      "┌ Info: Found initial step size\n",
      "│   ϵ = 0.05\n",
      "└ @ Turing.Inference /home/konstantin/.julia/packages/Turing/uMQmD/src/inference/hmc.jl:188\n",
      "┌ Info: Found initial step size\n",
      "│   ϵ = 0.8\n",
      "└ @ Turing.Inference /home/konstantin/.julia/packages/Turing/uMQmD/src/inference/hmc.jl:188\n"
     ]
    },
    {
     "name": "stdout",
     "output_type": "stream",
     "text": [
      "Online at 3\n",
      "SMC at 3\n",
      "NUTS at 4.\n",
      "Online at 4\n"
     ]
    },
    {
     "name": "stderr",
     "output_type": "stream",
     "text": [
      "┌ Warning: Only a single thread available: MCMC chains are not sampled in parallel\n",
      "└ @ AbstractMCMC /home/konstantin/.julia/packages/AbstractMCMC/BPJCW/src/sample.jl:291\n",
      "┌ Warning: Only a single thread available: MCMC chains are not sampled in parallel\n",
      "└ @ AbstractMCMC /home/konstantin/.julia/packages/AbstractMCMC/BPJCW/src/sample.jl:291\n",
      "┌ Info: Found initial step size\n",
      "│   ϵ = 0.8\n",
      "└ @ Turing.Inference /home/konstantin/.julia/packages/Turing/uMQmD/src/inference/hmc.jl:188\n",
      "┌ Info: Found initial step size\n",
      "│   ϵ = 1.6\n",
      "└ @ Turing.Inference /home/konstantin/.julia/packages/Turing/uMQmD/src/inference/hmc.jl:188\n"
     ]
    },
    {
     "name": "stdout",
     "output_type": "stream",
     "text": [
      "SMC at 4\n",
      "NUTS at 5.\n",
      "Online at 5\n"
     ]
    },
    {
     "name": "stderr",
     "output_type": "stream",
     "text": [
      "┌ Warning: Only a single thread available: MCMC chains are not sampled in parallel\n",
      "└ @ AbstractMCMC /home/konstantin/.julia/packages/AbstractMCMC/BPJCW/src/sample.jl:291\n",
      "┌ Warning: Only a single thread available: MCMC chains are not sampled in parallel\n",
      "└ @ AbstractMCMC /home/konstantin/.julia/packages/AbstractMCMC/BPJCW/src/sample.jl:291\n",
      "┌ Info: Found initial step size\n",
      "│   ϵ = 1.6\n",
      "└ @ Turing.Inference /home/konstantin/.julia/packages/Turing/uMQmD/src/inference/hmc.jl:188\n",
      "┌ Info: Found initial step size\n",
      "│   ϵ = 0.8\n",
      "└ @ Turing.Inference /home/konstantin/.julia/packages/Turing/uMQmD/src/inference/hmc.jl:188\n"
     ]
    },
    {
     "name": "stdout",
     "output_type": "stream",
     "text": [
      "SMC at 5\n",
      "NUTS at 6.\n"
     ]
    },
    {
     "name": "stderr",
     "output_type": "stream",
     "text": [
      "┌ Warning: Only a single thread available: MCMC chains are not sampled in parallel\n",
      "└ @ AbstractMCMC /home/konstantin/.julia/packages/AbstractMCMC/BPJCW/src/sample.jl:291\n",
      "┌ Warning: Only a single thread available: MCMC chains are not sampled in parallel\n",
      "└ @ AbstractMCMC /home/konstantin/.julia/packages/AbstractMCMC/BPJCW/src/sample.jl:291\n",
      "┌ Info: Found initial step size\n",
      "│   ϵ = 0.8\n",
      "└ @ Turing.Inference /home/konstantin/.julia/packages/Turing/uMQmD/src/inference/hmc.jl:188\n",
      "┌ Info: Found initial step size\n",
      "│   ϵ = 0.8\n",
      "└ @ Turing.Inference /home/konstantin/.julia/packages/Turing/uMQmD/src/inference/hmc.jl:188\n"
     ]
    },
    {
     "name": "stdout",
     "output_type": "stream",
     "text": [
      "Online at 6\n",
      "SMC at 6\n",
      "NUTS at 7.\n"
     ]
    },
    {
     "name": "stderr",
     "output_type": "stream",
     "text": [
      "┌ Warning: Only a single thread available: MCMC chains are not sampled in parallel\n",
      "└ @ AbstractMCMC /home/konstantin/.julia/packages/AbstractMCMC/BPJCW/src/sample.jl:291\n",
      "┌ Warning: Only a single thread available: MCMC chains are not sampled in parallel\n",
      "└ @ AbstractMCMC /home/konstantin/.julia/packages/AbstractMCMC/BPJCW/src/sample.jl:291\n",
      "┌ Info: Found initial step size\n",
      "│   ϵ = 1.6\n",
      "└ @ Turing.Inference /home/konstantin/.julia/packages/Turing/uMQmD/src/inference/hmc.jl:188\n",
      "┌ Info: Found initial step size\n",
      "│   ϵ = 0.8\n",
      "└ @ Turing.Inference /home/konstantin/.julia/packages/Turing/uMQmD/src/inference/hmc.jl:188\n"
     ]
    },
    {
     "name": "stdout",
     "output_type": "stream",
     "text": [
      "Online at 7\n",
      "SMC at 7\n",
      "NUTS at 8.\n"
     ]
    },
    {
     "name": "stderr",
     "output_type": "stream",
     "text": [
      "┌ Warning: Only a single thread available: MCMC chains are not sampled in parallel\n",
      "└ @ AbstractMCMC /home/konstantin/.julia/packages/AbstractMCMC/BPJCW/src/sample.jl:291\n",
      "┌ Warning: Only a single thread available: MCMC chains are not sampled in parallel\n",
      "└ @ AbstractMCMC /home/konstantin/.julia/packages/AbstractMCMC/BPJCW/src/sample.jl:291\n",
      "┌ Info: Found initial step size\n",
      "│   ϵ = 1.6\n",
      "└ @ Turing.Inference /home/konstantin/.julia/packages/Turing/uMQmD/src/inference/hmc.jl:188\n",
      "┌ Info: Found initial step size\n",
      "│   ϵ = 1.6\n",
      "└ @ Turing.Inference /home/konstantin/.julia/packages/Turing/uMQmD/src/inference/hmc.jl:188\n"
     ]
    },
    {
     "name": "stdout",
     "output_type": "stream",
     "text": [
      "Online at 8\n",
      "SMC at 8\n",
      "NUTS at 9.\n"
     ]
    },
    {
     "name": "stderr",
     "output_type": "stream",
     "text": [
      "┌ Warning: Only a single thread available: MCMC chains are not sampled in parallel\n",
      "└ @ AbstractMCMC /home/konstantin/.julia/packages/AbstractMCMC/BPJCW/src/sample.jl:291\n",
      "┌ Warning: Only a single thread available: MCMC chains are not sampled in parallel\n",
      "└ @ AbstractMCMC /home/konstantin/.julia/packages/AbstractMCMC/BPJCW/src/sample.jl:291\n",
      "┌ Info: Found initial step size\n",
      "│   ϵ = 0.4\n",
      "└ @ Turing.Inference /home/konstantin/.julia/packages/Turing/uMQmD/src/inference/hmc.jl:188\n",
      "┌ Info: Found initial step size\n",
      "│   ϵ = 0.4\n",
      "└ @ Turing.Inference /home/konstantin/.julia/packages/Turing/uMQmD/src/inference/hmc.jl:188\n"
     ]
    },
    {
     "name": "stdout",
     "output_type": "stream",
     "text": [
      "Online at 9\n",
      "SMC at 9\n"
     ]
    },
    {
     "name": "stderr",
     "output_type": "stream",
     "text": [
      "┌ Warning: Only a single thread available: MCMC chains are not sampled in parallel\n",
      "└ @ AbstractMCMC /home/konstantin/.julia/packages/AbstractMCMC/BPJCW/src/sample.jl:291\n"
     ]
    },
    {
     "name": "stdout",
     "output_type": "stream",
     "text": [
      "NUTS at 10.\n",
      "Online at 10\n"
     ]
    },
    {
     "name": "stderr",
     "output_type": "stream",
     "text": [
      "┌ Warning: Only a single thread available: MCMC chains are not sampled in parallel\n",
      "└ @ AbstractMCMC /home/konstantin/.julia/packages/AbstractMCMC/BPJCW/src/sample.jl:291\n",
      "┌ Info: Found initial step size\n",
      "│   ϵ = 1.6\n",
      "└ @ Turing.Inference /home/konstantin/.julia/packages/Turing/uMQmD/src/inference/hmc.jl:188\n",
      "┌ Info: Found initial step size\n",
      "│   ϵ = 0.05\n",
      "└ @ Turing.Inference /home/konstantin/.julia/packages/Turing/uMQmD/src/inference/hmc.jl:188\n"
     ]
    },
    {
     "name": "stdout",
     "output_type": "stream",
     "text": [
      "SMC at 10\n",
      "NUTS at 11.\n"
     ]
    },
    {
     "name": "stderr",
     "output_type": "stream",
     "text": [
      "┌ Warning: Only a single thread available: MCMC chains are not sampled in parallel\n",
      "└ @ AbstractMCMC /home/konstantin/.julia/packages/AbstractMCMC/BPJCW/src/sample.jl:291\n",
      "┌ Warning: Only a single thread available: MCMC chains are not sampled in parallel\n",
      "└ @ AbstractMCMC /home/konstantin/.julia/packages/AbstractMCMC/BPJCW/src/sample.jl:291\n",
      "┌ Info: Found initial step size\n",
      "│   ϵ = 0.4\n",
      "└ @ Turing.Inference /home/konstantin/.julia/packages/Turing/uMQmD/src/inference/hmc.jl:188\n",
      "┌ Info: Found initial step size\n",
      "│   ϵ = 0.2\n",
      "└ @ Turing.Inference /home/konstantin/.julia/packages/Turing/uMQmD/src/inference/hmc.jl:188\n"
     ]
    },
    {
     "name": "stdout",
     "output_type": "stream",
     "text": [
      "Online at 11\n",
      "SMC at 11\n",
      "NUTS at 12.\n"
     ]
    },
    {
     "name": "stderr",
     "output_type": "stream",
     "text": [
      "┌ Warning: Only a single thread available: MCMC chains are not sampled in parallel\n",
      "└ @ AbstractMCMC /home/konstantin/.julia/packages/AbstractMCMC/BPJCW/src/sample.jl:291\n",
      "┌ Warning: Only a single thread available: MCMC chains are not sampled in parallel\n",
      "└ @ AbstractMCMC /home/konstantin/.julia/packages/AbstractMCMC/BPJCW/src/sample.jl:291\n"
     ]
    },
    {
     "name": "stdout",
     "output_type": "stream",
     "text": [
      "Online at 12\n"
     ]
    },
    {
     "name": "stderr",
     "output_type": "stream",
     "text": [
      "┌ Info: Found initial step size\n",
      "│   ϵ = 0.4\n",
      "└ @ Turing.Inference /home/konstantin/.julia/packages/Turing/uMQmD/src/inference/hmc.jl:188\n",
      "┌ Info: Found initial step size\n",
      "│   ϵ = 0.8\n",
      "└ @ Turing.Inference /home/konstantin/.julia/packages/Turing/uMQmD/src/inference/hmc.jl:188\n"
     ]
    },
    {
     "name": "stdout",
     "output_type": "stream",
     "text": [
      "SMC at 12\n",
      "NUTS at 13.\n"
     ]
    },
    {
     "name": "stderr",
     "output_type": "stream",
     "text": [
      "┌ Warning: Only a single thread available: MCMC chains are not sampled in parallel\n",
      "└ @ AbstractMCMC /home/konstantin/.julia/packages/AbstractMCMC/BPJCW/src/sample.jl:291\n",
      "┌ Warning: Only a single thread available: MCMC chains are not sampled in parallel\n",
      "└ @ AbstractMCMC /home/konstantin/.julia/packages/AbstractMCMC/BPJCW/src/sample.jl:291\n",
      "┌ Info: Found initial step size\n",
      "│   ϵ = 0.8\n",
      "└ @ Turing.Inference /home/konstantin/.julia/packages/Turing/uMQmD/src/inference/hmc.jl:188\n",
      "┌ Info: Found initial step size\n",
      "│   ϵ = 0.8\n",
      "└ @ Turing.Inference /home/konstantin/.julia/packages/Turing/uMQmD/src/inference/hmc.jl:188\n"
     ]
    },
    {
     "name": "stdout",
     "output_type": "stream",
     "text": [
      "Online at 13\n",
      "SMC at 13\n"
     ]
    },
    {
     "name": "stderr",
     "output_type": "stream",
     "text": [
      "┌ Warning: Only a single thread available: MCMC chains are not sampled in parallel\n",
      "└ @ AbstractMCMC /home/konstantin/.julia/packages/AbstractMCMC/BPJCW/src/sample.jl:291\n"
     ]
    },
    {
     "name": "stdout",
     "output_type": "stream",
     "text": [
      "NUTS at 14.\n"
     ]
    },
    {
     "name": "stderr",
     "output_type": "stream",
     "text": [
      "┌ Warning: Only a single thread available: MCMC chains are not sampled in parallel\n",
      "└ @ AbstractMCMC /home/konstantin/.julia/packages/AbstractMCMC/BPJCW/src/sample.jl:291\n",
      "┌ Info: Found initial step size\n",
      "│   ϵ = 0.4\n",
      "└ @ Turing.Inference /home/konstantin/.julia/packages/Turing/uMQmD/src/inference/hmc.jl:188\n",
      "┌ Info: Found initial step size\n",
      "│   ϵ = 0.8\n",
      "└ @ Turing.Inference /home/konstantin/.julia/packages/Turing/uMQmD/src/inference/hmc.jl:188\n"
     ]
    },
    {
     "name": "stdout",
     "output_type": "stream",
     "text": [
      "Online at 14\n",
      "SMC at 14\n",
      "NUTS at 15.\n"
     ]
    },
    {
     "name": "stderr",
     "output_type": "stream",
     "text": [
      "┌ Warning: Only a single thread available: MCMC chains are not sampled in parallel\n",
      "└ @ AbstractMCMC /home/konstantin/.julia/packages/AbstractMCMC/BPJCW/src/sample.jl:291\n",
      "┌ Warning: Only a single thread available: MCMC chains are not sampled in parallel\n",
      "└ @ AbstractMCMC /home/konstantin/.julia/packages/AbstractMCMC/BPJCW/src/sample.jl:291\n",
      "┌ Info: Found initial step size\n",
      "│   ϵ = 0.80625\n",
      "└ @ Turing.Inference /home/konstantin/.julia/packages/Turing/uMQmD/src/inference/hmc.jl:188\n",
      "┌ Info: Found initial step size\n",
      "│   ϵ = 0.8\n",
      "└ @ Turing.Inference /home/konstantin/.julia/packages/Turing/uMQmD/src/inference/hmc.jl:188\n"
     ]
    },
    {
     "name": "stdout",
     "output_type": "stream",
     "text": [
      "Online at 15\n",
      "SMC at 15\n",
      "NUTS at 16.\n"
     ]
    },
    {
     "name": "stderr",
     "output_type": "stream",
     "text": [
      "┌ Warning: Only a single thread available: MCMC chains are not sampled in parallel\n",
      "└ @ AbstractMCMC /home/konstantin/.julia/packages/AbstractMCMC/BPJCW/src/sample.jl:291\n",
      "┌ Warning: Only a single thread available: MCMC chains are not sampled in parallel\n",
      "└ @ AbstractMCMC /home/konstantin/.julia/packages/AbstractMCMC/BPJCW/src/sample.jl:291\n",
      "┌ Info: Found initial step size\n",
      "│   ϵ = 0.2\n",
      "└ @ Turing.Inference /home/konstantin/.julia/packages/Turing/uMQmD/src/inference/hmc.jl:188\n",
      "┌ Info: Found initial step size\n",
      "│   ϵ = 0.8\n",
      "└ @ Turing.Inference /home/konstantin/.julia/packages/Turing/uMQmD/src/inference/hmc.jl:188\n"
     ]
    },
    {
     "name": "stdout",
     "output_type": "stream",
     "text": [
      "Online at 16\n",
      "SMC at 16\n",
      "NUTS at 17.\n"
     ]
    },
    {
     "name": "stderr",
     "output_type": "stream",
     "text": [
      "┌ Warning: Only a single thread available: MCMC chains are not sampled in parallel\n",
      "└ @ AbstractMCMC /home/konstantin/.julia/packages/AbstractMCMC/BPJCW/src/sample.jl:291\n",
      "┌ Warning: Only a single thread available: MCMC chains are not sampled in parallel\n",
      "└ @ AbstractMCMC /home/konstantin/.julia/packages/AbstractMCMC/BPJCW/src/sample.jl:291\n",
      "┌ Info: Found initial step size\n",
      "│   ϵ = 1.6\n",
      "└ @ Turing.Inference /home/konstantin/.julia/packages/Turing/uMQmD/src/inference/hmc.jl:188\n",
      "┌ Info: Found initial step size\n",
      "│   ϵ = 0.8\n",
      "└ @ Turing.Inference /home/konstantin/.julia/packages/Turing/uMQmD/src/inference/hmc.jl:188\n"
     ]
    },
    {
     "name": "stdout",
     "output_type": "stream",
     "text": [
      "Online at 17\n",
      "SMC at 17\n",
      "NUTS at 18.\n"
     ]
    },
    {
     "name": "stderr",
     "output_type": "stream",
     "text": [
      "┌ Warning: Only a single thread available: MCMC chains are not sampled in parallel\n",
      "└ @ AbstractMCMC /home/konstantin/.julia/packages/AbstractMCMC/BPJCW/src/sample.jl:291\n",
      "┌ Warning: Only a single thread available: MCMC chains are not sampled in parallel\n",
      "└ @ AbstractMCMC /home/konstantin/.julia/packages/AbstractMCMC/BPJCW/src/sample.jl:291\n",
      "┌ Info: Found initial step size\n",
      "│   ϵ = 0.8\n",
      "└ @ Turing.Inference /home/konstantin/.julia/packages/Turing/uMQmD/src/inference/hmc.jl:188\n",
      "┌ Info: Found initial step size\n",
      "│   ϵ = 0.2\n",
      "└ @ Turing.Inference /home/konstantin/.julia/packages/Turing/uMQmD/src/inference/hmc.jl:188\n"
     ]
    },
    {
     "name": "stdout",
     "output_type": "stream",
     "text": [
      "Online at 18\n",
      "SMC at 18\n",
      "NUTS at 19.\n"
     ]
    },
    {
     "name": "stderr",
     "output_type": "stream",
     "text": [
      "┌ Warning: Only a single thread available: MCMC chains are not sampled in parallel\n",
      "└ @ AbstractMCMC /home/konstantin/.julia/packages/AbstractMCMC/BPJCW/src/sample.jl:291\n",
      "┌ Warning: Only a single thread available: MCMC chains are not sampled in parallel\n",
      "└ @ AbstractMCMC /home/konstantin/.julia/packages/AbstractMCMC/BPJCW/src/sample.jl:291\n",
      "┌ Info: Found initial step size\n",
      "│   ϵ = 0.8\n",
      "└ @ Turing.Inference /home/konstantin/.julia/packages/Turing/uMQmD/src/inference/hmc.jl:188\n",
      "┌ Info: Found initial step size\n",
      "│   ϵ = 0.8\n",
      "└ @ Turing.Inference /home/konstantin/.julia/packages/Turing/uMQmD/src/inference/hmc.jl:188\n"
     ]
    },
    {
     "name": "stdout",
     "output_type": "stream",
     "text": [
      "Online at 19\n",
      "SMC at 19\n",
      "NUTS at 20.\n"
     ]
    },
    {
     "name": "stderr",
     "output_type": "stream",
     "text": [
      "┌ Warning: Only a single thread available: MCMC chains are not sampled in parallel\n",
      "└ @ AbstractMCMC /home/konstantin/.julia/packages/AbstractMCMC/BPJCW/src/sample.jl:291\n",
      "┌ Warning: Only a single thread available: MCMC chains are not sampled in parallel\n",
      "└ @ AbstractMCMC /home/konstantin/.julia/packages/AbstractMCMC/BPJCW/src/sample.jl:291\n",
      "┌ Info: Found initial step size\n",
      "│   ϵ = 0.8\n",
      "└ @ Turing.Inference /home/konstantin/.julia/packages/Turing/uMQmD/src/inference/hmc.jl:188\n",
      "┌ Info: Found initial step size\n",
      "│   ϵ = 0.4\n",
      "└ @ Turing.Inference /home/konstantin/.julia/packages/Turing/uMQmD/src/inference/hmc.jl:188\n"
     ]
    },
    {
     "name": "stdout",
     "output_type": "stream",
     "text": [
      "Online at 20\n",
      "SMC at 20\n",
      "NUTS at 21.\n"
     ]
    },
    {
     "name": "stderr",
     "output_type": "stream",
     "text": [
      "┌ Warning: Only a single thread available: MCMC chains are not sampled in parallel\n",
      "└ @ AbstractMCMC /home/konstantin/.julia/packages/AbstractMCMC/BPJCW/src/sample.jl:291\n",
      "┌ Warning: Only a single thread available: MCMC chains are not sampled in parallel\n",
      "└ @ AbstractMCMC /home/konstantin/.julia/packages/AbstractMCMC/BPJCW/src/sample.jl:291\n",
      "┌ Info: Found initial step size\n",
      "│   ϵ = 1.6\n",
      "└ @ Turing.Inference /home/konstantin/.julia/packages/Turing/uMQmD/src/inference/hmc.jl:188\n",
      "┌ Info: Found initial step size\n",
      "│   ϵ = 0.4\n",
      "└ @ Turing.Inference /home/konstantin/.julia/packages/Turing/uMQmD/src/inference/hmc.jl:188\n"
     ]
    },
    {
     "name": "stdout",
     "output_type": "stream",
     "text": [
      "Online at 21\n",
      "SMC at 21\n",
      "NUTS at 22.\n"
     ]
    },
    {
     "name": "stderr",
     "output_type": "stream",
     "text": [
      "┌ Warning: Only a single thread available: MCMC chains are not sampled in parallel\n",
      "└ @ AbstractMCMC /home/konstantin/.julia/packages/AbstractMCMC/BPJCW/src/sample.jl:291\n",
      "┌ Warning: Only a single thread available: MCMC chains are not sampled in parallel\n",
      "└ @ AbstractMCMC /home/konstantin/.julia/packages/AbstractMCMC/BPJCW/src/sample.jl:291\n",
      "┌ Info: Found initial step size\n",
      "│   ϵ = 0.4\n",
      "└ @ Turing.Inference /home/konstantin/.julia/packages/Turing/uMQmD/src/inference/hmc.jl:188\n",
      "┌ Info: Found initial step size\n",
      "│   ϵ = 0.8\n",
      "└ @ Turing.Inference /home/konstantin/.julia/packages/Turing/uMQmD/src/inference/hmc.jl:188\n"
     ]
    },
    {
     "name": "stdout",
     "output_type": "stream",
     "text": [
      "Online at 22\n",
      "SMC at 22\n",
      "NUTS at 23.\n"
     ]
    },
    {
     "name": "stderr",
     "output_type": "stream",
     "text": [
      "┌ Warning: Only a single thread available: MCMC chains are not sampled in parallel\n",
      "└ @ AbstractMCMC /home/konstantin/.julia/packages/AbstractMCMC/BPJCW/src/sample.jl:291\n",
      "┌ Warning: Only a single thread available: MCMC chains are not sampled in parallel\n",
      "└ @ AbstractMCMC /home/konstantin/.julia/packages/AbstractMCMC/BPJCW/src/sample.jl:291\n",
      "┌ Info: Found initial step size\n",
      "│   ϵ = 0.8\n",
      "└ @ Turing.Inference /home/konstantin/.julia/packages/Turing/uMQmD/src/inference/hmc.jl:188\n",
      "┌ Info: Found initial step size\n",
      "│   ϵ = 0.2\n",
      "└ @ Turing.Inference /home/konstantin/.julia/packages/Turing/uMQmD/src/inference/hmc.jl:188\n"
     ]
    },
    {
     "name": "stdout",
     "output_type": "stream",
     "text": [
      "Online at 23\n",
      "SMC at 23\n",
      "NUTS at 24.\n"
     ]
    },
    {
     "name": "stderr",
     "output_type": "stream",
     "text": [
      "┌ Warning: Only a single thread available: MCMC chains are not sampled in parallel\n",
      "└ @ AbstractMCMC /home/konstantin/.julia/packages/AbstractMCMC/BPJCW/src/sample.jl:291\n",
      "┌ Warning: Only a single thread available: MCMC chains are not sampled in parallel\n",
      "└ @ AbstractMCMC /home/konstantin/.julia/packages/AbstractMCMC/BPJCW/src/sample.jl:291\n",
      "┌ Info: Found initial step size\n",
      "│   ϵ = 0.2\n",
      "└ @ Turing.Inference /home/konstantin/.julia/packages/Turing/uMQmD/src/inference/hmc.jl:188\n",
      "┌ Info: Found initial step size\n",
      "│   ϵ = 0.4\n",
      "└ @ Turing.Inference /home/konstantin/.julia/packages/Turing/uMQmD/src/inference/hmc.jl:188\n"
     ]
    },
    {
     "name": "stdout",
     "output_type": "stream",
     "text": [
      "Online at 24\n",
      "SMC at 24\n",
      "NUTS at 25.\n"
     ]
    },
    {
     "name": "stderr",
     "output_type": "stream",
     "text": [
      "┌ Warning: Only a single thread available: MCMC chains are not sampled in parallel\n",
      "└ @ AbstractMCMC /home/konstantin/.julia/packages/AbstractMCMC/BPJCW/src/sample.jl:291\n",
      "┌ Warning: Only a single thread available: MCMC chains are not sampled in parallel\n",
      "└ @ AbstractMCMC /home/konstantin/.julia/packages/AbstractMCMC/BPJCW/src/sample.jl:291\n",
      "┌ Info: Found initial step size\n",
      "│   ϵ = 0.2\n",
      "└ @ Turing.Inference /home/konstantin/.julia/packages/Turing/uMQmD/src/inference/hmc.jl:188\n",
      "┌ Info: Found initial step size\n",
      "│   ϵ = 0.2\n",
      "└ @ Turing.Inference /home/konstantin/.julia/packages/Turing/uMQmD/src/inference/hmc.jl:188\n"
     ]
    },
    {
     "name": "stdout",
     "output_type": "stream",
     "text": [
      "Online at 25\n",
      "SMC at 25\n",
      "NUTS at 26.\n"
     ]
    },
    {
     "name": "stderr",
     "output_type": "stream",
     "text": [
      "┌ Warning: Only a single thread available: MCMC chains are not sampled in parallel\n",
      "└ @ AbstractMCMC /home/konstantin/.julia/packages/AbstractMCMC/BPJCW/src/sample.jl:291\n",
      "┌ Warning: Only a single thread available: MCMC chains are not sampled in parallel\n",
      "└ @ AbstractMCMC /home/konstantin/.julia/packages/AbstractMCMC/BPJCW/src/sample.jl:291\n",
      "┌ Info: Found initial step size\n",
      "│   ϵ = 0.2\n",
      "└ @ Turing.Inference /home/konstantin/.julia/packages/Turing/uMQmD/src/inference/hmc.jl:188\n",
      "┌ Info: Found initial step size\n",
      "│   ϵ = 0.4\n",
      "└ @ Turing.Inference /home/konstantin/.julia/packages/Turing/uMQmD/src/inference/hmc.jl:188\n"
     ]
    },
    {
     "name": "stdout",
     "output_type": "stream",
     "text": [
      "Online at 26\n",
      "SMC at 26\n",
      "NUTS at 27.\n"
     ]
    },
    {
     "name": "stderr",
     "output_type": "stream",
     "text": [
      "┌ Warning: Only a single thread available: MCMC chains are not sampled in parallel\n",
      "└ @ AbstractMCMC /home/konstantin/.julia/packages/AbstractMCMC/BPJCW/src/sample.jl:291\n",
      "┌ Warning: Only a single thread available: MCMC chains are not sampled in parallel\n",
      "└ @ AbstractMCMC /home/konstantin/.julia/packages/AbstractMCMC/BPJCW/src/sample.jl:291\n",
      "┌ Info: Found initial step size\n",
      "│   ϵ = 0.8\n",
      "└ @ Turing.Inference /home/konstantin/.julia/packages/Turing/uMQmD/src/inference/hmc.jl:188\n",
      "┌ Info: Found initial step size\n",
      "│   ϵ = 0.4\n",
      "└ @ Turing.Inference /home/konstantin/.julia/packages/Turing/uMQmD/src/inference/hmc.jl:188\n"
     ]
    },
    {
     "name": "stdout",
     "output_type": "stream",
     "text": [
      "Online at 27\n",
      "SMC at 27\n",
      "NUTS at 28.\n"
     ]
    },
    {
     "name": "stderr",
     "output_type": "stream",
     "text": [
      "┌ Warning: Only a single thread available: MCMC chains are not sampled in parallel\n",
      "└ @ AbstractMCMC /home/konstantin/.julia/packages/AbstractMCMC/BPJCW/src/sample.jl:291\n",
      "┌ Warning: Only a single thread available: MCMC chains are not sampled in parallel\n",
      "└ @ AbstractMCMC /home/konstantin/.julia/packages/AbstractMCMC/BPJCW/src/sample.jl:291\n",
      "┌ Info: Found initial step size\n",
      "│   ϵ = 0.4\n",
      "└ @ Turing.Inference /home/konstantin/.julia/packages/Turing/uMQmD/src/inference/hmc.jl:188\n",
      "┌ Info: Found initial step size\n",
      "│   ϵ = 0.2\n",
      "└ @ Turing.Inference /home/konstantin/.julia/packages/Turing/uMQmD/src/inference/hmc.jl:188\n"
     ]
    },
    {
     "name": "stdout",
     "output_type": "stream",
     "text": [
      "Online at 28\n",
      "SMC at 28\n",
      "NUTS at 29.\n"
     ]
    },
    {
     "name": "stderr",
     "output_type": "stream",
     "text": [
      "┌ Warning: Only a single thread available: MCMC chains are not sampled in parallel\n",
      "└ @ AbstractMCMC /home/konstantin/.julia/packages/AbstractMCMC/BPJCW/src/sample.jl:291\n",
      "┌ Warning: Only a single thread available: MCMC chains are not sampled in parallel\n",
      "└ @ AbstractMCMC /home/konstantin/.julia/packages/AbstractMCMC/BPJCW/src/sample.jl:291\n",
      "┌ Info: Found initial step size\n",
      "│   ϵ = 0.4\n",
      "└ @ Turing.Inference /home/konstantin/.julia/packages/Turing/uMQmD/src/inference/hmc.jl:188\n",
      "┌ Info: Found initial step size\n",
      "│   ϵ = 0.4\n",
      "└ @ Turing.Inference /home/konstantin/.julia/packages/Turing/uMQmD/src/inference/hmc.jl:188\n"
     ]
    },
    {
     "name": "stdout",
     "output_type": "stream",
     "text": [
      "Online at 29\n",
      "SMC at 29\n",
      "NUTS at 30.\n"
     ]
    },
    {
     "name": "stderr",
     "output_type": "stream",
     "text": [
      "┌ Warning: Only a single thread available: MCMC chains are not sampled in parallel\n",
      "└ @ AbstractMCMC /home/konstantin/.julia/packages/AbstractMCMC/BPJCW/src/sample.jl:291\n",
      "┌ Warning: Only a single thread available: MCMC chains are not sampled in parallel\n",
      "└ @ AbstractMCMC /home/konstantin/.julia/packages/AbstractMCMC/BPJCW/src/sample.jl:291\n",
      "┌ Info: Found initial step size\n",
      "│   ϵ = 0.8\n",
      "└ @ Turing.Inference /home/konstantin/.julia/packages/Turing/uMQmD/src/inference/hmc.jl:188\n",
      "┌ Info: Found initial step size\n",
      "│   ϵ = 0.2\n",
      "└ @ Turing.Inference /home/konstantin/.julia/packages/Turing/uMQmD/src/inference/hmc.jl:188\n"
     ]
    },
    {
     "name": "stdout",
     "output_type": "stream",
     "text": [
      "Online at 30\n",
      "SMC at 30\n",
      "NUTS at 31.\n"
     ]
    },
    {
     "name": "stderr",
     "output_type": "stream",
     "text": [
      "┌ Warning: Only a single thread available: MCMC chains are not sampled in parallel\n",
      "└ @ AbstractMCMC /home/konstantin/.julia/packages/AbstractMCMC/BPJCW/src/sample.jl:291\n",
      "┌ Warning: Only a single thread available: MCMC chains are not sampled in parallel\n",
      "└ @ AbstractMCMC /home/konstantin/.julia/packages/AbstractMCMC/BPJCW/src/sample.jl:291\n",
      "┌ Info: Found initial step size\n",
      "│   ϵ = 0.2\n",
      "└ @ Turing.Inference /home/konstantin/.julia/packages/Turing/uMQmD/src/inference/hmc.jl:188\n",
      "┌ Info: Found initial step size\n",
      "│   ϵ = 0.025\n",
      "└ @ Turing.Inference /home/konstantin/.julia/packages/Turing/uMQmD/src/inference/hmc.jl:188\n"
     ]
    },
    {
     "name": "stdout",
     "output_type": "stream",
     "text": [
      "Online at 31\n",
      "SMC at 31\n"
     ]
    },
    {
     "name": "stderr",
     "output_type": "stream",
     "text": [
      "┌ Warning: Only a single thread available: MCMC chains are not sampled in parallel\n",
      "└ @ AbstractMCMC /home/konstantin/.julia/packages/AbstractMCMC/BPJCW/src/sample.jl:291\n"
     ]
    },
    {
     "name": "stdout",
     "output_type": "stream",
     "text": [
      "NUTS at 32.\n"
     ]
    },
    {
     "name": "stderr",
     "output_type": "stream",
     "text": [
      "┌ Warning: Only a single thread available: MCMC chains are not sampled in parallel\n",
      "└ @ AbstractMCMC /home/konstantin/.julia/packages/AbstractMCMC/BPJCW/src/sample.jl:291\n",
      "┌ Info: Found initial step size\n",
      "│   ϵ = 0.2\n",
      "└ @ Turing.Inference /home/konstantin/.julia/packages/Turing/uMQmD/src/inference/hmc.jl:188\n",
      "┌ Info: Found initial step size\n",
      "│   ϵ = 0.8\n",
      "└ @ Turing.Inference /home/konstantin/.julia/packages/Turing/uMQmD/src/inference/hmc.jl:188\n"
     ]
    },
    {
     "name": "stdout",
     "output_type": "stream",
     "text": [
      "Online at 32\n",
      "SMC at 32\n",
      "NUTS at 33.\n"
     ]
    },
    {
     "name": "stderr",
     "output_type": "stream",
     "text": [
      "┌ Warning: Only a single thread available: MCMC chains are not sampled in parallel\n",
      "└ @ AbstractMCMC /home/konstantin/.julia/packages/AbstractMCMC/BPJCW/src/sample.jl:291\n",
      "┌ Warning: Only a single thread available: MCMC chains are not sampled in parallel\n",
      "└ @ AbstractMCMC /home/konstantin/.julia/packages/AbstractMCMC/BPJCW/src/sample.jl:291\n",
      "┌ Info: Found initial step size\n",
      "│   ϵ = 0.4\n",
      "└ @ Turing.Inference /home/konstantin/.julia/packages/Turing/uMQmD/src/inference/hmc.jl:188\n",
      "┌ Info: Found initial step size\n",
      "│   ϵ = 0.2\n",
      "└ @ Turing.Inference /home/konstantin/.julia/packages/Turing/uMQmD/src/inference/hmc.jl:188\n"
     ]
    },
    {
     "name": "stdout",
     "output_type": "stream",
     "text": [
      "Online at 33\n",
      "SMC at 33\n"
     ]
    },
    {
     "name": "stderr",
     "output_type": "stream",
     "text": [
      "┌ Warning: Only a single thread available: MCMC chains are not sampled in parallel\n",
      "└ @ AbstractMCMC /home/konstantin/.julia/packages/AbstractMCMC/BPJCW/src/sample.jl:291\n"
     ]
    },
    {
     "name": "stdout",
     "output_type": "stream",
     "text": [
      "NUTS at 34.\n"
     ]
    },
    {
     "name": "stderr",
     "output_type": "stream",
     "text": [
      "┌ Warning: Only a single thread available: MCMC chains are not sampled in parallel\n",
      "└ @ AbstractMCMC /home/konstantin/.julia/packages/AbstractMCMC/BPJCW/src/sample.jl:291\n",
      "┌ Info: Found initial step size\n",
      "│   ϵ = 0.8\n",
      "└ @ Turing.Inference /home/konstantin/.julia/packages/Turing/uMQmD/src/inference/hmc.jl:188\n",
      "┌ Info: Found initial step size\n",
      "│   ϵ = 0.8\n",
      "└ @ Turing.Inference /home/konstantin/.julia/packages/Turing/uMQmD/src/inference/hmc.jl:188\n"
     ]
    },
    {
     "name": "stdout",
     "output_type": "stream",
     "text": [
      "Online at 34\n",
      "SMC at 34\n"
     ]
    },
    {
     "name": "stderr",
     "output_type": "stream",
     "text": [
      "┌ Warning: Only a single thread available: MCMC chains are not sampled in parallel\n",
      "└ @ AbstractMCMC /home/konstantin/.julia/packages/AbstractMCMC/BPJCW/src/sample.jl:291\n"
     ]
    },
    {
     "name": "stdout",
     "output_type": "stream",
     "text": [
      "NUTS at 35.\n"
     ]
    },
    {
     "name": "stderr",
     "output_type": "stream",
     "text": [
      "┌ Warning: Only a single thread available: MCMC chains are not sampled in parallel\n",
      "└ @ AbstractMCMC /home/konstantin/.julia/packages/AbstractMCMC/BPJCW/src/sample.jl:291\n",
      "┌ Info: Found initial step size\n",
      "│   ϵ = 0.2\n",
      "└ @ Turing.Inference /home/konstantin/.julia/packages/Turing/uMQmD/src/inference/hmc.jl:188\n",
      "┌ Info: Found initial step size\n",
      "│   ϵ = 0.2\n",
      "└ @ Turing.Inference /home/konstantin/.julia/packages/Turing/uMQmD/src/inference/hmc.jl:188\n"
     ]
    },
    {
     "name": "stdout",
     "output_type": "stream",
     "text": [
      "Online at 35\n",
      "SMC at 35\n"
     ]
    },
    {
     "name": "stderr",
     "output_type": "stream",
     "text": [
      "┌ Warning: Only a single thread available: MCMC chains are not sampled in parallel\n",
      "└ @ AbstractMCMC /home/konstantin/.julia/packages/AbstractMCMC/BPJCW/src/sample.jl:291\n"
     ]
    },
    {
     "name": "stdout",
     "output_type": "stream",
     "text": [
      "NUTS at 36.\n"
     ]
    },
    {
     "name": "stderr",
     "output_type": "stream",
     "text": [
      "┌ Warning: Only a single thread available: MCMC chains are not sampled in parallel\n",
      "└ @ AbstractMCMC /home/konstantin/.julia/packages/AbstractMCMC/BPJCW/src/sample.jl:291\n",
      "┌ Info: Found initial step size\n",
      "│   ϵ = 0.4\n",
      "└ @ Turing.Inference /home/konstantin/.julia/packages/Turing/uMQmD/src/inference/hmc.jl:188\n",
      "┌ Info: Found initial step size\n",
      "│   ϵ = 0.2\n",
      "└ @ Turing.Inference /home/konstantin/.julia/packages/Turing/uMQmD/src/inference/hmc.jl:188\n"
     ]
    },
    {
     "name": "stdout",
     "output_type": "stream",
     "text": [
      "Online at 36\n",
      "SMC at 36\n"
     ]
    },
    {
     "name": "stderr",
     "output_type": "stream",
     "text": [
      "┌ Warning: Only a single thread available: MCMC chains are not sampled in parallel\n",
      "└ @ AbstractMCMC /home/konstantin/.julia/packages/AbstractMCMC/BPJCW/src/sample.jl:291\n"
     ]
    },
    {
     "name": "stdout",
     "output_type": "stream",
     "text": [
      "NUTS at 37.\n"
     ]
    },
    {
     "name": "stderr",
     "output_type": "stream",
     "text": [
      "┌ Warning: Only a single thread available: MCMC chains are not sampled in parallel\n",
      "└ @ AbstractMCMC /home/konstantin/.julia/packages/AbstractMCMC/BPJCW/src/sample.jl:291\n",
      "┌ Info: Found initial step size\n",
      "│   ϵ = 0.8\n",
      "└ @ Turing.Inference /home/konstantin/.julia/packages/Turing/uMQmD/src/inference/hmc.jl:188\n",
      "┌ Info: Found initial step size\n",
      "│   ϵ = 0.4\n",
      "└ @ Turing.Inference /home/konstantin/.julia/packages/Turing/uMQmD/src/inference/hmc.jl:188\n"
     ]
    },
    {
     "name": "stdout",
     "output_type": "stream",
     "text": [
      "Online at 37\n",
      "SMC at 37\n"
     ]
    },
    {
     "name": "stderr",
     "output_type": "stream",
     "text": [
      "┌ Warning: Only a single thread available: MCMC chains are not sampled in parallel\n",
      "└ @ AbstractMCMC /home/konstantin/.julia/packages/AbstractMCMC/BPJCW/src/sample.jl:291\n"
     ]
    },
    {
     "name": "stdout",
     "output_type": "stream",
     "text": [
      "NUTS at 38.\n"
     ]
    },
    {
     "name": "stderr",
     "output_type": "stream",
     "text": [
      "┌ Warning: Only a single thread available: MCMC chains are not sampled in parallel\n",
      "└ @ AbstractMCMC /home/konstantin/.julia/packages/AbstractMCMC/BPJCW/src/sample.jl:291\n",
      "┌ Info: Found initial step size\n",
      "│   ϵ = 0.2\n",
      "└ @ Turing.Inference /home/konstantin/.julia/packages/Turing/uMQmD/src/inference/hmc.jl:188\n",
      "┌ Info: Found initial step size\n",
      "│   ϵ = 0.4\n",
      "└ @ Turing.Inference /home/konstantin/.julia/packages/Turing/uMQmD/src/inference/hmc.jl:188\n"
     ]
    },
    {
     "name": "stdout",
     "output_type": "stream",
     "text": [
      "Online at 38\n",
      "SMC at 38\n"
     ]
    },
    {
     "name": "stderr",
     "output_type": "stream",
     "text": [
      "┌ Warning: Only a single thread available: MCMC chains are not sampled in parallel\n",
      "└ @ AbstractMCMC /home/konstantin/.julia/packages/AbstractMCMC/BPJCW/src/sample.jl:291\n"
     ]
    },
    {
     "name": "stdout",
     "output_type": "stream",
     "text": [
      "NUTS at 39.\n"
     ]
    },
    {
     "name": "stderr",
     "output_type": "stream",
     "text": [
      "┌ Warning: Only a single thread available: MCMC chains are not sampled in parallel\n",
      "└ @ AbstractMCMC /home/konstantin/.julia/packages/AbstractMCMC/BPJCW/src/sample.jl:291\n",
      "┌ Info: Found initial step size\n",
      "│   ϵ = 0.2\n",
      "└ @ Turing.Inference /home/konstantin/.julia/packages/Turing/uMQmD/src/inference/hmc.jl:188\n",
      "┌ Info: Found initial step size\n",
      "│   ϵ = 0.2\n",
      "└ @ Turing.Inference /home/konstantin/.julia/packages/Turing/uMQmD/src/inference/hmc.jl:188\n"
     ]
    },
    {
     "name": "stdout",
     "output_type": "stream",
     "text": [
      "Online at 39\n",
      "SMC at 39\n"
     ]
    },
    {
     "name": "stderr",
     "output_type": "stream",
     "text": [
      "┌ Warning: Only a single thread available: MCMC chains are not sampled in parallel\n",
      "└ @ AbstractMCMC /home/konstantin/.julia/packages/AbstractMCMC/BPJCW/src/sample.jl:291\n"
     ]
    },
    {
     "name": "stdout",
     "output_type": "stream",
     "text": [
      "NUTS at 40.\n"
     ]
    },
    {
     "name": "stderr",
     "output_type": "stream",
     "text": [
      "┌ Warning: Only a single thread available: MCMC chains are not sampled in parallel\n",
      "└ @ AbstractMCMC /home/konstantin/.julia/packages/AbstractMCMC/BPJCW/src/sample.jl:291\n",
      "┌ Info: Found initial step size\n",
      "│   ϵ = 0.8\n",
      "└ @ Turing.Inference /home/konstantin/.julia/packages/Turing/uMQmD/src/inference/hmc.jl:188\n",
      "┌ Info: Found initial step size\n",
      "│   ϵ = 0.2\n",
      "└ @ Turing.Inference /home/konstantin/.julia/packages/Turing/uMQmD/src/inference/hmc.jl:188\n"
     ]
    },
    {
     "name": "stdout",
     "output_type": "stream",
     "text": [
      "Online at 40\n",
      "SMC at 40\n"
     ]
    },
    {
     "name": "stderr",
     "output_type": "stream",
     "text": [
      "┌ Warning: Only a single thread available: MCMC chains are not sampled in parallel\n",
      "└ @ AbstractMCMC /home/konstantin/.julia/packages/AbstractMCMC/BPJCW/src/sample.jl:291\n"
     ]
    },
    {
     "name": "stdout",
     "output_type": "stream",
     "text": [
      "NUTS at 41.\n"
     ]
    },
    {
     "name": "stderr",
     "output_type": "stream",
     "text": [
      "┌ Warning: Only a single thread available: MCMC chains are not sampled in parallel\n",
      "└ @ AbstractMCMC /home/konstantin/.julia/packages/AbstractMCMC/BPJCW/src/sample.jl:291\n",
      "┌ Info: Found initial step size\n",
      "│   ϵ = 0.2\n",
      "└ @ Turing.Inference /home/konstantin/.julia/packages/Turing/uMQmD/src/inference/hmc.jl:188\n",
      "┌ Info: Found initial step size\n",
      "│   ϵ = 0.2\n",
      "└ @ Turing.Inference /home/konstantin/.julia/packages/Turing/uMQmD/src/inference/hmc.jl:188\n"
     ]
    },
    {
     "name": "stdout",
     "output_type": "stream",
     "text": [
      "Online at 41\n",
      "SMC at 41\n"
     ]
    },
    {
     "name": "stderr",
     "output_type": "stream",
     "text": [
      "┌ Warning: Only a single thread available: MCMC chains are not sampled in parallel\n",
      "└ @ AbstractMCMC /home/konstantin/.julia/packages/AbstractMCMC/BPJCW/src/sample.jl:291\n"
     ]
    },
    {
     "name": "stdout",
     "output_type": "stream",
     "text": [
      "NUTS at 42.\n"
     ]
    },
    {
     "name": "stderr",
     "output_type": "stream",
     "text": [
      "┌ Warning: Only a single thread available: MCMC chains are not sampled in parallel\n",
      "└ @ AbstractMCMC /home/konstantin/.julia/packages/AbstractMCMC/BPJCW/src/sample.jl:291\n",
      "┌ Info: Found initial step size\n",
      "│   ϵ = 0.2\n",
      "└ @ Turing.Inference /home/konstantin/.julia/packages/Turing/uMQmD/src/inference/hmc.jl:188\n",
      "┌ Info: Found initial step size\n",
      "│   ϵ = 0.8\n",
      "└ @ Turing.Inference /home/konstantin/.julia/packages/Turing/uMQmD/src/inference/hmc.jl:188\n"
     ]
    },
    {
     "name": "stdout",
     "output_type": "stream",
     "text": [
      "Online at 42\n",
      "SMC at 42\n"
     ]
    },
    {
     "name": "stderr",
     "output_type": "stream",
     "text": [
      "┌ Warning: Only a single thread available: MCMC chains are not sampled in parallel\n",
      "└ @ AbstractMCMC /home/konstantin/.julia/packages/AbstractMCMC/BPJCW/src/sample.jl:291\n"
     ]
    },
    {
     "name": "stdout",
     "output_type": "stream",
     "text": [
      "NUTS at 43.\n"
     ]
    },
    {
     "name": "stderr",
     "output_type": "stream",
     "text": [
      "┌ Warning: Only a single thread available: MCMC chains are not sampled in parallel\n",
      "└ @ AbstractMCMC /home/konstantin/.julia/packages/AbstractMCMC/BPJCW/src/sample.jl:291\n",
      "┌ Info: Found initial step size\n",
      "│   ϵ = 0.4\n",
      "└ @ Turing.Inference /home/konstantin/.julia/packages/Turing/uMQmD/src/inference/hmc.jl:188\n",
      "┌ Info: Found initial step size\n",
      "│   ϵ = 0.4\n",
      "└ @ Turing.Inference /home/konstantin/.julia/packages/Turing/uMQmD/src/inference/hmc.jl:188\n"
     ]
    },
    {
     "name": "stdout",
     "output_type": "stream",
     "text": [
      "Online at 43\n",
      "SMC at 43\n"
     ]
    },
    {
     "name": "stderr",
     "output_type": "stream",
     "text": [
      "┌ Warning: Only a single thread available: MCMC chains are not sampled in parallel\n",
      "└ @ AbstractMCMC /home/konstantin/.julia/packages/AbstractMCMC/BPJCW/src/sample.jl:291\n"
     ]
    },
    {
     "name": "stdout",
     "output_type": "stream",
     "text": [
      "NUTS at 44.\n"
     ]
    },
    {
     "name": "stderr",
     "output_type": "stream",
     "text": [
      "┌ Warning: Only a single thread available: MCMC chains are not sampled in parallel\n",
      "└ @ AbstractMCMC /home/konstantin/.julia/packages/AbstractMCMC/BPJCW/src/sample.jl:291\n",
      "┌ Info: Found initial step size\n",
      "│   ϵ = 0.8\n",
      "└ @ Turing.Inference /home/konstantin/.julia/packages/Turing/uMQmD/src/inference/hmc.jl:188\n",
      "┌ Info: Found initial step size\n",
      "│   ϵ = 0.2\n",
      "└ @ Turing.Inference /home/konstantin/.julia/packages/Turing/uMQmD/src/inference/hmc.jl:188\n"
     ]
    },
    {
     "name": "stdout",
     "output_type": "stream",
     "text": [
      "Online at 44\n",
      "SMC at 44\n"
     ]
    },
    {
     "name": "stderr",
     "output_type": "stream",
     "text": [
      "┌ Warning: Only a single thread available: MCMC chains are not sampled in parallel\n",
      "└ @ AbstractMCMC /home/konstantin/.julia/packages/AbstractMCMC/BPJCW/src/sample.jl:291\n"
     ]
    },
    {
     "name": "stdout",
     "output_type": "stream",
     "text": [
      "NUTS at 45.\n"
     ]
    },
    {
     "name": "stderr",
     "output_type": "stream",
     "text": [
      "┌ Warning: Only a single thread available: MCMC chains are not sampled in parallel\n",
      "└ @ AbstractMCMC /home/konstantin/.julia/packages/AbstractMCMC/BPJCW/src/sample.jl:291\n",
      "┌ Info: Found initial step size\n",
      "│   ϵ = 0.4\n",
      "└ @ Turing.Inference /home/konstantin/.julia/packages/Turing/uMQmD/src/inference/hmc.jl:188\n",
      "┌ Info: Found initial step size\n",
      "│   ϵ = 0.05\n",
      "└ @ Turing.Inference /home/konstantin/.julia/packages/Turing/uMQmD/src/inference/hmc.jl:188\n"
     ]
    },
    {
     "name": "stdout",
     "output_type": "stream",
     "text": [
      "Online at 45\n",
      "SMC at 45\n"
     ]
    },
    {
     "name": "stderr",
     "output_type": "stream",
     "text": [
      "┌ Warning: Only a single thread available: MCMC chains are not sampled in parallel\n",
      "└ @ AbstractMCMC /home/konstantin/.julia/packages/AbstractMCMC/BPJCW/src/sample.jl:291\n"
     ]
    },
    {
     "name": "stdout",
     "output_type": "stream",
     "text": [
      "NUTS at 46.\n"
     ]
    },
    {
     "name": "stderr",
     "output_type": "stream",
     "text": [
      "┌ Warning: Only a single thread available: MCMC chains are not sampled in parallel\n",
      "└ @ AbstractMCMC /home/konstantin/.julia/packages/AbstractMCMC/BPJCW/src/sample.jl:291\n",
      "┌ Info: Found initial step size\n",
      "│   ϵ = 0.4\n",
      "└ @ Turing.Inference /home/konstantin/.julia/packages/Turing/uMQmD/src/inference/hmc.jl:188\n",
      "┌ Info: Found initial step size\n",
      "│   ϵ = 0.05\n",
      "└ @ Turing.Inference /home/konstantin/.julia/packages/Turing/uMQmD/src/inference/hmc.jl:188\n"
     ]
    },
    {
     "name": "stdout",
     "output_type": "stream",
     "text": [
      "Online at 46\n",
      "SMC at 46\n"
     ]
    },
    {
     "name": "stderr",
     "output_type": "stream",
     "text": [
      "┌ Warning: Only a single thread available: MCMC chains are not sampled in parallel\n",
      "└ @ AbstractMCMC /home/konstantin/.julia/packages/AbstractMCMC/BPJCW/src/sample.jl:291\n"
     ]
    },
    {
     "name": "stdout",
     "output_type": "stream",
     "text": [
      "NUTS at 47.\n"
     ]
    },
    {
     "name": "stderr",
     "output_type": "stream",
     "text": [
      "┌ Warning: Only a single thread available: MCMC chains are not sampled in parallel\n",
      "└ @ AbstractMCMC /home/konstantin/.julia/packages/AbstractMCMC/BPJCW/src/sample.jl:291\n",
      "┌ Info: Found initial step size\n",
      "│   ϵ = 0.2\n",
      "└ @ Turing.Inference /home/konstantin/.julia/packages/Turing/uMQmD/src/inference/hmc.jl:188\n",
      "┌ Info: Found initial step size\n",
      "│   ϵ = 0.8\n",
      "└ @ Turing.Inference /home/konstantin/.julia/packages/Turing/uMQmD/src/inference/hmc.jl:188\n"
     ]
    },
    {
     "name": "stdout",
     "output_type": "stream",
     "text": [
      "Online at 47\n",
      "SMC at 47\n"
     ]
    },
    {
     "name": "stderr",
     "output_type": "stream",
     "text": [
      "┌ Warning: Only a single thread available: MCMC chains are not sampled in parallel\n",
      "└ @ AbstractMCMC /home/konstantin/.julia/packages/AbstractMCMC/BPJCW/src/sample.jl:291\n"
     ]
    },
    {
     "name": "stdout",
     "output_type": "stream",
     "text": [
      "NUTS at 48.\n"
     ]
    },
    {
     "name": "stderr",
     "output_type": "stream",
     "text": [
      "┌ Warning: Only a single thread available: MCMC chains are not sampled in parallel\n",
      "└ @ AbstractMCMC /home/konstantin/.julia/packages/AbstractMCMC/BPJCW/src/sample.jl:291\n",
      "┌ Info: Found initial step size\n",
      "│   ϵ = 0.40625\n",
      "└ @ Turing.Inference /home/konstantin/.julia/packages/Turing/uMQmD/src/inference/hmc.jl:188\n",
      "┌ Info: Found initial step size\n",
      "│   ϵ = 0.8\n",
      "└ @ Turing.Inference /home/konstantin/.julia/packages/Turing/uMQmD/src/inference/hmc.jl:188\n"
     ]
    },
    {
     "name": "stdout",
     "output_type": "stream",
     "text": [
      "Online at 48\n",
      "SMC at 48\n"
     ]
    },
    {
     "name": "stderr",
     "output_type": "stream",
     "text": [
      "┌ Warning: Only a single thread available: MCMC chains are not sampled in parallel\n",
      "└ @ AbstractMCMC /home/konstantin/.julia/packages/AbstractMCMC/BPJCW/src/sample.jl:291\n"
     ]
    },
    {
     "name": "stdout",
     "output_type": "stream",
     "text": [
      "NUTS at 49.\n"
     ]
    },
    {
     "name": "stderr",
     "output_type": "stream",
     "text": [
      "┌ Warning: Only a single thread available: MCMC chains are not sampled in parallel\n",
      "└ @ AbstractMCMC /home/konstantin/.julia/packages/AbstractMCMC/BPJCW/src/sample.jl:291\n",
      "┌ Info: Found initial step size\n",
      "│   ϵ = 0.8\n",
      "└ @ Turing.Inference /home/konstantin/.julia/packages/Turing/uMQmD/src/inference/hmc.jl:188\n",
      "┌ Info: Found initial step size\n",
      "│   ϵ = 0.2\n",
      "└ @ Turing.Inference /home/konstantin/.julia/packages/Turing/uMQmD/src/inference/hmc.jl:188\n"
     ]
    },
    {
     "name": "stdout",
     "output_type": "stream",
     "text": [
      "Online at 49\n",
      "SMC at 49\n"
     ]
    },
    {
     "name": "stderr",
     "output_type": "stream",
     "text": [
      "┌ Warning: Only a single thread available: MCMC chains are not sampled in parallel\n",
      "└ @ AbstractMCMC /home/konstantin/.julia/packages/AbstractMCMC/BPJCW/src/sample.jl:291\n"
     ]
    },
    {
     "name": "stdout",
     "output_type": "stream",
     "text": [
      "NUTS at 50.\n"
     ]
    },
    {
     "name": "stderr",
     "output_type": "stream",
     "text": [
      "┌ Warning: Only a single thread available: MCMC chains are not sampled in parallel\n",
      "└ @ AbstractMCMC /home/konstantin/.julia/packages/AbstractMCMC/BPJCW/src/sample.jl:291\n",
      "┌ Info: Found initial step size\n",
      "│   ϵ = 0.4\n",
      "└ @ Turing.Inference /home/konstantin/.julia/packages/Turing/uMQmD/src/inference/hmc.jl:188\n",
      "┌ Info: Found initial step size\n",
      "│   ϵ = 0.2\n",
      "└ @ Turing.Inference /home/konstantin/.julia/packages/Turing/uMQmD/src/inference/hmc.jl:188\n"
     ]
    },
    {
     "name": "stdout",
     "output_type": "stream",
     "text": [
      "Online at 50\n",
      "SMC at 50\n"
     ]
    },
    {
     "name": "stderr",
     "output_type": "stream",
     "text": [
      "┌ Warning: Only a single thread available: MCMC chains are not sampled in parallel\n",
      "└ @ AbstractMCMC /home/konstantin/.julia/packages/AbstractMCMC/BPJCW/src/sample.jl:291\n"
     ]
    }
   ],
   "source": [
    "for (i,t) in enumerate(time)\n",
    "   \n",
    "    # set up model\n",
    "    model_t = GP(time[1:i],y[1:i],sqexp_cov_fn)\n",
    "    \n",
    "    if i == 1\n",
    "        println(\"NUTS at $i\")\n",
    "        chainDict[(i,\"NUTS\")] = tur.sample(model_t, NUTS, tur.MCMCThreads(), 100, num_chains; discard_adapt=true)\n",
    "        println(\"SMC at $i\")\n",
    "        chainDict[(i,\"SMC\")] = tur.sample(model_t, smc, tur.MCMCThreads(), 100, num_chains; discard_adapt=true)\n",
    "    elseif i ==2\n",
    "        println(\"NUTS at $i\")\n",
    "        chainDict[(i,\"NUTS\")] = tur.sample(model_t, NUTS, tur.MCMCThreads(), 100, num_chains; discard_adapt=true)\n",
    "        println(\"Online at $i\")\n",
    "        chainDict[(i,\"Online\")] = online.update(chainDict[(i-1,\"NUTS\")],model_t,tur.SMC(),rng)\n",
    "        println(\"SMC at $i\")\n",
    "        chainDict[(i,\"SMC\")] = tur.sample(model_t, smc, tur.MCMCThreads(), 100, num_chains; discard_adapt=true)\n",
    "    else\n",
    "        println(\"NUTS at $i.\")\n",
    "        chainDict[(i,\"NUTS\")] = tur.sample(model_t, NUTS, tur.MCMCThreads(), 100, num_chains; discard_adapt=true)\n",
    "        println(\"Online at $i\")\n",
    "        chainDict[(i,\"Online\")] = online.update(chainDict[(i-1,\"Online\")],model_t,tur.SMC(),rng)\n",
    "        println(\"SMC at $i\")\n",
    "        chainDict[(i,\"SMC\")] = tur.sample(model_t, smc, tur.MCMCThreads(), 100, num_chains; discard_adapt=true)\n",
    "    end\n",
    "end"
   ]
  },
  {
   "cell_type": "markdown",
   "metadata": {},
   "source": [
    "### Analysis"
   ]
  },
  {
   "cell_type": "code",
   "execution_count": 48,
   "metadata": {},
   "outputs": [
    {
     "data": {
      "text/plain": [
       "Dict{Any, Any} with 149 entries:\n",
       "  (15, \"SMC\")    => MCMC chain (100×5×2 Array{Float64, 3})\n",
       "  (41, \"NUTS\")   => MCMC chain (100×15×2 Array{Float64, 3})\n",
       "  (11, \"NUTS\")   => MCMC chain (100×15×2 Array{Float64, 3})\n",
       "  (36, \"NUTS\")   => MCMC chain (100×15×2 Array{Float64, 3})\n",
       "  (43, \"NUTS\")   => MCMC chain (100×15×2 Array{Float64, 3})\n",
       "  (47, \"Online\") => MCMC chain (100×5×2 Array{Float64, 3})\n",
       "  (48, \"SMC\")    => MCMC chain (100×5×2 Array{Float64, 3})\n",
       "  (14, \"Online\") => MCMC chain (100×5×2 Array{Float64, 3})\n",
       "  (3, \"Online\")  => MCMC chain (100×5×2 Array{Float64, 3})\n",
       "  (5, \"SMC\")     => MCMC chain (100×5×2 Array{Float64, 3})\n",
       "  (39, \"NUTS\")   => MCMC chain (100×15×2 Array{Float64, 3})\n",
       "  (35, \"SMC\")    => MCMC chain (100×5×2 Array{Float64, 3})\n",
       "  (7, \"NUTS\")    => MCMC chain (100×15×2 Array{Float64, 3})\n",
       "  (25, \"NUTS\")   => MCMC chain (100×15×2 Array{Float64, 3})\n",
       "  (33, \"Online\") => MCMC chain (100×5×2 Array{Float64, 3})\n",
       "  (30, \"SMC\")    => MCMC chain (100×5×2 Array{Float64, 3})\n",
       "  (40, \"Online\") => MCMC chain (100×5×2 Array{Float64, 3})\n",
       "  (32, \"SMC\")    => MCMC chain (100×5×2 Array{Float64, 3})\n",
       "  (34, \"NUTS\")   => MCMC chain (100×15×2 Array{Float64, 3})\n",
       "  (6, \"SMC\")     => MCMC chain (100×5×2 Array{Float64, 3})\n",
       "  (15, \"Online\") => MCMC chain (100×5×2 Array{Float64, 3})\n",
       "  (2, \"NUTS\")    => MCMC chain (100×15×2 Array{Float64, 3})\n",
       "  (10, \"NUTS\")   => MCMC chain (100×15×2 Array{Float64, 3})\n",
       "  (18, \"NUTS\")   => MCMC chain (100×15×2 Array{Float64, 3})\n",
       "  (26, \"NUTS\")   => MCMC chain (100×15×2 Array{Float64, 3})\n",
       "  ⋮              => ⋮"
      ]
     },
     "execution_count": 48,
     "metadata": {},
     "output_type": "execute_result"
    }
   ],
   "source": [
    "chainDict"
   ]
  },
  {
   "cell_type": "code",
   "execution_count": 49,
   "metadata": {},
   "outputs": [
    {
     "data": {
      "text/plain": [
       "plotEstimates (generic function with 1 method)"
      ]
     },
     "execution_count": 49,
     "metadata": {},
     "output_type": "execute_result"
    }
   ],
   "source": [
    "function plotEstimates(chainDict,name,prior_chain)\n",
    "    # time indices\n",
    "    times = sort(unique([t for (t,m) in keys(chainDict)]))\n",
    "    \n",
    "    colorDict = Dict(\"NUTS\" => \"C0\",\"Online\" => \"C1\",\"SMC\" => \"C2\")\n",
    "    jitter = 0.09\n",
    "    jitterDict = Dict(\"NUTS\" => -jitter,\"Online\" => 0.0,\"SMC\" => jitter)\n",
    "    \n",
    "    methods = [\"NUTS\",\"Online\",\"SMC\"]\n",
    "    \n",
    "    # extract values\n",
    "    for method in methods\n",
    "        for t in times\n",
    "            key = (t,method)           \n",
    "            if haskey(chainDict, key) && Symbol(name) in chainDict[key].name_map.parameters\n",
    "                samples = collect(Iterators.flatten(chainDict[key][Symbol(name)].data))                \n",
    "                mean = dist.mean(samples)\n",
    "                std = dist.std(samples)\n",
    "                \n",
    "                # pseudo x with jitter\n",
    "                x = t\n",
    "                x += jitterDict[method]\n",
    "\n",
    "                # plot errorbars\n",
    "                plt.errorbar(x=x,y=mean,yerr=std,fmt=\"o\",color=colorDict[method])\n",
    "            end\n",
    "        end    \n",
    "    end\n",
    "\n",
    "    # Add legend\n",
    "    for method in methods\n",
    "       plt.plot([],[],color=colorDict[method],label=method) \n",
    "    end    \n",
    "    \n",
    "    # Show true value\n",
    "    trueVal = prior_chain[Symbol(name)].data[1,1]\n",
    "    plt.plot(times,trueVal.*ones(length(times)),color=\"k\",label=\"True\")\n",
    "    plt.legend()\n",
    "    \n",
    "    # set labels\n",
    "    plt.ylabel(name)\n",
    "    plt.xlabel(\"Timestep\")\n",
    "    \n",
    "    return nothing\n",
    "end    "
   ]
  },
  {
   "cell_type": "code",
   "execution_count": 50,
   "metadata": {},
   "outputs": [
    {
     "data": {
      "image/png": "[encoded data removed]",
      "text/plain": [
       "PyPlot.Figure(PyObject <Figure size 640x480 with 1 Axes>)"
      ]
     },
     "metadata": {},
     "output_type": "display_data"
    }
   ],
   "source": [
    "plotEstimates(chainDict,\"mu\",prior_chain)"
   ]
  },
  {
   "cell_type": "code",
   "execution_count": 51,
   "metadata": {},
   "outputs": [
    {
     "data": {
      "image/png": "[encoded data removed]",
      "text/plain": [
       "PyPlot.Figure(PyObject <Figure size 640x480 with 1 Axes>)"
      ]
     },
     "metadata": {},
     "output_type": "display_data"
    }
   ],
   "source": [
    "plotEstimates(chainDict,\"sig2\",prior_chain)"
   ]
  },
  {
   "cell_type": "code",
   "execution_count": 52,
   "metadata": {},
   "outputs": [
    {
     "data": {
      "image/png": "[encoded data removed]",
      "text/plain": [
       "PyPlot.Figure(PyObject <Figure size 640x480 with 1 Axes>)"
      ]
     },
     "metadata": {},
     "output_type": "display_data"
    }
   ],
   "source": [
    "plotEstimates(chainDict,\"phi\",prior_chain)"
   ]
  },
  {
   "cell_type": "markdown",
   "metadata": {},
   "source": [
    "In general, the estimates of the online update agree with the ones of NUTS and the true value within one standard deviation. However, over repteated iterations there is a tendency to converge to narrow range of values. This degenaration could be rooted in the nature of the particle based methods."
   ]
  },
  {
   "cell_type": "code",
   "execution_count": 125,
   "metadata": {},
   "outputs": [
    {
     "data": {
      "text/plain": [
       "plotScores (generic function with 1 method)"
      ]
     },
     "execution_count": 125,
     "metadata": {},
     "output_type": "execute_result"
    }
   ],
   "source": [
    "function plotScores(chainDict,params,trueVals)\n",
    "    # time indices\n",
    "    times = sort(unique([t for (t,m) in keys(chainDict)]))\n",
    "    \n",
    "    colorDict = Dict(\"NUTS\" => \"C0\",\"Online\" => \"C1\",\"SMC\" => \"C2\")\n",
    "    jitter = 0.09\n",
    "    jitterDict = Dict(\"NUTS\" => -jitter,\"Online\" => 0.0,\"SMC\" => jitter)\n",
    "    \n",
    "    methods = [\"NUTS\",\"Online\",\"SMC\"]\n",
    "    \n",
    "    # extract values\n",
    "    for method in methods\n",
    "        for t in times\n",
    "            key = (t,method)           \n",
    "            if haskey(chainDict, key) \n",
    "                chain = chainDict[key]\n",
    "                score = scoring.getScore(chain,params,trueVals)\n",
    "                \n",
    "                # pseudo x with jitter\n",
    "                x = t\n",
    "                x += jitterDict[method]\n",
    "\n",
    "                # plot errorbars\n",
    "                plt.errorbar(x=x,y=score,fmt=\"o\",color=colorDict[method])\n",
    "            end\n",
    "        end    \n",
    "    end\n",
    "\n",
    "    # Add legend\n",
    "    for method in methods\n",
    "       plt.plot([],[],color=colorDict[method],label=method) \n",
    "    end  \n",
    "    plt.legend()\n",
    "    \n",
    "    # set labels\n",
    "    plt.ylabel(\"Score\")\n",
    "    plt.xlabel(\"Timestep\")\n",
    "    \n",
    "    return nothing\n",
    "end"
   ]
  },
  {
   "cell_type": "code",
   "execution_count": 126,
   "metadata": {},
   "outputs": [
    {
     "data": {
      "image/png": "[encoded data removed]",
      "text/plain": [
       "PyPlot.Figure(PyObject <Figure size 640x480 with 1 Axes>)"
      ]
     },
     "metadata": {},
     "output_type": "display_data"
    }
   ],
   "source": [
    "plotScores(chainDict,[:mu,:phi,:sig2],trueVals)"
   ]
  },
  {
   "cell_type": "markdown",
   "metadata": {},
   "source": [
    "## Summary <a name=\"sum\"></a>\n",
    "We could show that the online updates provided by the TuringOnline package offer a way to get estimates of similar quality, but in less time and with less memory consumption than rerunning the estimation with a reference algorithm like NUTS.\n",
    "\n",
    "For repteated usage there is the danger of the updated to converge to a narrow range after several updates, such that there may be a certain limit of steps after which one should refresh the estimates by a complete run of e.g. NUTS."
   ]
  },
  {
   "cell_type": "code",
   "execution_count": null,
   "metadata": {},
   "outputs": [],
   "source": []
  }
 ],
 "metadata": {
  "kernelspec": {
   "display_name": "Julia 1.6.2",
   "language": "julia",
   "name": "julia-1.6"
  },
  "language_info": {
   "file_extension": ".jl",
   "mimetype": "application/julia",
   "name": "julia",
   "version": "1.6.2"
  }
 },
 "nbformat": 4,
 "nbformat_minor": 4
}
