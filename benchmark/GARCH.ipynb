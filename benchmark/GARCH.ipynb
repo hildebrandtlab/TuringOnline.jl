{
 "cells": [
  {
   "cell_type": "markdown",
   "metadata": {},
   "source": [
    "# Demonstration of the TuringOnline package"
   ]
  },
  {
   "cell_type": "markdown",
   "metadata": {},
   "source": [
    "In this notebook we will provide a use case of the TuringOnline package in order to illustrate its benefits and to provide evidence for the correct working.\n",
    "\n",
    "The package aims to provide online updates of inferred parameter sets, given parameter samples from e.g. a MCMC algorithm and new, i.e. previously unseen data.\n",
    "\n",
    "The notebook is structured as follows:"
   ]
  },
  {
   "cell_type": "markdown",
   "metadata": {},
   "source": [
    "## Table of contents\n",
    "1. [Used packages](#import)\n",
    "1. [Model](#model)    \n",
    "1. [Data generation](#data)\n",
    "    1. [Independent variables](#data_indep)\n",
    "    1. [Dependent variables](#data_dep)\n",
    "    1. [Suitability of generated data](#data_suit)\n",
    "1. [Benchmark](#bench)\n",
    "    1. [Speed and memory consumption](#bench_speed)\n",
    "    1. [Accuracy](#bench_acc)\n",
    "1. [Repeated updates](#loop)\n",
    "1. [Summary](#sum)"
   ]
  },
  {
   "cell_type": "markdown",
   "metadata": {},
   "source": [
    "## Used packages <a name=\"import\"></a>"
   ]
  },
  {
   "cell_type": "code",
   "execution_count": 1,
   "metadata": {},
   "outputs": [],
   "source": [
    "import PyPlot as plt\n",
    "import Seaborn as sns\n",
    "import Pandas as pd"
   ]
  },
  {
   "cell_type": "code",
   "execution_count": 2,
   "metadata": {},
   "outputs": [],
   "source": [
    "import Random as rnd\n",
    "import Distributions as dist"
   ]
  },
  {
   "cell_type": "code",
   "execution_count": 3,
   "metadata": {},
   "outputs": [],
   "source": [
    "import Turing as tur"
   ]
  },
  {
   "cell_type": "code",
   "execution_count": 4,
   "metadata": {},
   "outputs": [],
   "source": [
    "import AdvancedPS as aps"
   ]
  },
  {
   "cell_type": "code",
   "execution_count": 5,
   "metadata": {},
   "outputs": [],
   "source": [
    "import DynamicPPL as ppl"
   ]
  },
  {
   "cell_type": "code",
   "execution_count": 6,
   "metadata": {},
   "outputs": [
    {
     "data": {
      "text/plain": [
       "MersenneTwister(1)"
      ]
     },
     "execution_count": 6,
     "metadata": {},
     "output_type": "execute_result"
    }
   ],
   "source": [
    "rng = rnd.seed!(1)"
   ]
  },
  {
   "cell_type": "code",
   "execution_count": 7,
   "metadata": {},
   "outputs": [],
   "source": [
    "include(\"../src/TuringOnline.jl\")\n",
    "using Revise\n",
    "import .online as online"
   ]
  },
  {
   "cell_type": "code",
   "execution_count": 235,
   "metadata": {},
   "outputs": [],
   "source": [
    "include(\"./scoring.jl\")\n",
    "import .scoring as scoring"
   ]
  },
  {
   "cell_type": "code",
   "execution_count": 8,
   "metadata": {},
   "outputs": [],
   "source": [
    "using BenchmarkTools"
   ]
  },
  {
   "cell_type": "code",
   "execution_count": 9,
   "metadata": {},
   "outputs": [],
   "source": [
    "using Suppressor"
   ]
  },
  {
   "cell_type": "markdown",
   "metadata": {},
   "source": [
    "## Model <a name=\"model\"></a>\n",
    "As a model we use a generalized additive linear model for a poisson-distributed random variable, e.g. cases of a disease in an epidemiological study."
   ]
  },
  {
   "cell_type": "code",
   "execution_count": 163,
   "metadata": {},
   "outputs": [
    {
     "data": {
      "text/plain": [
       "garch (generic function with 4 methods)"
      ]
     },
     "execution_count": 163,
     "metadata": {},
     "output_type": "execute_result"
    }
   ],
   "source": [
    "# The TV syntax allows sampling to be type-stable.\n",
    "tur.@model function garch(y)\n",
    "    T = length(y)\n",
    "\n",
    "    # Declare priors on parameters.\n",
    "    omega ~ dist.TruncatedNormal(0,1,0,Inf)\n",
    "    alpha ~ dist.TruncatedNormal(0,1,0,Inf)\n",
    "    beta ~ dist.TruncatedNormal(0,1,0,Inf)\n",
    "\n",
    "    # Initialize conditional variance vector.\n",
    "    #sigmaSquared =  ones(T)#Vector{Float64}(undef, T)\n",
    "\n",
    "    # Treat the first h as a parameter to estimate.\n",
    "    #sigmaSquared[1] ~ dist.Exponential(1)#dist.TruncatedNormal(0,1,0,Inf)\n",
    "    \n",
    "    sigmaSquared ~ tur.filldist(dist.Exponential(1),T)\n",
    "    \n",
    "    \n",
    "    # if y is missing, use a sample for y[1]\n",
    "    if y[1] === missing\n",
    "        y[1] ~dist.Normal(0, 1)\n",
    "    end\n",
    "    \n",
    "    # Observe each data point.\n",
    "    for t in 2:T\n",
    "        sigmaSquared[t] = omega + alpha * y[t-1]^2 + beta * sigmaSquared[t-1]\n",
    "        y[t] ~ dist.Normal(0, sqrt(sigmaSquared[t]))\n",
    "    end\n",
    "    \n",
    "    return (y=y,omega=omega,alpha=alpha,beta=beta)\n",
    "end"
   ]
  },
  {
   "cell_type": "code",
   "execution_count": 184,
   "metadata": {},
   "outputs": [],
   "source": [
    "missing_y =  fill(missing,50);"
   ]
  },
  {
   "cell_type": "code",
   "execution_count": 185,
   "metadata": {},
   "outputs": [
    {
     "data": {
      "text/plain": [
       "DynamicPPL.Model{typeof(garch), (:y,), (), (), Tuple{Vector{Missing}}, Tuple{}, DynamicPPL.DefaultContext}(:garch, garch, (y = [missing, missing, missing, missing, missing, missing, missing, missing, missing, missing  …  missing, missing, missing, missing, missing, missing, missing, missing, missing, missing],), NamedTuple(), DynamicPPL.DefaultContext())"
      ]
     },
     "execution_count": 185,
     "metadata": {},
     "output_type": "execute_result"
    }
   ],
   "source": [
    "m_missing_full = garch(missing_y)"
   ]
  },
  {
   "cell_type": "code",
   "execution_count": 186,
   "metadata": {},
   "outputs": [
    {
     "data": {
      "text/plain": [
       "Chains MCMC chain (2×104×1 Array{Float64, 3}):\n",
       "\n",
       "Iterations        = 1:1:2\n",
       "Number of chains  = 1\n",
       "Samples per chain = 2\n",
       "Wall duration     = 0.0 seconds\n",
       "Compute duration  = 0.0 seconds\n",
       "parameters        = omega, alpha, beta, sigmaSquared[1], sigmaSquared[2], sigmaSquared[3], sigmaSquared[4], sigmaSquared[5], sigmaSquared[6], sigmaSquared[7], sigmaSquared[8], sigmaSquared[9], sigmaSquared[10], sigmaSquared[11], sigmaSquared[12], sigmaSquared[13], sigmaSquared[14], sigmaSquared[15], sigmaSquared[16], sigmaSquared[17], sigmaSquared[18], sigmaSquared[19], sigmaSquared[20], sigmaSquared[21], sigmaSquared[22], sigmaSquared[23], sigmaSquared[24], sigmaSquared[25], sigmaSquared[26], sigmaSquared[27], sigmaSquared[28], sigmaSquared[29], sigmaSquared[30], sigmaSquared[31], sigmaSquared[32], sigmaSquared[33], sigmaSquared[34], sigmaSquared[35], sigmaSquared[36], sigmaSquared[37], sigmaSquared[38], sigmaSquared[39], sigmaSquared[40], sigmaSquared[41], sigmaSquared[42], sigmaSquared[43], sigmaSquared[44], sigmaSquared[45], sigmaSquared[46], sigmaSquared[47], sigmaSquared[48], sigmaSquared[49], sigmaSquared[50], y[1], y[2], y[3], y[4], y[5], y[6], y[7], y[8], y[9], y[10], y[11], y[12], y[13], y[14], y[15], y[16], y[17], y[18], y[19], y[20], y[21], y[22], y[23], y[24], y[25], y[26], y[27], y[28], y[29], y[30], y[31], y[32], y[33], y[34], y[35], y[36], y[37], y[38], y[39], y[40], y[41], y[42], y[43], y[44], y[45], y[46], y[47], y[48], y[49], y[50]\n",
       "internals         = lp\n",
       "\n",
       "Summary Statistics\n",
       " \u001b[1m       parameters \u001b[0m \u001b[1m    mean \u001b[0m \u001b[1m     std \u001b[0m \u001b[1m naive_se \u001b[0m \u001b[1m    mcse \u001b[0m \u001b[1m     ess \u001b[0m \u001b[1m    rha\u001b[0m ⋯\n",
       " \u001b[90m           Symbol \u001b[0m \u001b[90m Float64 \u001b[0m \u001b[90m Float64 \u001b[0m \u001b[90m  Float64 \u001b[0m \u001b[90m Float64 \u001b[0m \u001b[90m Missing \u001b[0m \u001b[90m Missin\u001b[0m ⋯\n",
       "\n",
       "             omega    0.6787    0.5131     0.3628    0.3628   missing   missin ⋯\n",
       "             alpha    0.7213    0.2608     0.1844    0.1844   missing   missin ⋯\n",
       "              beta    1.1883    0.2709     0.1915    0.1915   missing   missin ⋯\n",
       "   sigmaSquared[1]    0.6067    0.2487     0.1758    0.1758   missing   missin ⋯\n",
       "   sigmaSquared[2]    2.3156    1.8620     1.3166    1.3166   missing   missin ⋯\n",
       "   sigmaSquared[3]    0.6872    0.7941     0.5615    0.5615   missing   missin ⋯\n",
       "   sigmaSquared[4]    0.9094    0.5319     0.3761    0.3761   missing   missin ⋯\n",
       "   sigmaSquared[5]    0.3871    0.2864     0.2025    0.2025   missing   missin ⋯\n",
       "   sigmaSquared[6]    0.6583    0.5954     0.4210    0.4210   missing   missin ⋯\n",
       "   sigmaSquared[7]    0.9746    0.0682     0.0483    0.0483   missing   missin ⋯\n",
       "   sigmaSquared[8]    0.0885    0.0779     0.0551    0.0551   missing   missin ⋯\n",
       "   sigmaSquared[9]    0.9100    0.6474     0.4578    0.4578   missing   missin ⋯\n",
       "  sigmaSquared[10]    1.0109    1.4040     0.9928    0.9928   missing   missin ⋯\n",
       "  sigmaSquared[11]    0.4626    0.0191     0.0135    0.0135   missing   missin ⋯\n",
       "  sigmaSquared[12]    1.7352    0.9120     0.6449    0.6449   missing   missin ⋯\n",
       "  sigmaSquared[13]    1.2419    0.1892     0.1338    0.1338   missing   missin ⋯\n",
       "  sigmaSquared[14]    2.2358    0.1712     0.1210    0.1210   missing   missin ⋯\n",
       "  sigmaSquared[15]    0.3771    0.2364     0.1672    0.1672   missing   missin ⋯\n",
       "  sigmaSquared[16]    0.7859    0.0647     0.0458    0.0458   missing   missin ⋯\n",
       "  sigmaSquared[17]    1.2045    1.5685     1.1091    1.1091   missing   missin ⋯\n",
       "  sigmaSquared[18]    3.9859    1.5034     1.0631    1.0631   missing   missin ⋯\n",
       "  sigmaSquared[19]    1.3730    0.5776     0.4084    0.4084   missing   missin ⋯\n",
       "  sigmaSquared[20]    2.7923    2.0121     1.4228    1.4228   missing   missin ⋯\n",
       "         ⋮              ⋮         ⋮         ⋮          ⋮         ⋮         ⋮   ⋱\n",
       "\u001b[36m                                                   2 columns and 80 rows omitted\u001b[0m\n",
       "\n",
       "Quantiles\n",
       " \u001b[1m       parameters \u001b[0m \u001b[1m    2.5% \u001b[0m \u001b[1m   25.0% \u001b[0m \u001b[1m   50.0% \u001b[0m \u001b[1m   75.0% \u001b[0m \u001b[1m   97.5% \u001b[0m\n",
       " \u001b[90m           Symbol \u001b[0m \u001b[90m Float64 \u001b[0m \u001b[90m Float64 \u001b[0m \u001b[90m Float64 \u001b[0m \u001b[90m Float64 \u001b[0m \u001b[90m Float64 \u001b[0m\n",
       "\n",
       "             omega    0.3340    0.4973    0.6787    0.8601    1.0234\n",
       "             alpha    0.5461    0.6291    0.7213    0.8136    0.8965\n",
       "              beta    1.0063    1.0925    1.1883    1.2841    1.3703\n",
       "   sigmaSquared[1]    0.4396    0.5188    0.6067    0.6946    0.7737\n",
       "   sigmaSquared[2]    1.0648    1.6573    2.3156    2.9739    3.5664\n",
       "   sigmaSquared[3]    0.1537    0.4064    0.6872    0.9679    1.2206\n",
       "   sigmaSquared[4]    0.5521    0.7214    0.9094    1.0975    1.2668\n",
       "   sigmaSquared[5]    0.1947    0.2858    0.3871    0.4883    0.5795\n",
       "   sigmaSquared[6]    0.2584    0.4478    0.6583    0.8688    1.0582\n",
       "   sigmaSquared[7]    0.9288    0.9505    0.9746    0.9987    1.0205\n",
       "   sigmaSquared[8]    0.0362    0.0609    0.0885    0.1160    0.1408\n",
       "   sigmaSquared[9]    0.4750    0.6811    0.9100    1.1389    1.3449\n",
       "  sigmaSquared[10]    0.0677    0.5145    1.0109    1.5073    1.9540\n",
       "  sigmaSquared[11]    0.4498    0.4559    0.4626    0.4694    0.4754\n",
       "  sigmaSquared[12]    1.1225    1.4127    1.7352    2.0576    2.3478\n",
       "  sigmaSquared[13]    1.1148    1.1751    1.2419    1.3088    1.3691\n",
       "  sigmaSquared[14]    2.1209    2.1753    2.2358    2.2964    2.3508\n",
       "  sigmaSquared[15]    0.2183    0.2935    0.3771    0.4607    0.5359\n",
       "  sigmaSquared[16]    0.7425    0.7630    0.7859    0.8088    0.8294\n",
       "  sigmaSquared[17]    0.1509    0.6500    1.2045    1.7591    2.2582\n",
       "  sigmaSquared[18]    2.9760    3.4543    3.9859    4.5174    4.9958\n",
       "  sigmaSquared[19]    0.9851    1.1688    1.3730    1.5772    1.7610\n",
       "  sigmaSquared[20]    1.4406    2.0809    2.7923    3.5037    4.1440\n",
       "         ⋮              ⋮         ⋮         ⋮         ⋮         ⋮\n",
       "\u001b[36m                                                       80 rows omitted\u001b[0m\n"
      ]
     },
     "execution_count": 186,
     "metadata": {},
     "output_type": "execute_result"
    }
   ],
   "source": [
    "prior_chain = tur.sample(m_missing_full, tur.Prior(), 2)"
   ]
  },
  {
   "cell_type": "code",
   "execution_count": 187,
   "metadata": {},
   "outputs": [
    {
     "name": "stderr",
     "output_type": "stream",
     "text": [
      "┌ Warning: the following keys were not found in `vi`, and thus `kernel!` was not applied to these: [\"lp\"]\n",
      "└ @ DynamicPPL /home/konstantin/.julia/packages/DynamicPPL/RcfQU/src/varinfo.jl:1311\n",
      "┌ Warning: the following keys were not found in `vi`, and thus `kernel!` was not applied to these: [\"lp\"]\n",
      "└ @ DynamicPPL /home/konstantin/.julia/packages/DynamicPPL/RcfQU/src/varinfo.jl:1311\n"
     ]
    }
   ],
   "source": [
    "generated = tur.generated_quantities(m_missing_full, prior_chain);"
   ]
  },
  {
   "cell_type": "code",
   "execution_count": 188,
   "metadata": {},
   "outputs": [
    {
     "name": "stderr",
     "output_type": "stream",
     "text": [
      "┌ Warning: the following keys were not found in `vi`, and thus `kernel!` was not applied to these: [\"lp\"]\n",
      "└ @ DynamicPPL /home/konstantin/.julia/packages/DynamicPPL/RcfQU/src/varinfo.jl:1311\n",
      "┌ Warning: the following keys were not found in `vi`, and thus `kernel!` was not applied to these: [\"lp\"]\n",
      "└ @ DynamicPPL /home/konstantin/.julia/packages/DynamicPPL/RcfQU/src/varinfo.jl:1311\n"
     ]
    },
    {
     "data": {
      "text/plain": [
       "50-element Vector{Union{Missing, Float64}}:\n",
       "    0.944021060938173\n",
       "    3.12183929883927\n",
       "    0.4377714218182983\n",
       "   -3.727710638403744\n",
       "   10.853759020024174\n",
       "   31.98242451394792\n",
       "  -65.62450323203215\n",
       "   21.067177276378544\n",
       "  -31.635415580180737\n",
       "  -30.714659329100932\n",
       " -122.45224430859234\n",
       " -325.6807135413568\n",
       " -162.29827656297297\n",
       "    ⋮\n",
       "   -3.1430478766755234e6\n",
       "    3.420354992480873e6\n",
       "    2.471406057813204e6\n",
       "   -8.678673201396551e6\n",
       "   -2.2226010409674574e7\n",
       "    1.0436240575563641e7\n",
       "    7.414465938914223e7\n",
       "    3.2467732511675034e7\n",
       "   -7.34817547780769e7\n",
       "    1.9082188679649705e8\n",
       "   -3.674827033795938e7\n",
       "    4.5083700636743045e8"
      ]
     },
     "execution_count": 188,
     "metadata": {},
     "output_type": "execute_result"
    }
   ],
   "source": [
    "y = tur.generated_quantities(m_missing_full, prior_chain)[1][:y]"
   ]
  },
  {
   "cell_type": "code",
   "execution_count": 189,
   "metadata": {},
   "outputs": [
    {
     "data": {
      "text/plain": [
       "Dict{Any, Any}()"
      ]
     },
     "execution_count": 189,
     "metadata": {},
     "output_type": "execute_result"
    }
   ],
   "source": [
    "trueVals = Dict()"
   ]
  },
  {
   "cell_type": "code",
   "execution_count": 190,
   "metadata": {},
   "outputs": [
    {
     "data": {
      "text/plain": [
       "3-element Vector{Symbol}:\n",
       " :omega\n",
       " :alpha\n",
       " :beta"
      ]
     },
     "execution_count": 190,
     "metadata": {},
     "output_type": "execute_result"
    }
   ],
   "source": [
    "parameters = [:omega,:alpha,:beta]"
   ]
  },
  {
   "cell_type": "code",
   "execution_count": 191,
   "metadata": {},
   "outputs": [
    {
     "data": {
      "text/plain": [
       "Dict{Any, Any} with 3 entries:\n",
       "  :omega => 1.04155\n",
       "  :alpha => 0.905768\n",
       "  :beta  => 1.37983"
      ]
     },
     "execution_count": 191,
     "metadata": {},
     "output_type": "execute_result"
    }
   ],
   "source": [
    "@suppress begin\n",
    "\n",
    "for key in parameters\n",
    "    trueVals[key] = tur.generated_quantities(m_missing_full, prior_chain)[1][key]\n",
    "end\n",
    "trueVals\n",
    "end"
   ]
  },
  {
   "cell_type": "markdown",
   "metadata": {},
   "source": [
    "### Show the data"
   ]
  },
  {
   "cell_type": "code",
   "execution_count": 192,
   "metadata": {},
   "outputs": [
    {
     "data": {
      "image/png": "[encoded data removed]",
      "text/plain": [
       "PyPlot.Figure(PyObject <Figure size 640x480 with 1 Axes>)"
      ]
     },
     "metadata": {},
     "output_type": "display_data"
    }
   ],
   "source": [
    "plt.title(\"Generated cases over time\")\n",
    "plt.plot(y);\n",
    "plt.ylabel(\"y\");\n",
    "plt.xlabel(\"Time\");"
   ]
  },
  {
   "cell_type": "markdown",
   "metadata": {},
   "source": [
    "### Show suitablity by inference through NUTS with full data <a name=\"data_suit\"></a>\n",
    "We consider the NUTS algorithm as a reference standard and show that the data contains enough information for a meaningful inference."
   ]
  },
  {
   "cell_type": "code",
   "execution_count": 193,
   "metadata": {},
   "outputs": [],
   "source": [
    "m_full = garch(y);"
   ]
  },
  {
   "cell_type": "code",
   "execution_count": 194,
   "metadata": {},
   "outputs": [],
   "source": [
    "NUTS = tur.NUTS();"
   ]
  },
  {
   "cell_type": "code",
   "execution_count": 195,
   "metadata": {},
   "outputs": [],
   "source": [
    "num_chains = 2\n",
    "num_samples = 1000;"
   ]
  },
  {
   "cell_type": "code",
   "execution_count": 196,
   "metadata": {},
   "outputs": [
    {
     "name": "stderr",
     "output_type": "stream",
     "text": [
      "┌ Warning: Only a single thread available: MCMC chains are not sampled in parallel\n",
      "└ @ AbstractMCMC /home/konstantin/.julia/packages/AbstractMCMC/BPJCW/src/sample.jl:291\n",
      "┌ Info: Found initial step size\n",
      "│   ϵ = 0.4\n",
      "└ @ Turing.Inference /home/konstantin/.julia/packages/Turing/uMQmD/src/inference/hmc.jl:188\n",
      "┌ Info: Found initial step size\n",
      "│   ϵ = 0.2\n",
      "└ @ Turing.Inference /home/konstantin/.julia/packages/Turing/uMQmD/src/inference/hmc.jl:188\n",
      "┌ Warning: The current proposal will be rejected due to numerical error(s).\n",
      "│   isfinite.((θ, r, ℓπ, ℓκ)) = (true, false, false, false)\n",
      "└ @ AdvancedHMC /home/konstantin/.julia/packages/AdvancedHMC/HQHnm/src/hamiltonian.jl:47\n"
     ]
    }
   ],
   "source": [
    "chain_NUTS_full =  tur.sample(m_full, NUTS, tur.MCMCThreads(), num_samples, num_chains; discard_adapt=true);"
   ]
  },
  {
   "cell_type": "code",
   "execution_count": 197,
   "metadata": {},
   "outputs": [
    {
     "data": {
      "text/plain": [
       "(parameters = [:omega, :alpha, :beta, Symbol(\"sigmaSquared[1]\"), Symbol(\"sigmaSquared[2]\"), Symbol(\"sigmaSquared[3]\"), Symbol(\"sigmaSquared[4]\"), Symbol(\"sigmaSquared[5]\"), Symbol(\"sigmaSquared[6]\"), Symbol(\"sigmaSquared[7]\")  …  Symbol(\"sigmaSquared[41]\"), Symbol(\"sigmaSquared[42]\"), Symbol(\"sigmaSquared[43]\"), Symbol(\"sigmaSquared[44]\"), Symbol(\"sigmaSquared[45]\"), Symbol(\"sigmaSquared[46]\"), Symbol(\"sigmaSquared[47]\"), Symbol(\"sigmaSquared[48]\"), Symbol(\"sigmaSquared[49]\"), Symbol(\"sigmaSquared[50]\")], mean = [0.9239870517245253, 1.6435433978609344, 1.0552244249940044, 1.2897237395042787, 1.0204008152511739, 1.0005779792094494, 0.9874208389095422, 1.0033213022410488, 1.0091293497901082, 1.0116367668312944  …  1.0004051005285386, 1.0138215266581405, 1.0249148159184969, 0.984106446254209, 0.9890855370188233, 1.004368279301692, 0.9856578985244032, 0.9949962685869498, 0.9976060347332397, 1.0221870793012315], std = [0.6220548507473861, 0.4688175222139785, 0.215821606747782, 1.1573207678558306, 1.0687965065883978, 0.9846887600840388, 1.01686894169967, 0.9913951267154181, 1.0403921053689829, 1.0039767912545599  …  1.0040212868981058, 0.9818803964865385, 1.0558934459990752, 0.9736494014803362, 1.0021337278729554, 1.0089759958083657, 0.9340734896436066, 0.9761044783555983, 0.9572421195806672, 1.0218709440814944], naive_se = [0.013909569320046406, 0.010483078487134735, 0.004825917837012683, 0.025878479086978892, 0.023899016428459607, 0.02201831004227891, 0.022737880778487318, 0.022168268958976917, 0.023263874708591713, 0.02244960353077312  …  0.022450598483609842, 0.02195551312318343, 0.02361049522250436, 0.02177146247962018, 0.022408391380692044, 0.022561389142930464, 0.0208865181882355, 0.021826359667450907, 0.021404584503083527, 0.022849728951981056], mcse = [0.012344754305065982, 0.008202550560296697, 0.004544367083734343, 0.021690983166011545, 0.019328783130512135, 0.019435828256936176, 0.022518314240739974, 0.01679761917381005, 0.018029311586463707, 0.01665399981358608  …  0.016673447403227522, 0.022173343416676327, 0.015035039514878603, 0.01931020807537669, 0.015478250916600055, 0.015304892575360564, 0.0140142630473764, 0.021900983644656515, 0.018867329890800002, 0.024505940863729748], ess = [2121.6327739015014, 2365.005890082127, 2349.3853404066635, 3035.033555166302, 2982.661863155581, 2869.3821591895594, 2384.892925745265, 3289.1466464477876, 2822.6199295146744, 3008.0361545480937  …  3179.622479107039, 2633.1183606363684, 3041.7913684583714, 2688.5825774684226, 2697.6206328368667, 3220.7277240749054, 3151.4176172802477, 2786.622475392488, 2648.4901740739524, 2816.9329361628197], rhat = [0.9992115122446307, 1.0000006704925728, 0.9996681144016183, 0.9990700597844251, 0.9991056753898646, 0.9995049959493101, 0.9996991965275724, 0.9994627192633253, 0.9991525176404716, 0.9992160173812987  …  1.0006724555025261, 1.0003318111389905, 0.9990057592779413, 0.9996027891810243, 0.9991198437670269, 0.9994150069050133, 0.9990007035909493, 0.999893316153357, 0.9998610370810056, 0.9991949476329528], ess_per_sec = [172.8276941920415, 192.65280955377378, 191.3803633436513, 247.23310159386625, 242.9669161905817, 233.7391788196122, 194.27280268371337, 267.9330927376823, 229.92993886564633, 245.03389984914415  …  259.0112804746692, 214.49318675760577, 247.7835914351883, 219.0112884871638, 219.74752629821333, 262.3597038184185, 256.71371923104005, 226.99759493259108, 215.7453709737661, 229.46667775845714])"
      ]
     },
     "execution_count": 197,
     "metadata": {},
     "output_type": "execute_result"
    }
   ],
   "source": [
    "summaryNUTS = tur.summarize(chain_NUTS_full).nt"
   ]
  },
  {
   "cell_type": "code",
   "execution_count": 198,
   "metadata": {},
   "outputs": [
    {
     "data": {
      "image/png": "[encoded data removed]",
      "text/plain": [
       "PyPlot.Figure(PyObject <Figure size 640x480 with 1 Axes>)"
      ]
     },
     "metadata": {},
     "output_type": "display_data"
    }
   ],
   "source": [
    "jitter = 0.03\n",
    "plt.title(\"True and estimated params\")\n",
    "for (i,p) in enumerate(parameters)\n",
    "  plt.plot(i-jitter,trueVals[p],\"+\",label=\"True\",color=\"C$i\");\n",
    "  plt.errorbar(x=i+jitter,y=summaryNUTS.mean[i],yerr=summaryNUTS.std[i],fmt=\"o\",color=\"C$i\",label=\"Est\")\n",
    "end\n",
    "\n",
    "# ticks\n",
    "plt.xticks(1:length(parameters), parameters, rotation=\"vertical\")\n",
    "\n",
    "#plt.legend();\n",
    "#plt.ylabel(\"theta\")\n",
    "#plt.xlabel(\"Time\");"
   ]
  },
  {
   "cell_type": "markdown",
   "metadata": {},
   "source": [
    "As the estimated parameters match the true values by eye, we conclude that this data and model can be considered as a suitable testing ground."
   ]
  },
  {
   "cell_type": "code",
   "execution_count": 243,
   "metadata": {},
   "outputs": [
    {
     "data": {
      "text/plain": [
       "3.613447056440741"
      ]
     },
     "execution_count": 243,
     "metadata": {},
     "output_type": "execute_result"
    }
   ],
   "source": [
    "scoring.getScore(chain_NUTS_full,[:omega,:alpha,:beta],trueVals)"
   ]
  },
  {
   "cell_type": "markdown",
   "metadata": {},
   "source": [
    "## Benchmark of updating <a name=\"bench\"></a>\n",
    "We consider the situation where data and inferred parameters up to a point t in time are available and new data arrives at time t+1."
   ]
  },
  {
   "cell_type": "code",
   "execution_count": 199,
   "metadata": {},
   "outputs": [
    {
     "data": {
      "text/plain": [
       "40"
      ]
     },
     "execution_count": 199,
     "metadata": {},
     "output_type": "execute_result"
    }
   ],
   "source": [
    "someTime = length(time)-10"
   ]
  },
  {
   "cell_type": "code",
   "execution_count": 200,
   "metadata": {},
   "outputs": [
    {
     "data": {
      "text/plain": [
       "40-element Vector{Union{Missing, Float64}}:\n",
       "       0.944021060938173\n",
       "       3.12183929883927\n",
       "       0.4377714218182983\n",
       "      -3.727710638403744\n",
       "      10.853759020024174\n",
       "      31.98242451394792\n",
       "     -65.62450323203215\n",
       "      21.067177276378544\n",
       "     -31.635415580180737\n",
       "     -30.714659329100932\n",
       "    -122.45224430859234\n",
       "    -325.6807135413568\n",
       "    -162.29827656297297\n",
       "       ⋮\n",
       " -229688.35628906643\n",
       " -435935.91056513437\n",
       "   62994.26054965707\n",
       " -130265.43396688758\n",
       "  463970.1956078735\n",
       "  452790.9669408574\n",
       " -852366.6773488491\n",
       "  924430.3468482462\n",
       "       1.2546537310570944e6\n",
       "      -3.489886943825381e6\n",
       "      -3.1430478766755234e6\n",
       "       3.420354992480873e6"
      ]
     },
     "execution_count": 200,
     "metadata": {},
     "output_type": "execute_result"
    }
   ],
   "source": [
    "y_t =  y[1:someTime]"
   ]
  },
  {
   "cell_type": "code",
   "execution_count": 201,
   "metadata": {},
   "outputs": [
    {
     "data": {
      "text/plain": [
       "41-element Vector{Union{Missing, Float64}}:\n",
       "       0.944021060938173\n",
       "       3.12183929883927\n",
       "       0.4377714218182983\n",
       "      -3.727710638403744\n",
       "      10.853759020024174\n",
       "      31.98242451394792\n",
       "     -65.62450323203215\n",
       "      21.067177276378544\n",
       "     -31.635415580180737\n",
       "     -30.714659329100932\n",
       "    -122.45224430859234\n",
       "    -325.6807135413568\n",
       "    -162.29827656297297\n",
       "       ⋮\n",
       " -435935.91056513437\n",
       "   62994.26054965707\n",
       " -130265.43396688758\n",
       "  463970.1956078735\n",
       "  452790.9669408574\n",
       " -852366.6773488491\n",
       "  924430.3468482462\n",
       "       1.2546537310570944e6\n",
       "      -3.489886943825381e6\n",
       "      -3.1430478766755234e6\n",
       "       3.420354992480873e6\n",
       "       2.471406057813204e6"
      ]
     },
     "execution_count": 201,
     "metadata": {},
     "output_type": "execute_result"
    }
   ],
   "source": [
    "y_t_inc = y[1:someTime+1]"
   ]
  },
  {
   "cell_type": "code",
   "execution_count": 204,
   "metadata": {},
   "outputs": [
    {
     "data": {
      "text/plain": [
       "DynamicPPL.Model{typeof(garch), (:y,), (), (), Tuple{Vector{Union{Missing, Float64}}}, Tuple{}, DynamicPPL.DefaultContext}(:garch, garch, (y = Union{Missing, Float64}[0.944021060938173, 3.12183929883927, 0.4377714218182983, -3.727710638403744, 10.853759020024174, 31.98242451394792, -65.62450323203215, 21.067177276378544, -31.635415580180737, -30.714659329100932  …  62994.26054965707, -130265.43396688758, 463970.1956078735, 452790.9669408574, -852366.6773488491, 924430.3468482462, 1.2546537310570944e6, -3.489886943825381e6, -3.1430478766755234e6, 3.420354992480873e6],), NamedTuple(), DynamicPPL.DefaultContext())"
      ]
     },
     "execution_count": 204,
     "metadata": {},
     "output_type": "execute_result"
    }
   ],
   "source": [
    "model_t = garch(y_t)"
   ]
  },
  {
   "cell_type": "code",
   "execution_count": 205,
   "metadata": {},
   "outputs": [
    {
     "data": {
      "text/plain": [
       "DynamicPPL.Model{typeof(garch), (:y,), (), (), Tuple{Vector{Union{Missing, Float64}}}, Tuple{}, DynamicPPL.DefaultContext}(:garch, garch, (y = Union{Missing, Float64}[0.944021060938173, 3.12183929883927, 0.4377714218182983, -3.727710638403744, 10.853759020024174, 31.98242451394792, -65.62450323203215, 21.067177276378544, -31.635415580180737, -30.714659329100932  …  -130265.43396688758, 463970.1956078735, 452790.9669408574, -852366.6773488491, 924430.3468482462, 1.2546537310570944e6, -3.489886943825381e6, -3.1430478766755234e6, 3.420354992480873e6, 2.471406057813204e6],), NamedTuple(), DynamicPPL.DefaultContext())"
      ]
     },
     "execution_count": 205,
     "metadata": {},
     "output_type": "execute_result"
    }
   ],
   "source": [
    "model_t_inc = garch(y_t_inc)"
   ]
  },
  {
   "cell_type": "markdown",
   "metadata": {},
   "source": [
    "#### Get a chain from nuts\n",
    "We assume here that the parameter set up to time t is also available, we use NUTS as a reference for that:"
   ]
  },
  {
   "cell_type": "code",
   "execution_count": 206,
   "metadata": {},
   "outputs": [
    {
     "name": "stderr",
     "output_type": "stream",
     "text": [
      "┌ Warning: Only a single thread available: MCMC chains are not sampled in parallel\n",
      "└ @ AbstractMCMC /home/konstantin/.julia/packages/AbstractMCMC/BPJCW/src/sample.jl:291\n",
      "┌ Info: Found initial step size\n",
      "│   ϵ = 0.4\n",
      "└ @ Turing.Inference /home/konstantin/.julia/packages/Turing/uMQmD/src/inference/hmc.jl:188\n",
      "┌ Info: Found initial step size\n",
      "│   ϵ = 0.05\n",
      "└ @ Turing.Inference /home/konstantin/.julia/packages/Turing/uMQmD/src/inference/hmc.jl:188\n"
     ]
    },
    {
     "data": {
      "text/plain": [
       "Chains MCMC chain (1000×55×2 Array{Float64, 3}):\n",
       "\n",
       "Iterations        = 501:1:1500\n",
       "Number of chains  = 2\n",
       "Samples per chain = 1000\n",
       "Wall duration     = 5.59 seconds\n",
       "Compute duration  = 5.48 seconds\n",
       "parameters        = omega, alpha, beta, sigmaSquared[1], sigmaSquared[2], sigmaSquared[3], sigmaSquared[4], sigmaSquared[5], sigmaSquared[6], sigmaSquared[7], sigmaSquared[8], sigmaSquared[9], sigmaSquared[10], sigmaSquared[11], sigmaSquared[12], sigmaSquared[13], sigmaSquared[14], sigmaSquared[15], sigmaSquared[16], sigmaSquared[17], sigmaSquared[18], sigmaSquared[19], sigmaSquared[20], sigmaSquared[21], sigmaSquared[22], sigmaSquared[23], sigmaSquared[24], sigmaSquared[25], sigmaSquared[26], sigmaSquared[27], sigmaSquared[28], sigmaSquared[29], sigmaSquared[30], sigmaSquared[31], sigmaSquared[32], sigmaSquared[33], sigmaSquared[34], sigmaSquared[35], sigmaSquared[36], sigmaSquared[37], sigmaSquared[38], sigmaSquared[39], sigmaSquared[40]\n",
       "internals         = lp, n_steps, is_accept, acceptance_rate, log_density, hamiltonian_energy, hamiltonian_energy_error, max_hamiltonian_energy_error, tree_depth, numerical_error, step_size, nom_step_size\n",
       "\n",
       "Summary Statistics\n",
       " \u001b[1m       parameters \u001b[0m \u001b[1m    mean \u001b[0m \u001b[1m     std \u001b[0m \u001b[1m naive_se \u001b[0m \u001b[1m    mcse \u001b[0m \u001b[1m       ess \u001b[0m \u001b[1m    r\u001b[0m ⋯\n",
       " \u001b[90m           Symbol \u001b[0m \u001b[90m Float64 \u001b[0m \u001b[90m Float64 \u001b[0m \u001b[90m  Float64 \u001b[0m \u001b[90m Float64 \u001b[0m \u001b[90m   Float64 \u001b[0m \u001b[90m Floa\u001b[0m ⋯\n",
       "\n",
       "             omega    0.9201    0.6569     0.0147    0.0136   2231.8277    0.9 ⋯\n",
       "             alpha    1.6755    0.4714     0.0105    0.0102   2079.8059    0.9 ⋯\n",
       "              beta    0.9827    0.2169     0.0049    0.0047   2136.7593    0.9 ⋯\n",
       "   sigmaSquared[1]    1.2389    1.0995     0.0246    0.0206   2836.9078    0.9 ⋯\n",
       "   sigmaSquared[2]    1.0277    1.0089     0.0226    0.0211   2702.6693    0.9 ⋯\n",
       "   sigmaSquared[3]    0.9976    1.0011     0.0224    0.0172   3211.5109    0.9 ⋯\n",
       "   sigmaSquared[4]    1.0017    0.9659     0.0216    0.0202   3285.7348    0.9 ⋯\n",
       "   sigmaSquared[5]    1.0096    0.9704     0.0217    0.0217   2715.9154    0.9 ⋯\n",
       "   sigmaSquared[6]    1.0287    1.0300     0.0230    0.0188   3093.6040    0.9 ⋯\n",
       "   sigmaSquared[7]    0.9823    0.9887     0.0221    0.0183   3378.9643    0.9 ⋯\n",
       "   sigmaSquared[8]    0.9811    0.9522     0.0213    0.0184   2669.6283    0.9 ⋯\n",
       "   sigmaSquared[9]    1.0202    1.0595     0.0237    0.0199   2674.4815    0.9 ⋯\n",
       "  sigmaSquared[10]    1.0158    1.0108     0.0226    0.0203   2735.5164    0.9 ⋯\n",
       "  sigmaSquared[11]    1.0313    1.0818     0.0242    0.0188   3363.8115    0.9 ⋯\n",
       "  sigmaSquared[12]    0.9891    1.0258     0.0229    0.0207   2646.6450    0.9 ⋯\n",
       "  sigmaSquared[13]    1.0235    1.0042     0.0225    0.0209   2417.1427    0.9 ⋯\n",
       "  sigmaSquared[14]    0.9883    0.9600     0.0215    0.0175   2819.8898    0.9 ⋯\n",
       "  sigmaSquared[15]    0.9988    1.0399     0.0233    0.0186   3382.6398    0.9 ⋯\n",
       "  sigmaSquared[16]    1.0452    1.0588     0.0237    0.0212   3315.7533    1.0 ⋯\n",
       "  sigmaSquared[17]    1.0151    1.0110     0.0226    0.0185   2827.6098    0.9 ⋯\n",
       "  sigmaSquared[18]    1.0023    1.0551     0.0236    0.0206   2832.1894    1.0 ⋯\n",
       "  sigmaSquared[19]    0.9588    0.9635     0.0215    0.0201   2804.1677    1.0 ⋯\n",
       "  sigmaSquared[20]    0.9926    0.9792     0.0219    0.0162   3350.3256    0.9 ⋯\n",
       "         ⋮              ⋮         ⋮         ⋮          ⋮          ⋮          ⋮ ⋱\n",
       "\u001b[36m                                                   2 columns and 20 rows omitted\u001b[0m\n",
       "\n",
       "Quantiles\n",
       " \u001b[1m       parameters \u001b[0m \u001b[1m    2.5% \u001b[0m \u001b[1m   25.0% \u001b[0m \u001b[1m   50.0% \u001b[0m \u001b[1m   75.0% \u001b[0m \u001b[1m   97.5% \u001b[0m\n",
       " \u001b[90m           Symbol \u001b[0m \u001b[90m Float64 \u001b[0m \u001b[90m Float64 \u001b[0m \u001b[90m Float64 \u001b[0m \u001b[90m Float64 \u001b[0m \u001b[90m Float64 \u001b[0m\n",
       "\n",
       "             omega    0.0397    0.3893    0.7947    1.3301    2.4587\n",
       "             alpha    0.8956    1.3354    1.6334    1.9660    2.7339\n",
       "              beta    0.5791    0.8317    0.9760    1.1242    1.4304\n",
       "   sigmaSquared[1]    0.0449    0.4245    0.9409    1.7661    4.0025\n",
       "   sigmaSquared[2]    0.0219    0.3145    0.7281    1.4117    3.8018\n",
       "   sigmaSquared[3]    0.0230    0.2876    0.6803    1.4317    3.6020\n",
       "   sigmaSquared[4]    0.0375    0.2966    0.7225    1.3633    3.6999\n",
       "   sigmaSquared[5]    0.0363    0.3158    0.7134    1.3854    3.6141\n",
       "   sigmaSquared[6]    0.0282    0.2914    0.7192    1.4423    3.7806\n",
       "   sigmaSquared[7]    0.0170    0.2757    0.6950    1.3661    3.7462\n",
       "   sigmaSquared[8]    0.0312    0.3034    0.6951    1.3461    3.6725\n",
       "   sigmaSquared[9]    0.0232    0.2542    0.6698    1.4237    3.9064\n",
       "  sigmaSquared[10]    0.0199    0.2875    0.7168    1.4231    3.6697\n",
       "  sigmaSquared[11]    0.0180    0.2528    0.6715    1.4730    4.0048\n",
       "  sigmaSquared[12]    0.0291    0.2602    0.6727    1.3539    3.7266\n",
       "  sigmaSquared[13]    0.0395    0.3121    0.7098    1.4098    3.7674\n",
       "  sigmaSquared[14]    0.0283    0.3000    0.7090    1.4070    3.5670\n",
       "  sigmaSquared[15]    0.0177    0.2710    0.6798    1.3615    3.7670\n",
       "  sigmaSquared[16]    0.0279    0.3061    0.7172    1.3977    3.8850\n",
       "  sigmaSquared[17]    0.0292    0.2896    0.7099    1.3831    3.8404\n",
       "  sigmaSquared[18]    0.0149    0.2694    0.6745    1.3892    3.7353\n",
       "  sigmaSquared[19]    0.0422    0.2909    0.6580    1.2704    3.6557\n",
       "  sigmaSquared[20]    0.0379    0.2955    0.6844    1.3727    3.6490\n",
       "         ⋮              ⋮         ⋮         ⋮         ⋮         ⋮\n",
       "\u001b[36m                                                       20 rows omitted\u001b[0m\n"
      ]
     },
     "execution_count": 206,
     "metadata": {},
     "output_type": "execute_result"
    }
   ],
   "source": [
    "chain_t = tur.sample(model_t, NUTS, tur.MCMCThreads(), num_samples, num_chains; discard_adapt=true)"
   ]
  },
  {
   "cell_type": "markdown",
   "metadata": {},
   "source": [
    "### Speed and memory consumption <a name=\"bench_speed\"></a>"
   ]
  },
  {
   "cell_type": "code",
   "execution_count": 207,
   "metadata": {},
   "outputs": [
    {
     "name": "stdout",
     "output_type": "stream",
     "text": [
      "Some parameters in are not present in the chain but in the model: Set(Any[Symbol(\"sigmaSquared[41]\")]) \n",
      "Using prior samples from the model for them instead.\n",
      "Some parameters in are not present in the chain but in the model: Set(Any[Symbol(\"sigmaSquared[41]\")]) \n",
      "Using prior samples from the model for them instead.\n",
      "Some parameters in are not present in the chain but in the model: Set(Any[Symbol(\"sigmaSquared[41]\")]) \n",
      "Using prior samples from the model for them instead.\n",
      "Some parameters in are not present in the chain but in the model: Set(Any[Symbol(\"sigmaSquared[41]\")]) \n",
      "Using prior samples from the model for them instead.\n",
      "Some parameters in are not present in the chain but in the model: Set(Any[Symbol(\"sigmaSquared[41]\")]) \n",
      "Using prior samples from the model for them instead.\n",
      "Some parameters in are not present in the chain but in the model: Set(Any[Symbol(\"sigmaSquared[41]\")]) \n",
      "Using prior samples from the model for them instead.\n",
      "Some parameters in are not present in the chain but in the model: Set(Any[Symbol(\"sigmaSquared[41]\")]) \n",
      "Using prior samples from the model for them instead.\n",
      "Some parameters in are not present in the chain but in the model: Set(Any[Symbol(\"sigmaSquared[41]\")]) \n",
      "Using prior samples from the model for them instead.\n",
      "Some parameters in are not present in the chain but in the model: Set(Any[Symbol(\"sigmaSquared[41]\")]) \n",
      "Using prior samples from the model for them instead.\n",
      "Some parameters in are not present in the chain but in the model: Set(Any[Symbol(\"sigmaSquared[41]\")]) \n",
      "Using prior samples from the model for them instead.\n",
      "Some parameters in are not present in the chain but in the model: Set(Any[Symbol(\"sigmaSquared[41]\")]) \n",
      "Using prior samples from the model for them instead.\n",
      "Some parameters in are not present in the chain but in the model: Set(Any[Symbol(\"sigmaSquared[41]\")]) \n",
      "Using prior samples from the model for them instead.\n",
      "Some parameters in are not present in the chain but in the model: Set(Any[Symbol(\"sigmaSquared[41]\")]) \n",
      "Using prior samples from the model for them instead.\n",
      "Some parameters in are not present in the chain but in the model: Set(Any[Symbol(\"sigmaSquared[41]\")]) \n",
      "Using prior samples from the model for them instead.\n",
      "Some parameters in are not present in the chain but in the model: Set(Any[Symbol(\"sigmaSquared[41]\")]) \n",
      "Using prior samples from the model for them instead.\n",
      "Some parameters in are not present in the chain but in the model: Set(Any[Symbol(\"sigmaSquared[41]\")]) \n",
      "Using prior samples from the model for them instead.\n",
      "Some parameters in are not present in the chain but in the model: Set(Any[Symbol(\"sigmaSquared[41]\")]) \n",
      "Using prior samples from the model for them instead.\n",
      "Some parameters in are not present in the chain but in the model: Set(Any[Symbol(\"sigmaSquared[41]\")]) \n",
      "Using prior samples from the model for them instead.\n",
      "Some parameters in are not present in the chain but in the model: Set(Any[Symbol(\"sigmaSquared[41]\")]) \n",
      "Using prior samples from the model for them instead.\n",
      "Some parameters in are not present in the chain but in the model: Set(Any[Symbol(\"sigmaSquared[41]\")]) \n",
      "Using prior samples from the model for them instead.\n",
      "Some parameters in are not present in the chain but in the model: Set(Any[Symbol(\"sigmaSquared[41]\")]) \n",
      "Using prior samples from the model for them instead.\n",
      "Some parameters in are not present in the chain but in the model: Set(Any[Symbol(\"sigmaSquared[41]\")]) \n",
      "Using prior samples from the model for them instead.\n",
      "Some parameters in are not present in the chain but in the model: Set(Any[Symbol(\"sigmaSquared[41]\")]) \n",
      "Using prior samples from the model for them instead.\n",
      "Some parameters in are not present in the chain but in the model: Set(Any[Symbol(\"sigmaSquared[41]\")]) \n",
      "Using prior samples from the model for them instead.\n",
      "Some parameters in are not present in the chain but in the model: Set(Any[Symbol(\"sigmaSquared[41]\")]) \n",
      "Using prior samples from the model for them instead.\n",
      "Some parameters in are not present in the chain but in the model: Set(Any[Symbol(\"sigmaSquared[41]\")]) \n",
      "Using prior samples from the model for them instead.\n",
      "Some parameters in are not present in the chain but in the model: Set(Any[Symbol(\"sigmaSquared[41]\")]) \n",
      "Using prior samples from the model for them instead.\n",
      "Some parameters in are not present in the chain but in the model: Set(Any[Symbol(\"sigmaSquared[41]\")]) \n",
      "Using prior samples from the model for them instead.\n",
      "Some parameters in are not present in the chain but in the model: Set(Any[Symbol(\"sigmaSquared[41]\")]) \n",
      "Using prior samples from the model for them instead.\n",
      "Some parameters in are not present in the chain but in the model: Set(Any[Symbol(\"sigmaSquared[41]\")]) \n",
      "Using prior samples from the model for them instead.\n",
      "Some parameters in are not present in the chain but in the model: Set(Any[Symbol(\"sigmaSquared[41]\")]) \n",
      "Using prior samples from the model for them instead.\n",
      "Some parameters in are not present in the chain but in the model: Set(Any[Symbol(\"sigmaSquared[41]\")]) \n",
      "Using prior samples from the model for them instead.\n",
      "Some parameters in are not present in the chain but in the model: Set(Any[Symbol(\"sigmaSquared[41]\")]) \n",
      "Using prior samples from the model for them instead.\n",
      "Some parameters in are not present in the chain but in the model: Set(Any[Symbol(\"sigmaSquared[41]\")]) \n",
      "Using prior samples from the model for them instead.\n",
      "Some parameters in are not present in the chain but in the model: Set(Any[Symbol(\"sigmaSquared[41]\")]) \n",
      "Using prior samples from the model for them instead.\n",
      "Some parameters in are not present in the chain but in the model: Set(Any[Symbol(\"sigmaSquared[41]\")]) \n",
      "Using prior samples from the model for them instead.\n",
      "Some parameters in are not present in the chain but in the model: Set(Any[Symbol(\"sigmaSquared[41]\")]) \n",
      "Using prior samples from the model for them instead.\n",
      "Some parameters in are not present in the chain but in the model: Set(Any[Symbol(\"sigmaSquared[41]\")]) \n",
      "Using prior samples from the model for them instead.\n",
      "Some parameters in are not present in the chain but in the model: Set(Any[Symbol(\"sigmaSquared[41]\")]) \n",
      "Using prior samples from the model for them instead.\n",
      "Some parameters in are not present in the chain but in the model: Set(Any[Symbol(\"sigmaSquared[41]\")]) \n",
      "Using prior samples from the model for them instead.\n"
     ]
    },
    {
     "data": {
      "text/plain": [
       "BenchmarkTools.Trial: 17 samples with 1 evaluation.\n",
       " Range \u001b[90m(\u001b[39m\u001b[36m\u001b[1mmin\u001b[22m\u001b[39m … \u001b[35mmax\u001b[39m\u001b[90m):  \u001b[39m\u001b[36m\u001b[1m3.307 s\u001b[22m\u001b[39m … \u001b[35m   4.278 s\u001b[39m  \u001b[90m┊\u001b[39m GC \u001b[90m(\u001b[39mmin … max\u001b[90m): \u001b[39m12.27% … 21.60%\n",
       " Time  \u001b[90m(\u001b[39m\u001b[34m\u001b[1mmedian\u001b[22m\u001b[39m\u001b[90m):     \u001b[39m\u001b[34m\u001b[1m3.479 s               \u001b[22m\u001b[39m\u001b[90m┊\u001b[39m GC \u001b[90m(\u001b[39mmedian\u001b[90m):    \u001b[39m13.51%\n",
       " Time  \u001b[90m(\u001b[39m\u001b[32m\u001b[1mmean\u001b[22m\u001b[39m ± \u001b[32mσ\u001b[39m\u001b[90m):   \u001b[39m\u001b[32m\u001b[1m3.571 s\u001b[22m\u001b[39m ± \u001b[32m263.776 ms\u001b[39m  \u001b[90m┊\u001b[39m GC \u001b[90m(\u001b[39mmean ± σ\u001b[90m):  \u001b[39m14.92% ±  3.30%\n",
       "\n",
       "  \u001b[39m█\u001b[39m \u001b[39m▁\u001b[39m█\u001b[39m \u001b[39m \u001b[39m \u001b[39m▁\u001b[39m▁\u001b[34m▁\u001b[39m\u001b[39m█\u001b[39m \u001b[39m \u001b[39m \u001b[39m▁\u001b[39m \u001b[32m \u001b[39m\u001b[39m \u001b[39m \u001b[39m▁\u001b[39m \u001b[39m \u001b[39m \u001b[39m▁\u001b[39m \u001b[39m▁\u001b[39m \u001b[39m \u001b[39m▁\u001b[39m \u001b[39m \u001b[39m \u001b[39m \u001b[39m \u001b[39m \u001b[39m \u001b[39m \u001b[39m \u001b[39m \u001b[39m \u001b[39m \u001b[39m▁\u001b[39m \u001b[39m \u001b[39m \u001b[39m \u001b[39m \u001b[39m \u001b[39m \u001b[39m \u001b[39m \u001b[39m \u001b[39m \u001b[39m \u001b[39m \u001b[39m \u001b[39m \u001b[39m▁\u001b[39m \u001b[39m \n",
       "  \u001b[39m█\u001b[39m▁\u001b[39m█\u001b[39m█\u001b[39m▁\u001b[39m▁\u001b[39m▁\u001b[39m█\u001b[39m█\u001b[34m█\u001b[39m\u001b[39m█\u001b[39m▁\u001b[39m▁\u001b[39m▁\u001b[39m█\u001b[39m▁\u001b[32m▁\u001b[39m\u001b[39m▁\u001b[39m▁\u001b[39m█\u001b[39m▁\u001b[39m▁\u001b[39m▁\u001b[39m█\u001b[39m▁\u001b[39m█\u001b[39m▁\u001b[39m▁\u001b[39m█\u001b[39m▁\u001b[39m▁\u001b[39m▁\u001b[39m▁\u001b[39m▁\u001b[39m▁\u001b[39m▁\u001b[39m▁\u001b[39m▁\u001b[39m▁\u001b[39m▁\u001b[39m▁\u001b[39m█\u001b[39m▁\u001b[39m▁\u001b[39m▁\u001b[39m▁\u001b[39m▁\u001b[39m▁\u001b[39m▁\u001b[39m▁\u001b[39m▁\u001b[39m▁\u001b[39m▁\u001b[39m▁\u001b[39m▁\u001b[39m▁\u001b[39m▁\u001b[39m█\u001b[39m \u001b[39m▁\n",
       "  3.31 s\u001b[90m         Histogram: frequency by time\u001b[39m         4.28 s \u001b[0m\u001b[1m<\u001b[22m\n",
       "\n",
       " Memory estimate\u001b[90m: \u001b[39m\u001b[33m3.87 GiB\u001b[39m, allocs estimate\u001b[90m: \u001b[39m\u001b[33m8226978\u001b[39m."
      ]
     },
     "execution_count": 207,
     "metadata": {},
     "output_type": "execute_result"
    }
   ],
   "source": [
    "@benchmark online.update(chain_t,model_t_inc,tur.SMC(),rng) seconds = 60"
   ]
  },
  {
   "cell_type": "code",
   "execution_count": 208,
   "metadata": {},
   "outputs": [
    {
     "name": "stderr",
     "output_type": "stream",
     "text": [
      "┌ Warning: Only a single thread available: MCMC chains are not sampled in parallel\n",
      "└ @ AbstractMCMC /home/konstantin/.julia/packages/AbstractMCMC/BPJCW/src/sample.jl:291\n",
      "┌ Info: Found initial step size\n",
      "│   ϵ = 0.2\n",
      "└ @ Turing.Inference /home/konstantin/.julia/packages/Turing/uMQmD/src/inference/hmc.jl:188\n",
      "┌ Warning: The current proposal will be rejected due to numerical error(s).\n",
      "│   isfinite.((θ, r, ℓπ, ℓκ)) = (true, false, false, false)\n",
      "└ @ AdvancedHMC /home/konstantin/.julia/packages/AdvancedHMC/HQHnm/src/hamiltonian.jl:47\n",
      "┌ Info: Found initial step size\n",
      "│   ϵ = 0.05\n",
      "└ @ Turing.Inference /home/konstantin/.julia/packages/Turing/uMQmD/src/inference/hmc.jl:188\n",
      "┌ Warning: Only a single thread available: MCMC chains are not sampled in parallel\n",
      "└ @ AbstractMCMC /home/konstantin/.julia/packages/AbstractMCMC/BPJCW/src/sample.jl:291\n",
      "┌ Info: Found initial step size\n",
      "│   ϵ = 0.4\n",
      "└ @ Turing.Inference /home/konstantin/.julia/packages/Turing/uMQmD/src/inference/hmc.jl:188\n",
      "┌ Info: Found initial step size\n",
      "│   ϵ = 0.4\n",
      "└ @ Turing.Inference /home/konstantin/.julia/packages/Turing/uMQmD/src/inference/hmc.jl:188\n",
      "┌ Warning: Only a single thread available: MCMC chains are not sampled in parallel\n",
      "└ @ AbstractMCMC /home/konstantin/.julia/packages/AbstractMCMC/BPJCW/src/sample.jl:291\n",
      "┌ Info: Found initial step size\n",
      "│   ϵ = 0.4\n",
      "└ @ Turing.Inference /home/konstantin/.julia/packages/Turing/uMQmD/src/inference/hmc.jl:188\n",
      "┌ Info: Found initial step size\n",
      "│   ϵ = 0.05\n",
      "└ @ Turing.Inference /home/konstantin/.julia/packages/Turing/uMQmD/src/inference/hmc.jl:188\n",
      "┌ Warning: Only a single thread available: MCMC chains are not sampled in parallel\n",
      "└ @ AbstractMCMC /home/konstantin/.julia/packages/AbstractMCMC/BPJCW/src/sample.jl:291\n",
      "┌ Info: Found initial step size\n",
      "│   ϵ = 0.2\n",
      "└ @ Turing.Inference /home/konstantin/.julia/packages/Turing/uMQmD/src/inference/hmc.jl:188\n",
      "┌ Info: Found initial step size\n",
      "│   ϵ = 0.2\n",
      "└ @ Turing.Inference /home/konstantin/.julia/packages/Turing/uMQmD/src/inference/hmc.jl:188\n",
      "┌ Warning: The current proposal will be rejected due to numerical error(s).\n",
      "│   isfinite.((θ, r, ℓπ, ℓκ)) = (true, false, false, false)\n",
      "└ @ AdvancedHMC /home/konstantin/.julia/packages/AdvancedHMC/HQHnm/src/hamiltonian.jl:47\n",
      "┌ Warning: Only a single thread available: MCMC chains are not sampled in parallel\n",
      "└ @ AbstractMCMC /home/konstantin/.julia/packages/AbstractMCMC/BPJCW/src/sample.jl:291\n",
      "┌ Info: Found initial step size\n",
      "│   ϵ = 0.2\n",
      "└ @ Turing.Inference /home/konstantin/.julia/packages/Turing/uMQmD/src/inference/hmc.jl:188\n",
      "┌ Warning: The current proposal will be rejected due to numerical error(s).\n",
      "│   isfinite.((θ, r, ℓπ, ℓκ)) = (true, false, false, false)\n",
      "└ @ AdvancedHMC /home/konstantin/.julia/packages/AdvancedHMC/HQHnm/src/hamiltonian.jl:47\n",
      "┌ Info: Found initial step size\n",
      "│   ϵ = 0.2\n",
      "└ @ Turing.Inference /home/konstantin/.julia/packages/Turing/uMQmD/src/inference/hmc.jl:188\n",
      "┌ Warning: Only a single thread available: MCMC chains are not sampled in parallel\n",
      "└ @ AbstractMCMC /home/konstantin/.julia/packages/AbstractMCMC/BPJCW/src/sample.jl:291\n",
      "┌ Info: Found initial step size\n",
      "│   ϵ = 0.05\n",
      "└ @ Turing.Inference /home/konstantin/.julia/packages/Turing/uMQmD/src/inference/hmc.jl:188\n",
      "┌ Info: Found initial step size\n",
      "│   ϵ = 0.2\n",
      "└ @ Turing.Inference /home/konstantin/.julia/packages/Turing/uMQmD/src/inference/hmc.jl:188\n",
      "┌ Warning: Only a single thread available: MCMC chains are not sampled in parallel\n",
      "└ @ AbstractMCMC /home/konstantin/.julia/packages/AbstractMCMC/BPJCW/src/sample.jl:291\n",
      "┌ Info: Found initial step size\n",
      "│   ϵ = 0.4\n",
      "└ @ Turing.Inference /home/konstantin/.julia/packages/Turing/uMQmD/src/inference/hmc.jl:188\n",
      "┌ Warning: The current proposal will be rejected due to numerical error(s).\n",
      "│   isfinite.((θ, r, ℓπ, ℓκ)) = (true, false, false, false)\n",
      "└ @ AdvancedHMC /home/konstantin/.julia/packages/AdvancedHMC/HQHnm/src/hamiltonian.jl:47\n",
      "┌ Info: Found initial step size\n",
      "│   ϵ = 0.05\n",
      "└ @ Turing.Inference /home/konstantin/.julia/packages/Turing/uMQmD/src/inference/hmc.jl:188\n",
      "┌ Warning: Only a single thread available: MCMC chains are not sampled in parallel\n",
      "└ @ AbstractMCMC /home/konstantin/.julia/packages/AbstractMCMC/BPJCW/src/sample.jl:291\n",
      "┌ Info: Found initial step size\n",
      "│   ϵ = 0.2\n",
      "└ @ Turing.Inference /home/konstantin/.julia/packages/Turing/uMQmD/src/inference/hmc.jl:188\n",
      "┌ Info: Found initial step size\n",
      "│   ϵ = 0.4\n",
      "└ @ Turing.Inference /home/konstantin/.julia/packages/Turing/uMQmD/src/inference/hmc.jl:188\n",
      "┌ Warning: Only a single thread available: MCMC chains are not sampled in parallel\n",
      "└ @ AbstractMCMC /home/konstantin/.julia/packages/AbstractMCMC/BPJCW/src/sample.jl:291\n",
      "┌ Info: Found initial step size\n",
      "│   ϵ = 0.2\n",
      "└ @ Turing.Inference /home/konstantin/.julia/packages/Turing/uMQmD/src/inference/hmc.jl:188\n",
      "┌ Info: Found initial step size\n",
      "│   ϵ = 0.4\n",
      "└ @ Turing.Inference /home/konstantin/.julia/packages/Turing/uMQmD/src/inference/hmc.jl:188\n",
      "┌ Warning: Only a single thread available: MCMC chains are not sampled in parallel\n",
      "└ @ AbstractMCMC /home/konstantin/.julia/packages/AbstractMCMC/BPJCW/src/sample.jl:291\n",
      "┌ Info: Found initial step size\n",
      "│   ϵ = 0.2\n",
      "└ @ Turing.Inference /home/konstantin/.julia/packages/Turing/uMQmD/src/inference/hmc.jl:188\n",
      "┌ Warning: The current proposal will be rejected due to numerical error(s).\n",
      "│   isfinite.((θ, r, ℓπ, ℓκ)) = (true, false, false, false)\n",
      "└ @ AdvancedHMC /home/konstantin/.julia/packages/AdvancedHMC/HQHnm/src/hamiltonian.jl:47\n",
      "┌ Info: Found initial step size\n",
      "│   ϵ = 0.403125\n",
      "└ @ Turing.Inference /home/konstantin/.julia/packages/Turing/uMQmD/src/inference/hmc.jl:188\n",
      "┌ Warning: Only a single thread available: MCMC chains are not sampled in parallel\n",
      "└ @ AbstractMCMC /home/konstantin/.julia/packages/AbstractMCMC/BPJCW/src/sample.jl:291\n",
      "┌ Info: Found initial step size\n",
      "│   ϵ = 0.4\n",
      "└ @ Turing.Inference /home/konstantin/.julia/packages/Turing/uMQmD/src/inference/hmc.jl:188\n",
      "┌ Info: Found initial step size\n",
      "│   ϵ = 0.2\n",
      "└ @ Turing.Inference /home/konstantin/.julia/packages/Turing/uMQmD/src/inference/hmc.jl:188\n",
      "┌ Warning: The current proposal will be rejected due to numerical error(s).\n",
      "│   isfinite.((θ, r, ℓπ, ℓκ)) = (true, false, false, false)\n",
      "└ @ AdvancedHMC /home/konstantin/.julia/packages/AdvancedHMC/HQHnm/src/hamiltonian.jl:47\n",
      "┌ Warning: Only a single thread available: MCMC chains are not sampled in parallel\n",
      "└ @ AbstractMCMC /home/konstantin/.julia/packages/AbstractMCMC/BPJCW/src/sample.jl:291\n",
      "┌ Info: Found initial step size\n",
      "│   ϵ = 0.4\n",
      "└ @ Turing.Inference /home/konstantin/.julia/packages/Turing/uMQmD/src/inference/hmc.jl:188\n",
      "┌ Warning: The current proposal will be rejected due to numerical error(s).\n",
      "│   isfinite.((θ, r, ℓπ, ℓκ)) = (true, false, false, false)\n",
      "└ @ AdvancedHMC /home/konstantin/.julia/packages/AdvancedHMC/HQHnm/src/hamiltonian.jl:47\n",
      "┌ Info: Found initial step size\n",
      "│   ϵ = 0.05\n",
      "└ @ Turing.Inference /home/konstantin/.julia/packages/Turing/uMQmD/src/inference/hmc.jl:188\n",
      "┌ Warning: Only a single thread available: MCMC chains are not sampled in parallel\n",
      "└ @ AbstractMCMC /home/konstantin/.julia/packages/AbstractMCMC/BPJCW/src/sample.jl:291\n",
      "┌ Info: Found initial step size\n",
      "│   ϵ = 0.2\n",
      "└ @ Turing.Inference /home/konstantin/.julia/packages/Turing/uMQmD/src/inference/hmc.jl:188\n",
      "┌ Info: Found initial step size\n",
      "│   ϵ = 0.2\n",
      "└ @ Turing.Inference /home/konstantin/.julia/packages/Turing/uMQmD/src/inference/hmc.jl:188\n",
      "┌ Warning: The current proposal will be rejected due to numerical error(s).\n",
      "│   isfinite.((θ, r, ℓπ, ℓκ)) = (true, false, false, false)\n",
      "└ @ AdvancedHMC /home/konstantin/.julia/packages/AdvancedHMC/HQHnm/src/hamiltonian.jl:47\n",
      "┌ Warning: The current proposal will be rejected due to numerical error(s).\n",
      "│   isfinite.((θ, r, ℓπ, ℓκ)) = (true, false, false, false)\n",
      "└ @ AdvancedHMC /home/konstantin/.julia/packages/AdvancedHMC/HQHnm/src/hamiltonian.jl:47\n",
      "┌ Warning: Only a single thread available: MCMC chains are not sampled in parallel\n",
      "└ @ AbstractMCMC /home/konstantin/.julia/packages/AbstractMCMC/BPJCW/src/sample.jl:291\n",
      "┌ Info: Found initial step size\n",
      "│   ϵ = 0.2\n",
      "└ @ Turing.Inference /home/konstantin/.julia/packages/Turing/uMQmD/src/inference/hmc.jl:188\n",
      "┌ Warning: The current proposal will be rejected due to numerical error(s).\n",
      "│   isfinite.((θ, r, ℓπ, ℓκ)) = (true, false, false, false)\n",
      "└ @ AdvancedHMC /home/konstantin/.julia/packages/AdvancedHMC/HQHnm/src/hamiltonian.jl:47\n"
     ]
    },
    {
     "name": "stderr",
     "output_type": "stream",
     "text": [
      "┌ Info: Found initial step size\n",
      "│   ϵ = 0.2\n",
      "└ @ Turing.Inference /home/konstantin/.julia/packages/Turing/uMQmD/src/inference/hmc.jl:188\n",
      "┌ Warning: The current proposal will be rejected due to numerical error(s).\n",
      "│   isfinite.((θ, r, ℓπ, ℓκ)) = (true, false, false, false)\n",
      "└ @ AdvancedHMC /home/konstantin/.julia/packages/AdvancedHMC/HQHnm/src/hamiltonian.jl:47\n",
      "┌ Warning: Only a single thread available: MCMC chains are not sampled in parallel\n",
      "└ @ AbstractMCMC /home/konstantin/.julia/packages/AbstractMCMC/BPJCW/src/sample.jl:291\n",
      "┌ Info: Found initial step size\n",
      "│   ϵ = 0.2\n",
      "└ @ Turing.Inference /home/konstantin/.julia/packages/Turing/uMQmD/src/inference/hmc.jl:188\n",
      "┌ Warning: The current proposal will be rejected due to numerical error(s).\n",
      "│   isfinite.((θ, r, ℓπ, ℓκ)) = (true, false, false, false)\n",
      "└ @ AdvancedHMC /home/konstantin/.julia/packages/AdvancedHMC/HQHnm/src/hamiltonian.jl:47\n",
      "┌ Info: Found initial step size\n",
      "│   ϵ = 0.2\n",
      "└ @ Turing.Inference /home/konstantin/.julia/packages/Turing/uMQmD/src/inference/hmc.jl:188\n",
      "┌ Warning: Only a single thread available: MCMC chains are not sampled in parallel\n",
      "└ @ AbstractMCMC /home/konstantin/.julia/packages/AbstractMCMC/BPJCW/src/sample.jl:291\n",
      "┌ Info: Found initial step size\n",
      "│   ϵ = 0.8\n",
      "└ @ Turing.Inference /home/konstantin/.julia/packages/Turing/uMQmD/src/inference/hmc.jl:188\n",
      "┌ Warning: The current proposal will be rejected due to numerical error(s).\n",
      "│   isfinite.((θ, r, ℓπ, ℓκ)) = (true, false, false, false)\n",
      "└ @ AdvancedHMC /home/konstantin/.julia/packages/AdvancedHMC/HQHnm/src/hamiltonian.jl:47\n",
      "┌ Info: Found initial step size\n",
      "│   ϵ = 0.2\n",
      "└ @ Turing.Inference /home/konstantin/.julia/packages/Turing/uMQmD/src/inference/hmc.jl:188\n",
      "┌ Warning: The current proposal will be rejected due to numerical error(s).\n",
      "│   isfinite.((θ, r, ℓπ, ℓκ)) = (true, false, false, false)\n",
      "└ @ AdvancedHMC /home/konstantin/.julia/packages/AdvancedHMC/HQHnm/src/hamiltonian.jl:47\n",
      "┌ Warning: Only a single thread available: MCMC chains are not sampled in parallel\n",
      "└ @ AbstractMCMC /home/konstantin/.julia/packages/AbstractMCMC/BPJCW/src/sample.jl:291\n",
      "┌ Info: Found initial step size\n",
      "│   ϵ = 0.8\n",
      "└ @ Turing.Inference /home/konstantin/.julia/packages/Turing/uMQmD/src/inference/hmc.jl:188\n",
      "┌ Warning: The current proposal will be rejected due to numerical error(s).\n",
      "│   isfinite.((θ, r, ℓπ, ℓκ)) = (true, false, false, false)\n",
      "└ @ AdvancedHMC /home/konstantin/.julia/packages/AdvancedHMC/HQHnm/src/hamiltonian.jl:47\n",
      "┌ Info: Found initial step size\n",
      "│   ϵ = 0.2\n",
      "└ @ Turing.Inference /home/konstantin/.julia/packages/Turing/uMQmD/src/inference/hmc.jl:188\n",
      "┌ Warning: Only a single thread available: MCMC chains are not sampled in parallel\n",
      "└ @ AbstractMCMC /home/konstantin/.julia/packages/AbstractMCMC/BPJCW/src/sample.jl:291\n",
      "┌ Info: Found initial step size\n",
      "│   ϵ = 0.2\n",
      "└ @ Turing.Inference /home/konstantin/.julia/packages/Turing/uMQmD/src/inference/hmc.jl:188\n",
      "┌ Info: Found initial step size\n",
      "│   ϵ = 0.2\n",
      "└ @ Turing.Inference /home/konstantin/.julia/packages/Turing/uMQmD/src/inference/hmc.jl:188\n",
      "┌ Warning: Only a single thread available: MCMC chains are not sampled in parallel\n",
      "└ @ AbstractMCMC /home/konstantin/.julia/packages/AbstractMCMC/BPJCW/src/sample.jl:291\n",
      "┌ Info: Found initial step size\n",
      "│   ϵ = 0.2\n",
      "└ @ Turing.Inference /home/konstantin/.julia/packages/Turing/uMQmD/src/inference/hmc.jl:188\n",
      "┌ Info: Found initial step size\n",
      "│   ϵ = 0.4\n",
      "└ @ Turing.Inference /home/konstantin/.julia/packages/Turing/uMQmD/src/inference/hmc.jl:188\n",
      "┌ Warning: Only a single thread available: MCMC chains are not sampled in parallel\n",
      "└ @ AbstractMCMC /home/konstantin/.julia/packages/AbstractMCMC/BPJCW/src/sample.jl:291\n",
      "┌ Info: Found initial step size\n",
      "│   ϵ = 0.2\n",
      "└ @ Turing.Inference /home/konstantin/.julia/packages/Turing/uMQmD/src/inference/hmc.jl:188\n",
      "┌ Info: Found initial step size\n",
      "│   ϵ = 0.2\n",
      "└ @ Turing.Inference /home/konstantin/.julia/packages/Turing/uMQmD/src/inference/hmc.jl:188\n",
      "┌ Warning: The current proposal will be rejected due to numerical error(s).\n",
      "│   isfinite.((θ, r, ℓπ, ℓκ)) = (true, false, false, false)\n",
      "└ @ AdvancedHMC /home/konstantin/.julia/packages/AdvancedHMC/HQHnm/src/hamiltonian.jl:47\n",
      "┌ Warning: Only a single thread available: MCMC chains are not sampled in parallel\n",
      "└ @ AbstractMCMC /home/konstantin/.julia/packages/AbstractMCMC/BPJCW/src/sample.jl:291\n",
      "┌ Info: Found initial step size\n",
      "│   ϵ = 0.4\n",
      "└ @ Turing.Inference /home/konstantin/.julia/packages/Turing/uMQmD/src/inference/hmc.jl:188\n",
      "┌ Warning: The current proposal will be rejected due to numerical error(s).\n",
      "│   isfinite.((θ, r, ℓπ, ℓκ)) = (true, false, false, false)\n",
      "└ @ AdvancedHMC /home/konstantin/.julia/packages/AdvancedHMC/HQHnm/src/hamiltonian.jl:47\n",
      "┌ Info: Found initial step size\n",
      "│   ϵ = 0.2\n",
      "└ @ Turing.Inference /home/konstantin/.julia/packages/Turing/uMQmD/src/inference/hmc.jl:188\n",
      "┌ Warning: Only a single thread available: MCMC chains are not sampled in parallel\n",
      "└ @ AbstractMCMC /home/konstantin/.julia/packages/AbstractMCMC/BPJCW/src/sample.jl:291\n",
      "┌ Info: Found initial step size\n",
      "│   ϵ = 0.2\n",
      "└ @ Turing.Inference /home/konstantin/.julia/packages/Turing/uMQmD/src/inference/hmc.jl:188\n",
      "┌ Info: Found initial step size\n",
      "│   ϵ = 0.4\n",
      "└ @ Turing.Inference /home/konstantin/.julia/packages/Turing/uMQmD/src/inference/hmc.jl:188\n",
      "┌ Warning: Only a single thread available: MCMC chains are not sampled in parallel\n",
      "└ @ AbstractMCMC /home/konstantin/.julia/packages/AbstractMCMC/BPJCW/src/sample.jl:291\n",
      "┌ Info: Found initial step size\n",
      "│   ϵ = 0.4\n",
      "└ @ Turing.Inference /home/konstantin/.julia/packages/Turing/uMQmD/src/inference/hmc.jl:188\n",
      "┌ Info: Found initial step size\n",
      "│   ϵ = 0.4\n",
      "└ @ Turing.Inference /home/konstantin/.julia/packages/Turing/uMQmD/src/inference/hmc.jl:188\n",
      "┌ Warning: The current proposal will be rejected due to numerical error(s).\n",
      "│   isfinite.((θ, r, ℓπ, ℓκ)) = (true, false, false, false)\n",
      "└ @ AdvancedHMC /home/konstantin/.julia/packages/AdvancedHMC/HQHnm/src/hamiltonian.jl:47\n",
      "┌ Warning: The current proposal will be rejected due to numerical error(s).\n",
      "│   isfinite.((θ, r, ℓπ, ℓκ)) = (true, false, false, false)\n",
      "└ @ AdvancedHMC /home/konstantin/.julia/packages/AdvancedHMC/HQHnm/src/hamiltonian.jl:47\n",
      "┌ Warning: Only a single thread available: MCMC chains are not sampled in parallel\n",
      "└ @ AbstractMCMC /home/konstantin/.julia/packages/AbstractMCMC/BPJCW/src/sample.jl:291\n",
      "┌ Info: Found initial step size\n",
      "│   ϵ = 0.4\n",
      "└ @ Turing.Inference /home/konstantin/.julia/packages/Turing/uMQmD/src/inference/hmc.jl:188\n",
      "┌ Info: Found initial step size\n",
      "│   ϵ = 0.2\n",
      "└ @ Turing.Inference /home/konstantin/.julia/packages/Turing/uMQmD/src/inference/hmc.jl:188\n",
      "┌ Warning: Only a single thread available: MCMC chains are not sampled in parallel\n",
      "└ @ AbstractMCMC /home/konstantin/.julia/packages/AbstractMCMC/BPJCW/src/sample.jl:291\n",
      "┌ Info: Found initial step size\n",
      "│   ϵ = 0.4\n",
      "└ @ Turing.Inference /home/konstantin/.julia/packages/Turing/uMQmD/src/inference/hmc.jl:188\n",
      "┌ Info: Found initial step size\n",
      "│   ϵ = 0.4\n",
      "└ @ Turing.Inference /home/konstantin/.julia/packages/Turing/uMQmD/src/inference/hmc.jl:188\n",
      "┌ Warning: The current proposal will be rejected due to numerical error(s).\n",
      "│   isfinite.((θ, r, ℓπ, ℓκ)) = (true, false, false, false)\n",
      "└ @ AdvancedHMC /home/konstantin/.julia/packages/AdvancedHMC/HQHnm/src/hamiltonian.jl:47\n",
      "┌ Warning: Only a single thread available: MCMC chains are not sampled in parallel\n",
      "└ @ AbstractMCMC /home/konstantin/.julia/packages/AbstractMCMC/BPJCW/src/sample.jl:291\n",
      "┌ Info: Found initial step size\n",
      "│   ϵ = 0.2\n",
      "└ @ Turing.Inference /home/konstantin/.julia/packages/Turing/uMQmD/src/inference/hmc.jl:188\n",
      "┌ Info: Found initial step size\n",
      "│   ϵ = 0.2\n",
      "└ @ Turing.Inference /home/konstantin/.julia/packages/Turing/uMQmD/src/inference/hmc.jl:188\n",
      "┌ Warning: Only a single thread available: MCMC chains are not sampled in parallel\n",
      "└ @ AbstractMCMC /home/konstantin/.julia/packages/AbstractMCMC/BPJCW/src/sample.jl:291\n",
      "┌ Info: Found initial step size\n",
      "│   ϵ = 0.05\n",
      "└ @ Turing.Inference /home/konstantin/.julia/packages/Turing/uMQmD/src/inference/hmc.jl:188\n",
      "┌ Info: Found initial step size\n",
      "│   ϵ = 0.05\n",
      "└ @ Turing.Inference /home/konstantin/.julia/packages/Turing/uMQmD/src/inference/hmc.jl:188\n",
      "┌ Warning: Only a single thread available: MCMC chains are not sampled in parallel\n",
      "└ @ AbstractMCMC /home/konstantin/.julia/packages/AbstractMCMC/BPJCW/src/sample.jl:291\n",
      "┌ Info: Found initial step size\n",
      "│   ϵ = 0.4\n",
      "└ @ Turing.Inference /home/konstantin/.julia/packages/Turing/uMQmD/src/inference/hmc.jl:188\n",
      "┌ Info: Found initial step size\n",
      "│   ϵ = 0.05\n",
      "└ @ Turing.Inference /home/konstantin/.julia/packages/Turing/uMQmD/src/inference/hmc.jl:188\n"
     ]
    },
    {
     "name": "stderr",
     "output_type": "stream",
     "text": [
      "┌ Warning: Only a single thread available: MCMC chains are not sampled in parallel\n",
      "└ @ AbstractMCMC /home/konstantin/.julia/packages/AbstractMCMC/BPJCW/src/sample.jl:291\n",
      "┌ Info: Found initial step size\n",
      "│   ϵ = 0.4\n",
      "└ @ Turing.Inference /home/konstantin/.julia/packages/Turing/uMQmD/src/inference/hmc.jl:188\n",
      "┌ Warning: The current proposal will be rejected due to numerical error(s).\n",
      "│   isfinite.((θ, r, ℓπ, ℓκ)) = (true, false, false, false)\n",
      "└ @ AdvancedHMC /home/konstantin/.julia/packages/AdvancedHMC/HQHnm/src/hamiltonian.jl:47\n",
      "┌ Info: Found initial step size\n",
      "│   ϵ = 0.2\n",
      "└ @ Turing.Inference /home/konstantin/.julia/packages/Turing/uMQmD/src/inference/hmc.jl:188\n",
      "┌ Warning: Only a single thread available: MCMC chains are not sampled in parallel\n",
      "└ @ AbstractMCMC /home/konstantin/.julia/packages/AbstractMCMC/BPJCW/src/sample.jl:291\n",
      "┌ Info: Found initial step size\n",
      "│   ϵ = 0.4\n",
      "└ @ Turing.Inference /home/konstantin/.julia/packages/Turing/uMQmD/src/inference/hmc.jl:188\n",
      "┌ Info: Found initial step size\n",
      "│   ϵ = 0.05\n",
      "└ @ Turing.Inference /home/konstantin/.julia/packages/Turing/uMQmD/src/inference/hmc.jl:188\n"
     ]
    },
    {
     "data": {
      "text/plain": [
       "BenchmarkTools.Trial: 13 samples with 1 evaluation.\n",
       " Range \u001b[90m(\u001b[39m\u001b[36m\u001b[1mmin\u001b[22m\u001b[39m … \u001b[35mmax\u001b[39m\u001b[90m):  \u001b[39m\u001b[36m\u001b[1m4.608 s\u001b[22m\u001b[39m … \u001b[35m  4.961 s\u001b[39m  \u001b[90m┊\u001b[39m GC \u001b[90m(\u001b[39mmin … max\u001b[90m): \u001b[39m12.00% … 12.76%\n",
       " Time  \u001b[90m(\u001b[39m\u001b[34m\u001b[1mmedian\u001b[22m\u001b[39m\u001b[90m):     \u001b[39m\u001b[34m\u001b[1m4.805 s              \u001b[22m\u001b[39m\u001b[90m┊\u001b[39m GC \u001b[90m(\u001b[39mmedian\u001b[90m):    \u001b[39m12.46%\n",
       " Time  \u001b[90m(\u001b[39m\u001b[32m\u001b[1mmean\u001b[22m\u001b[39m ± \u001b[32mσ\u001b[39m\u001b[90m):   \u001b[39m\u001b[32m\u001b[1m4.794 s\u001b[22m\u001b[39m ± \u001b[32m97.350 ms\u001b[39m  \u001b[90m┊\u001b[39m GC \u001b[90m(\u001b[39mmean ± σ\u001b[90m):  \u001b[39m12.46% ±  0.34%\n",
       "\n",
       "  \u001b[39m▁\u001b[39m \u001b[39m \u001b[39m \u001b[39m \u001b[39m \u001b[39m \u001b[39m \u001b[39m \u001b[39m \u001b[39m▁\u001b[39m \u001b[39m \u001b[39m \u001b[39m \u001b[39m \u001b[39m▁\u001b[39m \u001b[39m \u001b[39m \u001b[39m \u001b[39m \u001b[39m \u001b[39m▁\u001b[39m \u001b[39m▁\u001b[39m▁\u001b[34m \u001b[39m\u001b[39m \u001b[39m \u001b[32m \u001b[39m\u001b[39m▁\u001b[39m \u001b[39m▁\u001b[39m \u001b[39m█\u001b[39m \u001b[39m \u001b[39m \u001b[39m \u001b[39m \u001b[39m▁\u001b[39m \u001b[39m \u001b[39m \u001b[39m \u001b[39m \u001b[39m \u001b[39m \u001b[39m \u001b[39m \u001b[39m \u001b[39m▁\u001b[39m \u001b[39m \u001b[39m \u001b[39m▁\u001b[39m \u001b[39m \n",
       "  \u001b[39m█\u001b[39m▁\u001b[39m▁\u001b[39m▁\u001b[39m▁\u001b[39m▁\u001b[39m▁\u001b[39m▁\u001b[39m▁\u001b[39m▁\u001b[39m█\u001b[39m▁\u001b[39m▁\u001b[39m▁\u001b[39m▁\u001b[39m▁\u001b[39m█\u001b[39m▁\u001b[39m▁\u001b[39m▁\u001b[39m▁\u001b[39m▁\u001b[39m▁\u001b[39m█\u001b[39m▁\u001b[39m█\u001b[39m█\u001b[34m▁\u001b[39m\u001b[39m▁\u001b[39m▁\u001b[32m▁\u001b[39m\u001b[39m█\u001b[39m▁\u001b[39m█\u001b[39m▁\u001b[39m█\u001b[39m▁\u001b[39m▁\u001b[39m▁\u001b[39m▁\u001b[39m▁\u001b[39m█\u001b[39m▁\u001b[39m▁\u001b[39m▁\u001b[39m▁\u001b[39m▁\u001b[39m▁\u001b[39m▁\u001b[39m▁\u001b[39m▁\u001b[39m▁\u001b[39m█\u001b[39m▁\u001b[39m▁\u001b[39m▁\u001b[39m█\u001b[39m \u001b[39m▁\n",
       "  4.61 s\u001b[90m         Histogram: frequency by time\u001b[39m        4.96 s \u001b[0m\u001b[1m<\u001b[22m\n",
       "\n",
       " Memory estimate\u001b[90m: \u001b[39m\u001b[33m5.48 GiB\u001b[39m, allocs estimate\u001b[90m: \u001b[39m\u001b[33m7100676\u001b[39m."
      ]
     },
     "execution_count": 208,
     "metadata": {},
     "output_type": "execute_result"
    }
   ],
   "source": [
    "@benchmark tur.sample(model_t_inc, NUTS, tur.MCMCThreads(), num_samples, num_chains; discard_adapt=true) seconds = 60"
   ]
  },
  {
   "cell_type": "markdown",
   "metadata": {},
   "source": [
    "The two results above indicate that the online updates is faster and requires less memory."
   ]
  },
  {
   "cell_type": "markdown",
   "metadata": {},
   "source": [
    "### Accuracy <a name=\"bench_acc\"></a>\n",
    "We compare the estimated values from the online update and from NUTS to the true values."
   ]
  },
  {
   "cell_type": "code",
   "execution_count": 209,
   "metadata": {},
   "outputs": [
    {
     "name": "stdout",
     "output_type": "stream",
     "text": [
      "Some parameters in are not present in the chain but in the model: Set(Any[Symbol(\"sigmaSquared[41]\")]) \n",
      "Using prior samples from the model for them instead.\n"
     ]
    }
   ],
   "source": [
    "newChain = online.update(chain_t,model_t_inc,tur.SMC(),rng);"
   ]
  },
  {
   "cell_type": "code",
   "execution_count": 210,
   "metadata": {},
   "outputs": [
    {
     "name": "stderr",
     "output_type": "stream",
     "text": [
      "┌ Warning: Only a single thread available: MCMC chains are not sampled in parallel\n",
      "└ @ AbstractMCMC /home/konstantin/.julia/packages/AbstractMCMC/BPJCW/src/sample.jl:291\n",
      "┌ Info: Found initial step size\n",
      "│   ϵ = 0.2\n",
      "└ @ Turing.Inference /home/konstantin/.julia/packages/Turing/uMQmD/src/inference/hmc.jl:188\n",
      "┌ Info: Found initial step size\n",
      "│   ϵ = 0.4\n",
      "└ @ Turing.Inference /home/konstantin/.julia/packages/Turing/uMQmD/src/inference/hmc.jl:188\n",
      "┌ Warning: The current proposal will be rejected due to numerical error(s).\n",
      "│   isfinite.((θ, r, ℓπ, ℓκ)) = (true, false, false, false)\n",
      "└ @ AdvancedHMC /home/konstantin/.julia/packages/AdvancedHMC/HQHnm/src/hamiltonian.jl:47\n"
     ]
    }
   ],
   "source": [
    "chain_t_inc = tur.sample(model_t_inc, NUTS, tur.MCMCThreads(), num_samples, num_chains; discard_adapt=true);"
   ]
  },
  {
   "cell_type": "code",
   "execution_count": 211,
   "metadata": {},
   "outputs": [],
   "source": [
    "dictChains = Dict(\"Update\" => newChain, \"NUTS\" => chain_t_inc , \"True\" => prior_chain);"
   ]
  },
  {
   "cell_type": "code",
   "execution_count": 212,
   "metadata": {},
   "outputs": [],
   "source": [
    "dictColor = Dict(\"Update\" => \"C1\", \"NUTS\" => \"C2\" , \"True\" => \"k\");"
   ]
  },
  {
   "cell_type": "code",
   "execution_count": 213,
   "metadata": {},
   "outputs": [
    {
     "data": {
      "image/png": "[encoded data removed]",
      "text/plain": [
       "PyPlot.Figure(PyObject <Figure size 3600x2400 with 1 Axes>)"
      ]
     },
     "metadata": {},
     "output_type": "display_data"
    }
   ],
   "source": [
    "plt.figure(figsize=(12,8),dpi=300)\n",
    "for (i,sym) in enumerate(chain_t_inc.name_map.parameters)\n",
    "    for (k,v) in dictChains\n",
    "        if sym in v.name_map.parameters\n",
    "            if k != \"True\"\n",
    "                # compute statistics\n",
    "                samples = collect(Iterators.flatten(v[sym].data))\n",
    "                mean = dist.mean(samples)\n",
    "                std = dist.std(samples)\n",
    "                \n",
    "                # plot errorbars\n",
    "                plt.errorbar(x=i,y=mean,yerr=std,fmt=\"o\",color=dictColor[k],alpha=0.7)\n",
    "            else \n",
    "                # plot true\n",
    "                plt.scatter([i],v[sym].data[1,:],color=\"k\",marker=\"+\")\n",
    "            end\n",
    "        end        \n",
    "    \n",
    "    end\n",
    "end\n",
    "# add labels\n",
    "for (ckey,cvalue) in dictColor\n",
    "    plt.plot([],[],label=ckey,color=cvalue)\n",
    "end\n",
    "plt.legend()\n",
    "\n",
    "# ticks\n",
    "plt.xticks(1:length(chain_t_inc.name_map.parameters), chain_t_inc.name_map.parameters, rotation=\"vertical\")\n",
    "\n",
    "plt.show()"
   ]
  },
  {
   "cell_type": "markdown",
   "metadata": {},
   "source": [
    "The performance of both algorithms is similar as all estimates are within a fraction of the corresponding standard deviations."
   ]
  },
  {
   "cell_type": "code",
   "execution_count": 241,
   "metadata": {},
   "outputs": [
    {
     "data": {
      "text/plain": [
       "2.3786141431429675"
      ]
     },
     "execution_count": 241,
     "metadata": {},
     "output_type": "execute_result"
    }
   ],
   "source": [
    "scoring.getScore(chain_t_inc,[:omega,:alpha,:beta],trueVals)"
   ]
  },
  {
   "cell_type": "code",
   "execution_count": 242,
   "metadata": {},
   "outputs": [
    {
     "data": {
      "text/plain": [
       "2.4227369438218527"
      ]
     },
     "execution_count": 242,
     "metadata": {},
     "output_type": "execute_result"
    }
   ],
   "source": [
    "scoring.getScore(newChain,[:omega,:alpha,:beta],trueVals)"
   ]
  },
  {
   "cell_type": "markdown",
   "metadata": {},
   "source": [
    "## Repeated updates <a name=\"loop\"></a>\n",
    "We investigate the repeated use of the online update over a time series."
   ]
  },
  {
   "cell_type": "code",
   "execution_count": 222,
   "metadata": {},
   "outputs": [
    {
     "data": {
      "text/plain": [
       "Dict{Any, Any}()"
      ]
     },
     "execution_count": 222,
     "metadata": {},
     "output_type": "execute_result"
    }
   ],
   "source": [
    "chainDict = Dict()"
   ]
  },
  {
   "cell_type": "code",
   "execution_count": 223,
   "metadata": {},
   "outputs": [
    {
     "data": {
      "text/plain": [
       "Turing.Inference.SMC{(), AdvancedPS.ResampleWithESSThreshold{typeof(AdvancedPS.resample_systematic), Float64}}(AdvancedPS.ResampleWithESSThreshold{typeof(AdvancedPS.resample_systematic), Float64}(AdvancedPS.resample_systematic, 0.5))"
      ]
     },
     "execution_count": 223,
     "metadata": {},
     "output_type": "execute_result"
    }
   ],
   "source": [
    "smc = tur.SMC()"
   ]
  },
  {
   "cell_type": "code",
   "execution_count": 226,
   "metadata": {},
   "outputs": [
    {
     "name": "stdout",
     "output_type": "stream",
     "text": [
      "NUTS at 1\n",
      "SMC at 1\n",
      "NUTS at 2\n"
     ]
    },
    {
     "name": "stderr",
     "output_type": "stream",
     "text": [
      "┌ Warning: Only a single thread available: MCMC chains are not sampled in parallel\n",
      "└ @ AbstractMCMC /home/konstantin/.julia/packages/AbstractMCMC/BPJCW/src/sample.jl:291\n",
      "┌ Info: Found initial step size\n",
      "│   ϵ = 0.8\n",
      "└ @ Turing.Inference /home/konstantin/.julia/packages/Turing/uMQmD/src/inference/hmc.jl:188\n",
      "┌ Info: Found initial step size\n",
      "│   ϵ = 0.8\n",
      "└ @ Turing.Inference /home/konstantin/.julia/packages/Turing/uMQmD/src/inference/hmc.jl:188\n",
      "┌ Warning: Only a single thread available: MCMC chains are not sampled in parallel\n",
      "└ @ AbstractMCMC /home/konstantin/.julia/packages/AbstractMCMC/BPJCW/src/sample.jl:291\n",
      "┌ Warning: Only a single thread available: MCMC chains are not sampled in parallel\n",
      "└ @ AbstractMCMC /home/konstantin/.julia/packages/AbstractMCMC/BPJCW/src/sample.jl:291\n"
     ]
    },
    {
     "name": "stdout",
     "output_type": "stream",
     "text": [
      "Online at 2\n",
      "Some parameters in are not present in the chain but in the model: Set(Any[Symbol(\"sigmaSquared[2]\")]) \n",
      "Using prior samples from the model for them instead.\n"
     ]
    },
    {
     "name": "stderr",
     "output_type": "stream",
     "text": [
      "┌ Info: Found initial step size\n",
      "│   ϵ = 0.8\n",
      "└ @ Turing.Inference /home/konstantin/.julia/packages/Turing/uMQmD/src/inference/hmc.jl:188\n",
      "┌ Info: Found initial step size\n",
      "│   ϵ = 0.20625000000000002\n",
      "└ @ Turing.Inference /home/konstantin/.julia/packages/Turing/uMQmD/src/inference/hmc.jl:188\n"
     ]
    },
    {
     "name": "stdout",
     "output_type": "stream",
     "text": [
      "SMC at 2\n",
      "NUTS at 3.\n"
     ]
    },
    {
     "name": "stderr",
     "output_type": "stream",
     "text": [
      "┌ Warning: Only a single thread available: MCMC chains are not sampled in parallel\n",
      "└ @ AbstractMCMC /home/konstantin/.julia/packages/AbstractMCMC/BPJCW/src/sample.jl:291\n",
      "┌ Warning: Only a single thread available: MCMC chains are not sampled in parallel\n",
      "└ @ AbstractMCMC /home/konstantin/.julia/packages/AbstractMCMC/BPJCW/src/sample.jl:291\n"
     ]
    },
    {
     "name": "stdout",
     "output_type": "stream",
     "text": [
      "Online at 3\n"
     ]
    },
    {
     "name": "stderr",
     "output_type": "stream",
     "text": [
      "┌ Info: Found initial step size\n",
      "│   ϵ = 0.8\n",
      "└ @ Turing.Inference /home/konstantin/.julia/packages/Turing/uMQmD/src/inference/hmc.jl:188\n",
      "┌ Info: Found initial step size\n",
      "│   ϵ = 1.6\n",
      "└ @ Turing.Inference /home/konstantin/.julia/packages/Turing/uMQmD/src/inference/hmc.jl:188\n"
     ]
    },
    {
     "name": "stdout",
     "output_type": "stream",
     "text": [
      "Some parameters in are not present in the chain but in the model: Set(Any[Symbol(\"sigmaSquared[3]\")]) \n",
      "Using prior samples from the model for them instead.\n",
      "SMC at 3\n",
      "NUTS at 4.\n"
     ]
    },
    {
     "name": "stderr",
     "output_type": "stream",
     "text": [
      "┌ Warning: Only a single thread available: MCMC chains are not sampled in parallel\n",
      "└ @ AbstractMCMC /home/konstantin/.julia/packages/AbstractMCMC/BPJCW/src/sample.jl:291\n",
      "┌ Warning: Only a single thread available: MCMC chains are not sampled in parallel\n",
      "└ @ AbstractMCMC /home/konstantin/.julia/packages/AbstractMCMC/BPJCW/src/sample.jl:291\n",
      "┌ Info: Found initial step size\n",
      "│   ϵ = 0.4\n",
      "└ @ Turing.Inference /home/konstantin/.julia/packages/Turing/uMQmD/src/inference/hmc.jl:188\n",
      "┌ Info: Found initial step size\n",
      "│   ϵ = 0.4\n",
      "└ @ Turing.Inference /home/konstantin/.julia/packages/Turing/uMQmD/src/inference/hmc.jl:188\n"
     ]
    },
    {
     "name": "stdout",
     "output_type": "stream",
     "text": [
      "Online at 4\n",
      "Some parameters in are not present in the chain but in the model: Set(Any[Symbol(\"sigmaSquared[4]\")]) \n",
      "Using prior samples from the model for them instead.\n",
      "SMC at 4\n",
      "NUTS at 5.\n"
     ]
    },
    {
     "name": "stderr",
     "output_type": "stream",
     "text": [
      "┌ Warning: Only a single thread available: MCMC chains are not sampled in parallel\n",
      "└ @ AbstractMCMC /home/konstantin/.julia/packages/AbstractMCMC/BPJCW/src/sample.jl:291\n",
      "┌ Warning: Only a single thread available: MCMC chains are not sampled in parallel\n",
      "└ @ AbstractMCMC /home/konstantin/.julia/packages/AbstractMCMC/BPJCW/src/sample.jl:291\n",
      "┌ Info: Found initial step size\n",
      "│   ϵ = 0.8\n",
      "└ @ Turing.Inference /home/konstantin/.julia/packages/Turing/uMQmD/src/inference/hmc.jl:188\n",
      "┌ Info: Found initial step size\n",
      "│   ϵ = 0.8\n",
      "└ @ Turing.Inference /home/konstantin/.julia/packages/Turing/uMQmD/src/inference/hmc.jl:188\n"
     ]
    },
    {
     "name": "stdout",
     "output_type": "stream",
     "text": [
      "Online at 5\n",
      "Some parameters in are not present in the chain but in the model: Set(Any[Symbol(\"sigmaSquared[5]\")]) \n",
      "Using prior samples from the model for them instead.\n",
      "SMC at 5\n",
      "NUTS at 6.\n"
     ]
    },
    {
     "name": "stderr",
     "output_type": "stream",
     "text": [
      "┌ Warning: Only a single thread available: MCMC chains are not sampled in parallel\n",
      "└ @ AbstractMCMC /home/konstantin/.julia/packages/AbstractMCMC/BPJCW/src/sample.jl:291\n",
      "┌ Warning: Only a single thread available: MCMC chains are not sampled in parallel\n",
      "└ @ AbstractMCMC /home/konstantin/.julia/packages/AbstractMCMC/BPJCW/src/sample.jl:291\n",
      "┌ Info: Found initial step size\n",
      "│   ϵ = 0.8\n",
      "└ @ Turing.Inference /home/konstantin/.julia/packages/Turing/uMQmD/src/inference/hmc.jl:188\n",
      "┌ Info: Found initial step size\n",
      "│   ϵ = 0.8\n",
      "└ @ Turing.Inference /home/konstantin/.julia/packages/Turing/uMQmD/src/inference/hmc.jl:188\n"
     ]
    },
    {
     "name": "stdout",
     "output_type": "stream",
     "text": [
      "Online at 6\n",
      "Some parameters in are not present in the chain but in the model: Set(Any[Symbol(\"sigmaSquared[6]\")]) \n",
      "Using prior samples from the model for them instead.\n",
      "SMC at 6\n"
     ]
    },
    {
     "name": "stderr",
     "output_type": "stream",
     "text": [
      "┌ Warning: Only a single thread available: MCMC chains are not sampled in parallel\n",
      "└ @ AbstractMCMC /home/konstantin/.julia/packages/AbstractMCMC/BPJCW/src/sample.jl:291\n"
     ]
    },
    {
     "name": "stdout",
     "output_type": "stream",
     "text": [
      "NUTS at 7.\n"
     ]
    },
    {
     "name": "stderr",
     "output_type": "stream",
     "text": [
      "┌ Warning: Only a single thread available: MCMC chains are not sampled in parallel\n",
      "└ @ AbstractMCMC /home/konstantin/.julia/packages/AbstractMCMC/BPJCW/src/sample.jl:291\n",
      "┌ Info: Found initial step size\n",
      "│   ϵ = 0.4\n",
      "└ @ Turing.Inference /home/konstantin/.julia/packages/Turing/uMQmD/src/inference/hmc.jl:188\n",
      "┌ Info: Found initial step size\n",
      "│   ϵ = 0.8\n",
      "└ @ Turing.Inference /home/konstantin/.julia/packages/Turing/uMQmD/src/inference/hmc.jl:188\n"
     ]
    },
    {
     "name": "stdout",
     "output_type": "stream",
     "text": [
      "Online at 7\n",
      "Some parameters in are not present in the chain but in the model: Set(Any[Symbol(\"sigmaSquared[7]\")]) \n",
      "Using prior samples from the model for them instead.\n",
      "SMC at 7\n",
      "NUTS at 8.\n"
     ]
    },
    {
     "name": "stderr",
     "output_type": "stream",
     "text": [
      "┌ Warning: Only a single thread available: MCMC chains are not sampled in parallel\n",
      "└ @ AbstractMCMC /home/konstantin/.julia/packages/AbstractMCMC/BPJCW/src/sample.jl:291\n",
      "┌ Warning: Only a single thread available: MCMC chains are not sampled in parallel\n",
      "└ @ AbstractMCMC /home/konstantin/.julia/packages/AbstractMCMC/BPJCW/src/sample.jl:291\n",
      "┌ Info: Found initial step size\n",
      "│   ϵ = 0.4\n",
      "└ @ Turing.Inference /home/konstantin/.julia/packages/Turing/uMQmD/src/inference/hmc.jl:188\n",
      "┌ Info: Found initial step size\n",
      "│   ϵ = 0.4\n",
      "└ @ Turing.Inference /home/konstantin/.julia/packages/Turing/uMQmD/src/inference/hmc.jl:188\n"
     ]
    },
    {
     "name": "stdout",
     "output_type": "stream",
     "text": [
      "Online at 8\n",
      "Some parameters in are not present in the chain but in the model: Set(Any[Symbol(\"sigmaSquared[8]\")]) \n",
      "Using prior samples from the model for them instead.\n",
      "SMC at 8\n"
     ]
    },
    {
     "name": "stderr",
     "output_type": "stream",
     "text": [
      "┌ Warning: Only a single thread available: MCMC chains are not sampled in parallel\n",
      "└ @ AbstractMCMC /home/konstantin/.julia/packages/AbstractMCMC/BPJCW/src/sample.jl:291\n"
     ]
    },
    {
     "name": "stdout",
     "output_type": "stream",
     "text": [
      "NUTS at 9.\n"
     ]
    },
    {
     "name": "stderr",
     "output_type": "stream",
     "text": [
      "┌ Warning: Only a single thread available: MCMC chains are not sampled in parallel\n",
      "└ @ AbstractMCMC /home/konstantin/.julia/packages/AbstractMCMC/BPJCW/src/sample.jl:291\n",
      "┌ Info: Found initial step size\n",
      "│   ϵ = 0.4\n",
      "└ @ Turing.Inference /home/konstantin/.julia/packages/Turing/uMQmD/src/inference/hmc.jl:188\n",
      "┌ Info: Found initial step size\n",
      "│   ϵ = 0.4\n",
      "└ @ Turing.Inference /home/konstantin/.julia/packages/Turing/uMQmD/src/inference/hmc.jl:188\n"
     ]
    },
    {
     "name": "stdout",
     "output_type": "stream",
     "text": [
      "Online at 9\n",
      "Some parameters in are not present in the chain but in the model: Set(Any[Symbol(\"sigmaSquared[9]\")]) \n",
      "Using prior samples from the model for them instead.\n",
      "SMC at 9\n"
     ]
    },
    {
     "name": "stderr",
     "output_type": "stream",
     "text": [
      "┌ Warning: Only a single thread available: MCMC chains are not sampled in parallel\n",
      "└ @ AbstractMCMC /home/konstantin/.julia/packages/AbstractMCMC/BPJCW/src/sample.jl:291\n"
     ]
    },
    {
     "name": "stdout",
     "output_type": "stream",
     "text": [
      "NUTS at 10.\n"
     ]
    },
    {
     "name": "stderr",
     "output_type": "stream",
     "text": [
      "┌ Warning: Only a single thread available: MCMC chains are not sampled in parallel\n",
      "└ @ AbstractMCMC /home/konstantin/.julia/packages/AbstractMCMC/BPJCW/src/sample.jl:291\n",
      "┌ Info: Found initial step size\n",
      "│   ϵ = 0.8\n",
      "└ @ Turing.Inference /home/konstantin/.julia/packages/Turing/uMQmD/src/inference/hmc.jl:188\n",
      "┌ Info: Found initial step size\n",
      "│   ϵ = 0.4\n",
      "└ @ Turing.Inference /home/konstantin/.julia/packages/Turing/uMQmD/src/inference/hmc.jl:188\n"
     ]
    },
    {
     "name": "stdout",
     "output_type": "stream",
     "text": [
      "Online at 10\n",
      "Some parameters in are not present in the chain but in the model: Set(Any[Symbol(\"sigmaSquared[10]\")]) \n",
      "Using prior samples from the model for them instead.\n",
      "SMC at 10\n"
     ]
    },
    {
     "name": "stderr",
     "output_type": "stream",
     "text": [
      "┌ Warning: Only a single thread available: MCMC chains are not sampled in parallel\n",
      "└ @ AbstractMCMC /home/konstantin/.julia/packages/AbstractMCMC/BPJCW/src/sample.jl:291\n"
     ]
    },
    {
     "name": "stdout",
     "output_type": "stream",
     "text": [
      "NUTS at 11.\n"
     ]
    },
    {
     "name": "stderr",
     "output_type": "stream",
     "text": [
      "┌ Warning: Only a single thread available: MCMC chains are not sampled in parallel\n",
      "└ @ AbstractMCMC /home/konstantin/.julia/packages/AbstractMCMC/BPJCW/src/sample.jl:291\n",
      "┌ Info: Found initial step size\n",
      "│   ϵ = 0.4\n",
      "└ @ Turing.Inference /home/konstantin/.julia/packages/Turing/uMQmD/src/inference/hmc.jl:188\n",
      "┌ Info: Found initial step size\n",
      "│   ϵ = 0.4\n",
      "└ @ Turing.Inference /home/konstantin/.julia/packages/Turing/uMQmD/src/inference/hmc.jl:188\n"
     ]
    },
    {
     "name": "stdout",
     "output_type": "stream",
     "text": [
      "Online at 11\n",
      "Some parameters in are not present in the chain but in the model: Set(Any[Symbol(\"sigmaSquared[11]\")]) \n",
      "Using prior samples from the model for them instead.\n",
      "SMC at 11\n"
     ]
    },
    {
     "name": "stderr",
     "output_type": "stream",
     "text": [
      "┌ Warning: Only a single thread available: MCMC chains are not sampled in parallel\n",
      "└ @ AbstractMCMC /home/konstantin/.julia/packages/AbstractMCMC/BPJCW/src/sample.jl:291\n"
     ]
    },
    {
     "name": "stdout",
     "output_type": "stream",
     "text": [
      "NUTS at 12.\n"
     ]
    },
    {
     "name": "stderr",
     "output_type": "stream",
     "text": [
      "┌ Warning: Only a single thread available: MCMC chains are not sampled in parallel\n",
      "└ @ AbstractMCMC /home/konstantin/.julia/packages/AbstractMCMC/BPJCW/src/sample.jl:291\n",
      "┌ Info: Found initial step size\n",
      "│   ϵ = 0.4\n",
      "└ @ Turing.Inference /home/konstantin/.julia/packages/Turing/uMQmD/src/inference/hmc.jl:188\n",
      "┌ Info: Found initial step size\n",
      "│   ϵ = 0.8\n",
      "└ @ Turing.Inference /home/konstantin/.julia/packages/Turing/uMQmD/src/inference/hmc.jl:188\n"
     ]
    },
    {
     "name": "stdout",
     "output_type": "stream",
     "text": [
      "Online at 12\n",
      "Some parameters in are not present in the chain but in the model: Set(Any[Symbol(\"sigmaSquared[12]\")]) \n",
      "Using prior samples from the model for them instead.\n",
      "SMC at 12\n"
     ]
    },
    {
     "name": "stderr",
     "output_type": "stream",
     "text": [
      "┌ Warning: Only a single thread available: MCMC chains are not sampled in parallel\n",
      "└ @ AbstractMCMC /home/konstantin/.julia/packages/AbstractMCMC/BPJCW/src/sample.jl:291\n"
     ]
    },
    {
     "name": "stdout",
     "output_type": "stream",
     "text": [
      "NUTS at 13.\n"
     ]
    },
    {
     "name": "stderr",
     "output_type": "stream",
     "text": [
      "┌ Warning: Only a single thread available: MCMC chains are not sampled in parallel\n",
      "└ @ AbstractMCMC /home/konstantin/.julia/packages/AbstractMCMC/BPJCW/src/sample.jl:291\n",
      "┌ Info: Found initial step size\n",
      "│   ϵ = 0.4\n",
      "└ @ Turing.Inference /home/konstantin/.julia/packages/Turing/uMQmD/src/inference/hmc.jl:188\n",
      "┌ Info: Found initial step size\n",
      "│   ϵ = 0.4\n",
      "└ @ Turing.Inference /home/konstantin/.julia/packages/Turing/uMQmD/src/inference/hmc.jl:188\n"
     ]
    },
    {
     "name": "stdout",
     "output_type": "stream",
     "text": [
      "Online at 13\n",
      "Some parameters in are not present in the chain but in the model: Set(Any[Symbol(\"sigmaSquared[13]\")]) \n",
      "Using prior samples from the model for them instead.\n",
      "SMC at 13\n"
     ]
    },
    {
     "name": "stderr",
     "output_type": "stream",
     "text": [
      "┌ Warning: Only a single thread available: MCMC chains are not sampled in parallel\n",
      "└ @ AbstractMCMC /home/konstantin/.julia/packages/AbstractMCMC/BPJCW/src/sample.jl:291\n"
     ]
    },
    {
     "name": "stdout",
     "output_type": "stream",
     "text": [
      "NUTS at 14.\n"
     ]
    },
    {
     "name": "stderr",
     "output_type": "stream",
     "text": [
      "┌ Warning: Only a single thread available: MCMC chains are not sampled in parallel\n",
      "└ @ AbstractMCMC /home/konstantin/.julia/packages/AbstractMCMC/BPJCW/src/sample.jl:291\n",
      "┌ Info: Found initial step size\n",
      "│   ϵ = 0.4\n",
      "└ @ Turing.Inference /home/konstantin/.julia/packages/Turing/uMQmD/src/inference/hmc.jl:188\n",
      "┌ Info: Found initial step size\n",
      "│   ϵ = 0.4\n",
      "└ @ Turing.Inference /home/konstantin/.julia/packages/Turing/uMQmD/src/inference/hmc.jl:188\n"
     ]
    },
    {
     "name": "stdout",
     "output_type": "stream",
     "text": [
      "Online at 14\n",
      "Some parameters in are not present in the chain but in the model: Set(Any[Symbol(\"sigmaSquared[14]\")]) \n",
      "Using prior samples from the model for them instead.\n",
      "SMC at 14\n"
     ]
    },
    {
     "name": "stderr",
     "output_type": "stream",
     "text": [
      "┌ Warning: Only a single thread available: MCMC chains are not sampled in parallel\n",
      "└ @ AbstractMCMC /home/konstantin/.julia/packages/AbstractMCMC/BPJCW/src/sample.jl:291\n"
     ]
    },
    {
     "name": "stdout",
     "output_type": "stream",
     "text": [
      "NUTS at 15.\n"
     ]
    },
    {
     "name": "stderr",
     "output_type": "stream",
     "text": [
      "┌ Warning: Only a single thread available: MCMC chains are not sampled in parallel\n",
      "└ @ AbstractMCMC /home/konstantin/.julia/packages/AbstractMCMC/BPJCW/src/sample.jl:291\n",
      "┌ Info: Found initial step size\n",
      "│   ϵ = 0.4\n",
      "└ @ Turing.Inference /home/konstantin/.julia/packages/Turing/uMQmD/src/inference/hmc.jl:188\n",
      "┌ Info: Found initial step size\n",
      "│   ϵ = 0.4\n",
      "└ @ Turing.Inference /home/konstantin/.julia/packages/Turing/uMQmD/src/inference/hmc.jl:188\n"
     ]
    },
    {
     "name": "stdout",
     "output_type": "stream",
     "text": [
      "Online at 15\n",
      "Some parameters in are not present in the chain but in the model: Set(Any[Symbol(\"sigmaSquared[15]\")]) \n",
      "Using prior samples from the model for them instead.\n",
      "SMC at 15\n"
     ]
    },
    {
     "name": "stderr",
     "output_type": "stream",
     "text": [
      "┌ Warning: Only a single thread available: MCMC chains are not sampled in parallel\n",
      "└ @ AbstractMCMC /home/konstantin/.julia/packages/AbstractMCMC/BPJCW/src/sample.jl:291\n"
     ]
    },
    {
     "name": "stdout",
     "output_type": "stream",
     "text": [
      "NUTS at 16.\n"
     ]
    },
    {
     "name": "stderr",
     "output_type": "stream",
     "text": [
      "┌ Warning: Only a single thread available: MCMC chains are not sampled in parallel\n",
      "└ @ AbstractMCMC /home/konstantin/.julia/packages/AbstractMCMC/BPJCW/src/sample.jl:291\n",
      "┌ Info: Found initial step size\n",
      "│   ϵ = 0.4\n",
      "└ @ Turing.Inference /home/konstantin/.julia/packages/Turing/uMQmD/src/inference/hmc.jl:188\n",
      "┌ Info: Found initial step size\n",
      "│   ϵ = 0.4\n",
      "└ @ Turing.Inference /home/konstantin/.julia/packages/Turing/uMQmD/src/inference/hmc.jl:188\n"
     ]
    },
    {
     "name": "stdout",
     "output_type": "stream",
     "text": [
      "Online at 16\n",
      "Some parameters in are not present in the chain but in the model: Set(Any[Symbol(\"sigmaSquared[16]\")]) \n",
      "Using prior samples from the model for them instead.\n",
      "SMC at 16\n"
     ]
    },
    {
     "name": "stderr",
     "output_type": "stream",
     "text": [
      "┌ Warning: Only a single thread available: MCMC chains are not sampled in parallel\n",
      "└ @ AbstractMCMC /home/konstantin/.julia/packages/AbstractMCMC/BPJCW/src/sample.jl:291\n"
     ]
    },
    {
     "name": "stdout",
     "output_type": "stream",
     "text": [
      "NUTS at 17.\n"
     ]
    },
    {
     "name": "stderr",
     "output_type": "stream",
     "text": [
      "┌ Warning: Only a single thread available: MCMC chains are not sampled in parallel\n",
      "└ @ AbstractMCMC /home/konstantin/.julia/packages/AbstractMCMC/BPJCW/src/sample.jl:291\n",
      "┌ Info: Found initial step size\n",
      "│   ϵ = 0.4\n",
      "└ @ Turing.Inference /home/konstantin/.julia/packages/Turing/uMQmD/src/inference/hmc.jl:188\n",
      "┌ Info: Found initial step size\n",
      "│   ϵ = 0.4\n",
      "└ @ Turing.Inference /home/konstantin/.julia/packages/Turing/uMQmD/src/inference/hmc.jl:188\n"
     ]
    },
    {
     "name": "stdout",
     "output_type": "stream",
     "text": [
      "Online at 17\n",
      "Some parameters in are not present in the chain but in the model: Set(Any[Symbol(\"sigmaSquared[17]\")]) \n",
      "Using prior samples from the model for them instead.\n",
      "SMC at 17\n"
     ]
    },
    {
     "name": "stderr",
     "output_type": "stream",
     "text": [
      "┌ Warning: Only a single thread available: MCMC chains are not sampled in parallel\n",
      "└ @ AbstractMCMC /home/konstantin/.julia/packages/AbstractMCMC/BPJCW/src/sample.jl:291\n"
     ]
    },
    {
     "name": "stdout",
     "output_type": "stream",
     "text": [
      "NUTS at 18.\n"
     ]
    },
    {
     "name": "stderr",
     "output_type": "stream",
     "text": [
      "┌ Warning: Only a single thread available: MCMC chains are not sampled in parallel\n",
      "└ @ AbstractMCMC /home/konstantin/.julia/packages/AbstractMCMC/BPJCW/src/sample.jl:291\n",
      "┌ Info: Found initial step size\n",
      "│   ϵ = 0.4\n",
      "└ @ Turing.Inference /home/konstantin/.julia/packages/Turing/uMQmD/src/inference/hmc.jl:188\n",
      "┌ Info: Found initial step size\n",
      "│   ϵ = 0.4\n",
      "└ @ Turing.Inference /home/konstantin/.julia/packages/Turing/uMQmD/src/inference/hmc.jl:188\n"
     ]
    },
    {
     "name": "stdout",
     "output_type": "stream",
     "text": [
      "Online at 18\n",
      "Some parameters in are not present in the chain but in the model: Set(Any[Symbol(\"sigmaSquared[18]\")]) \n",
      "Using prior samples from the model for them instead.\n",
      "SMC at 18\n"
     ]
    },
    {
     "name": "stderr",
     "output_type": "stream",
     "text": [
      "┌ Warning: Only a single thread available: MCMC chains are not sampled in parallel\n",
      "└ @ AbstractMCMC /home/konstantin/.julia/packages/AbstractMCMC/BPJCW/src/sample.jl:291\n"
     ]
    },
    {
     "name": "stdout",
     "output_type": "stream",
     "text": [
      "NUTS at 19.\n"
     ]
    },
    {
     "name": "stderr",
     "output_type": "stream",
     "text": [
      "┌ Warning: Only a single thread available: MCMC chains are not sampled in parallel\n",
      "└ @ AbstractMCMC /home/konstantin/.julia/packages/AbstractMCMC/BPJCW/src/sample.jl:291\n",
      "┌ Info: Found initial step size\n",
      "│   ϵ = 0.4\n",
      "└ @ Turing.Inference /home/konstantin/.julia/packages/Turing/uMQmD/src/inference/hmc.jl:188\n",
      "┌ Warning: The current proposal will be rejected due to numerical error(s).\n",
      "│   isfinite.((θ, r, ℓπ, ℓκ)) = (true, false, false, false)\n",
      "└ @ AdvancedHMC /home/konstantin/.julia/packages/AdvancedHMC/HQHnm/src/hamiltonian.jl:47\n",
      "┌ Info: Found initial step size\n",
      "│   ϵ = 0.2\n",
      "└ @ Turing.Inference /home/konstantin/.julia/packages/Turing/uMQmD/src/inference/hmc.jl:188\n"
     ]
    },
    {
     "name": "stdout",
     "output_type": "stream",
     "text": [
      "Online at 19\n",
      "Some parameters in are not present in the chain but in the model: Set(Any[Symbol(\"sigmaSquared[19]\")]) \n",
      "Using prior samples from the model for them instead.\n",
      "SMC at 19\n"
     ]
    },
    {
     "name": "stderr",
     "output_type": "stream",
     "text": [
      "┌ Warning: Only a single thread available: MCMC chains are not sampled in parallel\n",
      "└ @ AbstractMCMC /home/konstantin/.julia/packages/AbstractMCMC/BPJCW/src/sample.jl:291\n"
     ]
    },
    {
     "name": "stdout",
     "output_type": "stream",
     "text": [
      "NUTS at 20.\n"
     ]
    },
    {
     "name": "stderr",
     "output_type": "stream",
     "text": [
      "┌ Warning: Only a single thread available: MCMC chains are not sampled in parallel\n",
      "└ @ AbstractMCMC /home/konstantin/.julia/packages/AbstractMCMC/BPJCW/src/sample.jl:291\n",
      "┌ Info: Found initial step size\n",
      "│   ϵ = 0.4\n",
      "└ @ Turing.Inference /home/konstantin/.julia/packages/Turing/uMQmD/src/inference/hmc.jl:188\n",
      "┌ Info: Found initial step size\n",
      "│   ϵ = 0.4\n",
      "└ @ Turing.Inference /home/konstantin/.julia/packages/Turing/uMQmD/src/inference/hmc.jl:188\n"
     ]
    },
    {
     "name": "stdout",
     "output_type": "stream",
     "text": [
      "Online at 20\n",
      "Some parameters in are not present in the chain but in the model: Set(Any[Symbol(\"sigmaSquared[20]\")]) \n",
      "Using prior samples from the model for them instead.\n",
      "SMC at 20\n"
     ]
    },
    {
     "name": "stderr",
     "output_type": "stream",
     "text": [
      "┌ Warning: Only a single thread available: MCMC chains are not sampled in parallel\n",
      "└ @ AbstractMCMC /home/konstantin/.julia/packages/AbstractMCMC/BPJCW/src/sample.jl:291\n"
     ]
    },
    {
     "name": "stdout",
     "output_type": "stream",
     "text": [
      "NUTS at 21.\n"
     ]
    },
    {
     "name": "stderr",
     "output_type": "stream",
     "text": [
      "┌ Warning: Only a single thread available: MCMC chains are not sampled in parallel\n",
      "└ @ AbstractMCMC /home/konstantin/.julia/packages/AbstractMCMC/BPJCW/src/sample.jl:291\n",
      "┌ Info: Found initial step size\n",
      "│   ϵ = 0.4\n",
      "└ @ Turing.Inference /home/konstantin/.julia/packages/Turing/uMQmD/src/inference/hmc.jl:188\n",
      "┌ Info: Found initial step size\n",
      "│   ϵ = 0.4\n",
      "└ @ Turing.Inference /home/konstantin/.julia/packages/Turing/uMQmD/src/inference/hmc.jl:188\n"
     ]
    },
    {
     "name": "stdout",
     "output_type": "stream",
     "text": [
      "Online at 21\n",
      "Some parameters in are not present in the chain but in the model: Set(Any[Symbol(\"sigmaSquared[21]\")]) \n",
      "Using prior samples from the model for them instead.\n",
      "SMC at 21\n"
     ]
    },
    {
     "name": "stderr",
     "output_type": "stream",
     "text": [
      "┌ Warning: Only a single thread available: MCMC chains are not sampled in parallel\n",
      "└ @ AbstractMCMC /home/konstantin/.julia/packages/AbstractMCMC/BPJCW/src/sample.jl:291\n"
     ]
    },
    {
     "name": "stdout",
     "output_type": "stream",
     "text": [
      "NUTS at 22.\n"
     ]
    },
    {
     "name": "stderr",
     "output_type": "stream",
     "text": [
      "┌ Warning: Only a single thread available: MCMC chains are not sampled in parallel\n",
      "└ @ AbstractMCMC /home/konstantin/.julia/packages/AbstractMCMC/BPJCW/src/sample.jl:291\n",
      "┌ Info: Found initial step size\n",
      "│   ϵ = 0.4\n",
      "└ @ Turing.Inference /home/konstantin/.julia/packages/Turing/uMQmD/src/inference/hmc.jl:188\n",
      "┌ Warning: The current proposal will be rejected due to numerical error(s).\n",
      "│   isfinite.((θ, r, ℓπ, ℓκ)) = (true, false, false, false)\n",
      "└ @ AdvancedHMC /home/konstantin/.julia/packages/AdvancedHMC/HQHnm/src/hamiltonian.jl:47\n",
      "┌ Info: Found initial step size\n",
      "│   ϵ = 0.4\n",
      "└ @ Turing.Inference /home/konstantin/.julia/packages/Turing/uMQmD/src/inference/hmc.jl:188\n",
      "┌ Warning: The current proposal will be rejected due to numerical error(s).\n",
      "│   isfinite.((θ, r, ℓπ, ℓκ)) = (true, false, false, false)\n",
      "└ @ AdvancedHMC /home/konstantin/.julia/packages/AdvancedHMC/HQHnm/src/hamiltonian.jl:47\n"
     ]
    },
    {
     "name": "stdout",
     "output_type": "stream",
     "text": [
      "Online at 22\n",
      "Some parameters in are not present in the chain but in the model: Set(Any[Symbol(\"sigmaSquared[22]\")]) \n",
      "Using prior samples from the model for them instead.\n",
      "SMC at 22\n"
     ]
    },
    {
     "name": "stderr",
     "output_type": "stream",
     "text": [
      "┌ Warning: Only a single thread available: MCMC chains are not sampled in parallel\n",
      "└ @ AbstractMCMC /home/konstantin/.julia/packages/AbstractMCMC/BPJCW/src/sample.jl:291\n"
     ]
    },
    {
     "name": "stdout",
     "output_type": "stream",
     "text": [
      "NUTS at 23.\n"
     ]
    },
    {
     "name": "stderr",
     "output_type": "stream",
     "text": [
      "┌ Warning: Only a single thread available: MCMC chains are not sampled in parallel\n",
      "└ @ AbstractMCMC /home/konstantin/.julia/packages/AbstractMCMC/BPJCW/src/sample.jl:291\n",
      "┌ Info: Found initial step size\n",
      "│   ϵ = 0.4\n",
      "└ @ Turing.Inference /home/konstantin/.julia/packages/Turing/uMQmD/src/inference/hmc.jl:188\n",
      "┌ Info: Found initial step size\n",
      "│   ϵ = 0.4\n",
      "└ @ Turing.Inference /home/konstantin/.julia/packages/Turing/uMQmD/src/inference/hmc.jl:188\n",
      "┌ Warning: The current proposal will be rejected due to numerical error(s).\n",
      "│   isfinite.((θ, r, ℓπ, ℓκ)) = (true, false, false, false)\n",
      "└ @ AdvancedHMC /home/konstantin/.julia/packages/AdvancedHMC/HQHnm/src/hamiltonian.jl:47\n"
     ]
    },
    {
     "name": "stdout",
     "output_type": "stream",
     "text": [
      "Online at 23\n",
      "Some parameters in are not present in the chain but in the model: Set(Any[Symbol(\"sigmaSquared[23]\")]) \n",
      "Using prior samples from the model for them instead.\n",
      "SMC at 23\n"
     ]
    },
    {
     "name": "stderr",
     "output_type": "stream",
     "text": [
      "┌ Warning: Only a single thread available: MCMC chains are not sampled in parallel\n",
      "└ @ AbstractMCMC /home/konstantin/.julia/packages/AbstractMCMC/BPJCW/src/sample.jl:291\n"
     ]
    },
    {
     "name": "stdout",
     "output_type": "stream",
     "text": [
      "NUTS at 24.\n"
     ]
    },
    {
     "name": "stderr",
     "output_type": "stream",
     "text": [
      "┌ Warning: Only a single thread available: MCMC chains are not sampled in parallel\n",
      "└ @ AbstractMCMC /home/konstantin/.julia/packages/AbstractMCMC/BPJCW/src/sample.jl:291\n",
      "┌ Info: Found initial step size\n",
      "│   ϵ = 0.4\n",
      "└ @ Turing.Inference /home/konstantin/.julia/packages/Turing/uMQmD/src/inference/hmc.jl:188\n",
      "┌ Info: Found initial step size\n",
      "│   ϵ = 0.2\n",
      "└ @ Turing.Inference /home/konstantin/.julia/packages/Turing/uMQmD/src/inference/hmc.jl:188\n"
     ]
    },
    {
     "name": "stdout",
     "output_type": "stream",
     "text": [
      "Online at 24\n",
      "Some parameters in are not present in the chain but in the model: Set(Any[Symbol(\"sigmaSquared[24]\")]) \n",
      "Using prior samples from the model for them instead.\n",
      "SMC at 24\n"
     ]
    },
    {
     "name": "stderr",
     "output_type": "stream",
     "text": [
      "┌ Warning: Only a single thread available: MCMC chains are not sampled in parallel\n",
      "└ @ AbstractMCMC /home/konstantin/.julia/packages/AbstractMCMC/BPJCW/src/sample.jl:291\n"
     ]
    },
    {
     "name": "stdout",
     "output_type": "stream",
     "text": [
      "NUTS at 25.\n"
     ]
    },
    {
     "name": "stderr",
     "output_type": "stream",
     "text": [
      "┌ Warning: Only a single thread available: MCMC chains are not sampled in parallel\n",
      "└ @ AbstractMCMC /home/konstantin/.julia/packages/AbstractMCMC/BPJCW/src/sample.jl:291\n",
      "┌ Info: Found initial step size\n",
      "│   ϵ = 0.2\n",
      "└ @ Turing.Inference /home/konstantin/.julia/packages/Turing/uMQmD/src/inference/hmc.jl:188\n",
      "┌ Info: Found initial step size\n",
      "│   ϵ = 0.4\n",
      "└ @ Turing.Inference /home/konstantin/.julia/packages/Turing/uMQmD/src/inference/hmc.jl:188\n"
     ]
    },
    {
     "name": "stdout",
     "output_type": "stream",
     "text": [
      "Online at 25\n",
      "Some parameters in are not present in the chain but in the model: Set(Any[Symbol(\"sigmaSquared[25]\")]) \n",
      "Using prior samples from the model for them instead.\n",
      "SMC at 25\n"
     ]
    },
    {
     "name": "stderr",
     "output_type": "stream",
     "text": [
      "┌ Warning: Only a single thread available: MCMC chains are not sampled in parallel\n",
      "└ @ AbstractMCMC /home/konstantin/.julia/packages/AbstractMCMC/BPJCW/src/sample.jl:291\n"
     ]
    },
    {
     "name": "stdout",
     "output_type": "stream",
     "text": [
      "NUTS at 26.\n"
     ]
    },
    {
     "name": "stderr",
     "output_type": "stream",
     "text": [
      "┌ Warning: Only a single thread available: MCMC chains are not sampled in parallel\n",
      "└ @ AbstractMCMC /home/konstantin/.julia/packages/AbstractMCMC/BPJCW/src/sample.jl:291\n",
      "┌ Info: Found initial step size\n",
      "│   ϵ = 0.2\n",
      "└ @ Turing.Inference /home/konstantin/.julia/packages/Turing/uMQmD/src/inference/hmc.jl:188\n",
      "┌ Info: Found initial step size\n",
      "│   ϵ = 0.4\n",
      "└ @ Turing.Inference /home/konstantin/.julia/packages/Turing/uMQmD/src/inference/hmc.jl:188\n"
     ]
    },
    {
     "name": "stdout",
     "output_type": "stream",
     "text": [
      "Online at 26\n",
      "Some parameters in are not present in the chain but in the model: Set(Any[Symbol(\"sigmaSquared[26]\")]) \n",
      "Using prior samples from the model for them instead.\n",
      "SMC at 26\n"
     ]
    },
    {
     "name": "stderr",
     "output_type": "stream",
     "text": [
      "┌ Warning: Only a single thread available: MCMC chains are not sampled in parallel\n",
      "└ @ AbstractMCMC /home/konstantin/.julia/packages/AbstractMCMC/BPJCW/src/sample.jl:291\n"
     ]
    },
    {
     "name": "stdout",
     "output_type": "stream",
     "text": [
      "NUTS at 27.\n"
     ]
    },
    {
     "name": "stderr",
     "output_type": "stream",
     "text": [
      "┌ Warning: Only a single thread available: MCMC chains are not sampled in parallel\n",
      "└ @ AbstractMCMC /home/konstantin/.julia/packages/AbstractMCMC/BPJCW/src/sample.jl:291\n",
      "┌ Info: Found initial step size\n",
      "│   ϵ = 0.4\n",
      "└ @ Turing.Inference /home/konstantin/.julia/packages/Turing/uMQmD/src/inference/hmc.jl:188\n",
      "┌ Warning: The current proposal will be rejected due to numerical error(s).\n",
      "│   isfinite.((θ, r, ℓπ, ℓκ)) = (true, false, false, false)\n",
      "└ @ AdvancedHMC /home/konstantin/.julia/packages/AdvancedHMC/HQHnm/src/hamiltonian.jl:47\n",
      "┌ Info: Found initial step size\n",
      "│   ϵ = 0.2\n",
      "└ @ Turing.Inference /home/konstantin/.julia/packages/Turing/uMQmD/src/inference/hmc.jl:188\n"
     ]
    },
    {
     "name": "stdout",
     "output_type": "stream",
     "text": [
      "Online at 27\n",
      "Some parameters in are not present in the chain but in the model: Set(Any[Symbol(\"sigmaSquared[27]\")]) \n",
      "Using prior samples from the model for them instead.\n",
      "SMC at 27\n"
     ]
    },
    {
     "name": "stderr",
     "output_type": "stream",
     "text": [
      "┌ Warning: Only a single thread available: MCMC chains are not sampled in parallel\n",
      "└ @ AbstractMCMC /home/konstantin/.julia/packages/AbstractMCMC/BPJCW/src/sample.jl:291\n"
     ]
    },
    {
     "name": "stdout",
     "output_type": "stream",
     "text": [
      "NUTS at 28.\n"
     ]
    },
    {
     "name": "stderr",
     "output_type": "stream",
     "text": [
      "┌ Warning: Only a single thread available: MCMC chains are not sampled in parallel\n",
      "└ @ AbstractMCMC /home/konstantin/.julia/packages/AbstractMCMC/BPJCW/src/sample.jl:291\n",
      "┌ Info: Found initial step size\n",
      "│   ϵ = 0.2\n",
      "└ @ Turing.Inference /home/konstantin/.julia/packages/Turing/uMQmD/src/inference/hmc.jl:188\n",
      "┌ Info: Found initial step size\n",
      "│   ϵ = 0.2\n",
      "└ @ Turing.Inference /home/konstantin/.julia/packages/Turing/uMQmD/src/inference/hmc.jl:188\n"
     ]
    },
    {
     "name": "stdout",
     "output_type": "stream",
     "text": [
      "Online at 28\n",
      "Some parameters in are not present in the chain but in the model: Set(Any[Symbol(\"sigmaSquared[28]\")]) \n",
      "Using prior samples from the model for them instead.\n",
      "SMC at 28\n"
     ]
    },
    {
     "name": "stderr",
     "output_type": "stream",
     "text": [
      "┌ Warning: Only a single thread available: MCMC chains are not sampled in parallel\n",
      "└ @ AbstractMCMC /home/konstantin/.julia/packages/AbstractMCMC/BPJCW/src/sample.jl:291\n"
     ]
    },
    {
     "name": "stdout",
     "output_type": "stream",
     "text": [
      "NUTS at 29.\n"
     ]
    },
    {
     "name": "stderr",
     "output_type": "stream",
     "text": [
      "┌ Warning: Only a single thread available: MCMC chains are not sampled in parallel\n",
      "└ @ AbstractMCMC /home/konstantin/.julia/packages/AbstractMCMC/BPJCW/src/sample.jl:291\n",
      "┌ Info: Found initial step size\n",
      "│   ϵ = 0.203125\n",
      "└ @ Turing.Inference /home/konstantin/.julia/packages/Turing/uMQmD/src/inference/hmc.jl:188\n",
      "┌ Info: Found initial step size\n",
      "│   ϵ = 0.2\n",
      "└ @ Turing.Inference /home/konstantin/.julia/packages/Turing/uMQmD/src/inference/hmc.jl:188\n"
     ]
    },
    {
     "name": "stdout",
     "output_type": "stream",
     "text": [
      "Online at 29\n",
      "Some parameters in are not present in the chain but in the model: Set(Any[Symbol(\"sigmaSquared[29]\")]) \n",
      "Using prior samples from the model for them instead.\n",
      "SMC at 29\n"
     ]
    },
    {
     "name": "stderr",
     "output_type": "stream",
     "text": [
      "┌ Warning: Only a single thread available: MCMC chains are not sampled in parallel\n",
      "└ @ AbstractMCMC /home/konstantin/.julia/packages/AbstractMCMC/BPJCW/src/sample.jl:291\n"
     ]
    },
    {
     "name": "stdout",
     "output_type": "stream",
     "text": [
      "NUTS at 30.\n"
     ]
    },
    {
     "name": "stderr",
     "output_type": "stream",
     "text": [
      "┌ Warning: Only a single thread available: MCMC chains are not sampled in parallel\n",
      "└ @ AbstractMCMC /home/konstantin/.julia/packages/AbstractMCMC/BPJCW/src/sample.jl:291\n",
      "┌ Info: Found initial step size\n",
      "│   ϵ = 0.2\n",
      "└ @ Turing.Inference /home/konstantin/.julia/packages/Turing/uMQmD/src/inference/hmc.jl:188\n",
      "┌ Info: Found initial step size\n",
      "│   ϵ = 0.8\n",
      "└ @ Turing.Inference /home/konstantin/.julia/packages/Turing/uMQmD/src/inference/hmc.jl:188\n",
      "┌ Warning: The current proposal will be rejected due to numerical error(s).\n",
      "│   isfinite.((θ, r, ℓπ, ℓκ)) = (true, false, false, false)\n",
      "└ @ AdvancedHMC /home/konstantin/.julia/packages/AdvancedHMC/HQHnm/src/hamiltonian.jl:47\n"
     ]
    },
    {
     "name": "stdout",
     "output_type": "stream",
     "text": [
      "Online at 30\n",
      "Some parameters in are not present in the chain but in the model: Set(Any[Symbol(\"sigmaSquared[30]\")]) \n",
      "Using prior samples from the model for them instead.\n",
      "SMC at 30\n"
     ]
    },
    {
     "name": "stderr",
     "output_type": "stream",
     "text": [
      "┌ Warning: Only a single thread available: MCMC chains are not sampled in parallel\n",
      "└ @ AbstractMCMC /home/konstantin/.julia/packages/AbstractMCMC/BPJCW/src/sample.jl:291\n"
     ]
    },
    {
     "name": "stdout",
     "output_type": "stream",
     "text": [
      "NUTS at 31.\n"
     ]
    },
    {
     "name": "stderr",
     "output_type": "stream",
     "text": [
      "┌ Warning: Only a single thread available: MCMC chains are not sampled in parallel\n",
      "└ @ AbstractMCMC /home/konstantin/.julia/packages/AbstractMCMC/BPJCW/src/sample.jl:291\n",
      "┌ Info: Found initial step size\n",
      "│   ϵ = 0.2\n",
      "└ @ Turing.Inference /home/konstantin/.julia/packages/Turing/uMQmD/src/inference/hmc.jl:188\n",
      "┌ Warning: The current proposal will be rejected due to numerical error(s).\n",
      "│   isfinite.((θ, r, ℓπ, ℓκ)) = (true, false, false, false)\n",
      "└ @ AdvancedHMC /home/konstantin/.julia/packages/AdvancedHMC/HQHnm/src/hamiltonian.jl:47\n",
      "┌ Info: Found initial step size\n",
      "│   ϵ = 0.4\n",
      "└ @ Turing.Inference /home/konstantin/.julia/packages/Turing/uMQmD/src/inference/hmc.jl:188\n",
      "┌ Warning: The current proposal will be rejected due to numerical error(s).\n",
      "│   isfinite.((θ, r, ℓπ, ℓκ)) = (true, false, false, false)\n",
      "└ @ AdvancedHMC /home/konstantin/.julia/packages/AdvancedHMC/HQHnm/src/hamiltonian.jl:47\n"
     ]
    },
    {
     "name": "stdout",
     "output_type": "stream",
     "text": [
      "Online at 31\n",
      "Some parameters in are not present in the chain but in the model: Set(Any[Symbol(\"sigmaSquared[31]\")]) \n",
      "Using prior samples from the model for them instead.\n",
      "SMC at 31\n"
     ]
    },
    {
     "name": "stderr",
     "output_type": "stream",
     "text": [
      "┌ Warning: Only a single thread available: MCMC chains are not sampled in parallel\n",
      "└ @ AbstractMCMC /home/konstantin/.julia/packages/AbstractMCMC/BPJCW/src/sample.jl:291\n"
     ]
    },
    {
     "name": "stdout",
     "output_type": "stream",
     "text": [
      "NUTS at 32.\n"
     ]
    },
    {
     "name": "stderr",
     "output_type": "stream",
     "text": [
      "┌ Warning: Only a single thread available: MCMC chains are not sampled in parallel\n",
      "└ @ AbstractMCMC /home/konstantin/.julia/packages/AbstractMCMC/BPJCW/src/sample.jl:291\n",
      "┌ Info: Found initial step size\n",
      "│   ϵ = 0.4\n",
      "└ @ Turing.Inference /home/konstantin/.julia/packages/Turing/uMQmD/src/inference/hmc.jl:188\n",
      "┌ Info: Found initial step size\n",
      "│   ϵ = 0.2\n",
      "└ @ Turing.Inference /home/konstantin/.julia/packages/Turing/uMQmD/src/inference/hmc.jl:188\n"
     ]
    },
    {
     "name": "stdout",
     "output_type": "stream",
     "text": [
      "Online at 32\n",
      "Some parameters in are not present in the chain but in the model: Set(Any[Symbol(\"sigmaSquared[32]\")]) \n",
      "Using prior samples from the model for them instead.\n",
      "SMC at 32\n"
     ]
    },
    {
     "name": "stderr",
     "output_type": "stream",
     "text": [
      "┌ Warning: Only a single thread available: MCMC chains are not sampled in parallel\n",
      "└ @ AbstractMCMC /home/konstantin/.julia/packages/AbstractMCMC/BPJCW/src/sample.jl:291\n"
     ]
    },
    {
     "name": "stdout",
     "output_type": "stream",
     "text": [
      "NUTS at 33.\n"
     ]
    },
    {
     "name": "stderr",
     "output_type": "stream",
     "text": [
      "┌ Warning: Only a single thread available: MCMC chains are not sampled in parallel\n",
      "└ @ AbstractMCMC /home/konstantin/.julia/packages/AbstractMCMC/BPJCW/src/sample.jl:291\n",
      "┌ Info: Found initial step size\n",
      "│   ϵ = 0.05\n",
      "└ @ Turing.Inference /home/konstantin/.julia/packages/Turing/uMQmD/src/inference/hmc.jl:188\n",
      "┌ Info: Found initial step size\n",
      "│   ϵ = 0.2\n",
      "└ @ Turing.Inference /home/konstantin/.julia/packages/Turing/uMQmD/src/inference/hmc.jl:188\n",
      "┌ Warning: The current proposal will be rejected due to numerical error(s).\n",
      "│   isfinite.((θ, r, ℓπ, ℓκ)) = (true, false, false, false)\n",
      "└ @ AdvancedHMC /home/konstantin/.julia/packages/AdvancedHMC/HQHnm/src/hamiltonian.jl:47\n"
     ]
    },
    {
     "name": "stdout",
     "output_type": "stream",
     "text": [
      "Online at 33\n",
      "Some parameters in are not present in the chain but in the model: Set(Any[Symbol(\"sigmaSquared[33]\")]) \n",
      "Using prior samples from the model for them instead.\n",
      "SMC at 33\n"
     ]
    },
    {
     "name": "stderr",
     "output_type": "stream",
     "text": [
      "┌ Warning: Only a single thread available: MCMC chains are not sampled in parallel\n",
      "└ @ AbstractMCMC /home/konstantin/.julia/packages/AbstractMCMC/BPJCW/src/sample.jl:291\n"
     ]
    },
    {
     "name": "stdout",
     "output_type": "stream",
     "text": [
      "NUTS at 34.\n"
     ]
    },
    {
     "name": "stderr",
     "output_type": "stream",
     "text": [
      "┌ Warning: Only a single thread available: MCMC chains are not sampled in parallel\n",
      "└ @ AbstractMCMC /home/konstantin/.julia/packages/AbstractMCMC/BPJCW/src/sample.jl:291\n",
      "┌ Info: Found initial step size\n",
      "│   ϵ = 0.2\n",
      "└ @ Turing.Inference /home/konstantin/.julia/packages/Turing/uMQmD/src/inference/hmc.jl:188\n",
      "┌ Info: Found initial step size\n",
      "│   ϵ = 0.225\n",
      "└ @ Turing.Inference /home/konstantin/.julia/packages/Turing/uMQmD/src/inference/hmc.jl:188\n"
     ]
    },
    {
     "name": "stdout",
     "output_type": "stream",
     "text": [
      "Online at 34\n",
      "Some parameters in are not present in the chain but in the model: Set(Any[Symbol(\"sigmaSquared[34]\")]) \n",
      "Using prior samples from the model for them instead.\n",
      "SMC at 34\n"
     ]
    },
    {
     "name": "stderr",
     "output_type": "stream",
     "text": [
      "┌ Warning: Only a single thread available: MCMC chains are not sampled in parallel\n",
      "└ @ AbstractMCMC /home/konstantin/.julia/packages/AbstractMCMC/BPJCW/src/sample.jl:291\n"
     ]
    },
    {
     "name": "stdout",
     "output_type": "stream",
     "text": [
      "NUTS at 35.\n"
     ]
    },
    {
     "name": "stderr",
     "output_type": "stream",
     "text": [
      "┌ Warning: Only a single thread available: MCMC chains are not sampled in parallel\n",
      "└ @ AbstractMCMC /home/konstantin/.julia/packages/AbstractMCMC/BPJCW/src/sample.jl:291\n",
      "┌ Info: Found initial step size\n",
      "│   ϵ = 0.4\n",
      "└ @ Turing.Inference /home/konstantin/.julia/packages/Turing/uMQmD/src/inference/hmc.jl:188\n",
      "┌ Info: Found initial step size\n",
      "│   ϵ = 0.2\n",
      "└ @ Turing.Inference /home/konstantin/.julia/packages/Turing/uMQmD/src/inference/hmc.jl:188\n"
     ]
    },
    {
     "name": "stdout",
     "output_type": "stream",
     "text": [
      "Online at 35\n",
      "Some parameters in are not present in the chain but in the model: Set(Any[Symbol(\"sigmaSquared[35]\")]) \n",
      "Using prior samples from the model for them instead.\n",
      "SMC at 35\n"
     ]
    },
    {
     "name": "stderr",
     "output_type": "stream",
     "text": [
      "┌ Warning: Only a single thread available: MCMC chains are not sampled in parallel\n",
      "└ @ AbstractMCMC /home/konstantin/.julia/packages/AbstractMCMC/BPJCW/src/sample.jl:291\n"
     ]
    },
    {
     "name": "stdout",
     "output_type": "stream",
     "text": [
      "NUTS at 36.\n"
     ]
    },
    {
     "name": "stderr",
     "output_type": "stream",
     "text": [
      "┌ Warning: Only a single thread available: MCMC chains are not sampled in parallel\n",
      "└ @ AbstractMCMC /home/konstantin/.julia/packages/AbstractMCMC/BPJCW/src/sample.jl:291\n",
      "┌ Info: Found initial step size\n",
      "│   ϵ = 0.05\n",
      "└ @ Turing.Inference /home/konstantin/.julia/packages/Turing/uMQmD/src/inference/hmc.jl:188\n",
      "┌ Info: Found initial step size\n",
      "│   ϵ = 0.2\n",
      "└ @ Turing.Inference /home/konstantin/.julia/packages/Turing/uMQmD/src/inference/hmc.jl:188\n"
     ]
    },
    {
     "name": "stdout",
     "output_type": "stream",
     "text": [
      "Online at 36\n",
      "Some parameters in are not present in the chain but in the model: Set(Any[Symbol(\"sigmaSquared[36]\")]) \n",
      "Using prior samples from the model for them instead.\n",
      "SMC at 36\n"
     ]
    },
    {
     "name": "stderr",
     "output_type": "stream",
     "text": [
      "┌ Warning: Only a single thread available: MCMC chains are not sampled in parallel\n",
      "└ @ AbstractMCMC /home/konstantin/.julia/packages/AbstractMCMC/BPJCW/src/sample.jl:291\n"
     ]
    },
    {
     "name": "stdout",
     "output_type": "stream",
     "text": [
      "NUTS at 37.\n"
     ]
    },
    {
     "name": "stderr",
     "output_type": "stream",
     "text": [
      "┌ Warning: Only a single thread available: MCMC chains are not sampled in parallel\n",
      "└ @ AbstractMCMC /home/konstantin/.julia/packages/AbstractMCMC/BPJCW/src/sample.jl:291\n",
      "┌ Info: Found initial step size\n",
      "│   ϵ = 0.2\n",
      "└ @ Turing.Inference /home/konstantin/.julia/packages/Turing/uMQmD/src/inference/hmc.jl:188\n",
      "┌ Info: Found initial step size\n",
      "│   ϵ = 0.05\n",
      "└ @ Turing.Inference /home/konstantin/.julia/packages/Turing/uMQmD/src/inference/hmc.jl:188\n"
     ]
    },
    {
     "name": "stdout",
     "output_type": "stream",
     "text": [
      "Online at 37\n",
      "Some parameters in are not present in the chain but in the model: Set(Any[Symbol(\"sigmaSquared[37]\")]) \n",
      "Using prior samples from the model for them instead.\n",
      "SMC at 37\n"
     ]
    },
    {
     "name": "stderr",
     "output_type": "stream",
     "text": [
      "┌ Warning: Only a single thread available: MCMC chains are not sampled in parallel\n",
      "└ @ AbstractMCMC /home/konstantin/.julia/packages/AbstractMCMC/BPJCW/src/sample.jl:291\n"
     ]
    },
    {
     "name": "stdout",
     "output_type": "stream",
     "text": [
      "NUTS at 38.\n"
     ]
    },
    {
     "name": "stderr",
     "output_type": "stream",
     "text": [
      "┌ Warning: Only a single thread available: MCMC chains are not sampled in parallel\n",
      "└ @ AbstractMCMC /home/konstantin/.julia/packages/AbstractMCMC/BPJCW/src/sample.jl:291\n",
      "┌ Info: Found initial step size\n",
      "│   ϵ = 0.4\n",
      "└ @ Turing.Inference /home/konstantin/.julia/packages/Turing/uMQmD/src/inference/hmc.jl:188\n",
      "┌ Info: Found initial step size\n",
      "│   ϵ = 0.2\n",
      "└ @ Turing.Inference /home/konstantin/.julia/packages/Turing/uMQmD/src/inference/hmc.jl:188\n"
     ]
    },
    {
     "name": "stdout",
     "output_type": "stream",
     "text": [
      "Online at 38\n",
      "Some parameters in are not present in the chain but in the model: Set(Any[Symbol(\"sigmaSquared[38]\")]) \n",
      "Using prior samples from the model for them instead.\n",
      "SMC at 38\n"
     ]
    },
    {
     "name": "stderr",
     "output_type": "stream",
     "text": [
      "┌ Warning: Only a single thread available: MCMC chains are not sampled in parallel\n",
      "└ @ AbstractMCMC /home/konstantin/.julia/packages/AbstractMCMC/BPJCW/src/sample.jl:291\n"
     ]
    },
    {
     "name": "stdout",
     "output_type": "stream",
     "text": [
      "NUTS at 39.\n"
     ]
    },
    {
     "name": "stderr",
     "output_type": "stream",
     "text": [
      "┌ Warning: Only a single thread available: MCMC chains are not sampled in parallel\n",
      "└ @ AbstractMCMC /home/konstantin/.julia/packages/AbstractMCMC/BPJCW/src/sample.jl:291\n",
      "┌ Info: Found initial step size\n",
      "│   ϵ = 0.4\n",
      "└ @ Turing.Inference /home/konstantin/.julia/packages/Turing/uMQmD/src/inference/hmc.jl:188\n",
      "┌ Info: Found initial step size\n",
      "│   ϵ = 0.8\n",
      "└ @ Turing.Inference /home/konstantin/.julia/packages/Turing/uMQmD/src/inference/hmc.jl:188\n",
      "┌ Warning: The current proposal will be rejected due to numerical error(s).\n",
      "│   isfinite.((θ, r, ℓπ, ℓκ)) = (true, false, false, false)\n",
      "└ @ AdvancedHMC /home/konstantin/.julia/packages/AdvancedHMC/HQHnm/src/hamiltonian.jl:47\n"
     ]
    },
    {
     "name": "stdout",
     "output_type": "stream",
     "text": [
      "Online at 39\n",
      "Some parameters in are not present in the chain but in the model: Set(Any[Symbol(\"sigmaSquared[39]\")]) \n",
      "Using prior samples from the model for them instead.\n",
      "SMC at 39\n"
     ]
    },
    {
     "name": "stderr",
     "output_type": "stream",
     "text": [
      "┌ Warning: Only a single thread available: MCMC chains are not sampled in parallel\n",
      "└ @ AbstractMCMC /home/konstantin/.julia/packages/AbstractMCMC/BPJCW/src/sample.jl:291\n"
     ]
    },
    {
     "name": "stdout",
     "output_type": "stream",
     "text": [
      "NUTS at 40.\n"
     ]
    },
    {
     "name": "stderr",
     "output_type": "stream",
     "text": [
      "┌ Warning: Only a single thread available: MCMC chains are not sampled in parallel\n",
      "└ @ AbstractMCMC /home/konstantin/.julia/packages/AbstractMCMC/BPJCW/src/sample.jl:291\n",
      "┌ Info: Found initial step size\n",
      "│   ϵ = 0.2\n",
      "└ @ Turing.Inference /home/konstantin/.julia/packages/Turing/uMQmD/src/inference/hmc.jl:188\n",
      "┌ Info: Found initial step size\n",
      "│   ϵ = 0.4\n",
      "└ @ Turing.Inference /home/konstantin/.julia/packages/Turing/uMQmD/src/inference/hmc.jl:188\n",
      "┌ Warning: The current proposal will be rejected due to numerical error(s).\n",
      "│   isfinite.((θ, r, ℓπ, ℓκ)) = (true, false, false, false)\n",
      "└ @ AdvancedHMC /home/konstantin/.julia/packages/AdvancedHMC/HQHnm/src/hamiltonian.jl:47\n"
     ]
    },
    {
     "name": "stdout",
     "output_type": "stream",
     "text": [
      "Online at 40\n",
      "Some parameters in are not present in the chain but in the model: Set(Any[Symbol(\"sigmaSquared[40]\")]) \n",
      "Using prior samples from the model for them instead.\n",
      "SMC at 40\n"
     ]
    },
    {
     "name": "stderr",
     "output_type": "stream",
     "text": [
      "┌ Warning: Only a single thread available: MCMC chains are not sampled in parallel\n",
      "└ @ AbstractMCMC /home/konstantin/.julia/packages/AbstractMCMC/BPJCW/src/sample.jl:291\n"
     ]
    },
    {
     "name": "stdout",
     "output_type": "stream",
     "text": [
      "NUTS at 41.\n"
     ]
    },
    {
     "name": "stderr",
     "output_type": "stream",
     "text": [
      "┌ Warning: Only a single thread available: MCMC chains are not sampled in parallel\n",
      "└ @ AbstractMCMC /home/konstantin/.julia/packages/AbstractMCMC/BPJCW/src/sample.jl:291\n",
      "┌ Info: Found initial step size\n",
      "│   ϵ = 0.2\n",
      "└ @ Turing.Inference /home/konstantin/.julia/packages/Turing/uMQmD/src/inference/hmc.jl:188\n",
      "┌ Warning: The current proposal will be rejected due to numerical error(s).\n",
      "│   isfinite.((θ, r, ℓπ, ℓκ)) = (true, false, false, false)\n",
      "└ @ AdvancedHMC /home/konstantin/.julia/packages/AdvancedHMC/HQHnm/src/hamiltonian.jl:47\n",
      "┌ Info: Found initial step size\n",
      "│   ϵ = 0.2\n",
      "└ @ Turing.Inference /home/konstantin/.julia/packages/Turing/uMQmD/src/inference/hmc.jl:188\n"
     ]
    },
    {
     "name": "stdout",
     "output_type": "stream",
     "text": [
      "Online at 41\n",
      "Some parameters in are not present in the chain but in the model: Set(Any[Symbol(\"sigmaSquared[41]\")]) \n",
      "Using prior samples from the model for them instead.\n",
      "SMC at 41\n"
     ]
    },
    {
     "name": "stderr",
     "output_type": "stream",
     "text": [
      "┌ Warning: Only a single thread available: MCMC chains are not sampled in parallel\n",
      "└ @ AbstractMCMC /home/konstantin/.julia/packages/AbstractMCMC/BPJCW/src/sample.jl:291\n"
     ]
    },
    {
     "name": "stdout",
     "output_type": "stream",
     "text": [
      "NUTS at 42.\n"
     ]
    },
    {
     "name": "stderr",
     "output_type": "stream",
     "text": [
      "┌ Warning: Only a single thread available: MCMC chains are not sampled in parallel\n",
      "└ @ AbstractMCMC /home/konstantin/.julia/packages/AbstractMCMC/BPJCW/src/sample.jl:291\n",
      "┌ Info: Found initial step size\n",
      "│   ϵ = 0.4\n",
      "└ @ Turing.Inference /home/konstantin/.julia/packages/Turing/uMQmD/src/inference/hmc.jl:188\n",
      "┌ Info: Found initial step size\n",
      "│   ϵ = 0.2\n",
      "└ @ Turing.Inference /home/konstantin/.julia/packages/Turing/uMQmD/src/inference/hmc.jl:188\n"
     ]
    },
    {
     "name": "stdout",
     "output_type": "stream",
     "text": [
      "Online at 42\n",
      "Some parameters in are not present in the chain but in the model: Set(Any[Symbol(\"sigmaSquared[42]\")]) \n",
      "Using prior samples from the model for them instead.\n",
      "SMC at 42\n"
     ]
    },
    {
     "name": "stderr",
     "output_type": "stream",
     "text": [
      "┌ Warning: Only a single thread available: MCMC chains are not sampled in parallel\n",
      "└ @ AbstractMCMC /home/konstantin/.julia/packages/AbstractMCMC/BPJCW/src/sample.jl:291\n"
     ]
    },
    {
     "name": "stdout",
     "output_type": "stream",
     "text": [
      "NUTS at 43.\n"
     ]
    },
    {
     "name": "stderr",
     "output_type": "stream",
     "text": [
      "┌ Warning: Only a single thread available: MCMC chains are not sampled in parallel\n",
      "└ @ AbstractMCMC /home/konstantin/.julia/packages/AbstractMCMC/BPJCW/src/sample.jl:291\n",
      "┌ Info: Found initial step size\n",
      "│   ϵ = 0.2\n",
      "└ @ Turing.Inference /home/konstantin/.julia/packages/Turing/uMQmD/src/inference/hmc.jl:188\n",
      "┌ Info: Found initial step size\n",
      "│   ϵ = 0.2\n",
      "└ @ Turing.Inference /home/konstantin/.julia/packages/Turing/uMQmD/src/inference/hmc.jl:188\n"
     ]
    },
    {
     "name": "stdout",
     "output_type": "stream",
     "text": [
      "Online at 43\n",
      "Some parameters in are not present in the chain but in the model: Set(Any[Symbol(\"sigmaSquared[43]\")]) \n",
      "Using prior samples from the model for them instead.\n",
      "SMC at 43\n"
     ]
    },
    {
     "name": "stderr",
     "output_type": "stream",
     "text": [
      "┌ Warning: Only a single thread available: MCMC chains are not sampled in parallel\n",
      "└ @ AbstractMCMC /home/konstantin/.julia/packages/AbstractMCMC/BPJCW/src/sample.jl:291\n"
     ]
    },
    {
     "name": "stdout",
     "output_type": "stream",
     "text": [
      "NUTS at 44.\n"
     ]
    },
    {
     "name": "stderr",
     "output_type": "stream",
     "text": [
      "┌ Warning: Only a single thread available: MCMC chains are not sampled in parallel\n",
      "└ @ AbstractMCMC /home/konstantin/.julia/packages/AbstractMCMC/BPJCW/src/sample.jl:291\n",
      "┌ Info: Found initial step size\n",
      "│   ϵ = 0.2\n",
      "└ @ Turing.Inference /home/konstantin/.julia/packages/Turing/uMQmD/src/inference/hmc.jl:188\n",
      "┌ Info: Found initial step size\n",
      "│   ϵ = 0.225\n",
      "└ @ Turing.Inference /home/konstantin/.julia/packages/Turing/uMQmD/src/inference/hmc.jl:188\n"
     ]
    },
    {
     "name": "stdout",
     "output_type": "stream",
     "text": [
      "Online at 44\n",
      "Some parameters in are not present in the chain but in the model: Set(Any[Symbol(\"sigmaSquared[44]\")]) \n",
      "Using prior samples from the model for them instead.\n",
      "SMC at 44\n"
     ]
    },
    {
     "name": "stderr",
     "output_type": "stream",
     "text": [
      "┌ Warning: Only a single thread available: MCMC chains are not sampled in parallel\n",
      "└ @ AbstractMCMC /home/konstantin/.julia/packages/AbstractMCMC/BPJCW/src/sample.jl:291\n"
     ]
    },
    {
     "name": "stdout",
     "output_type": "stream",
     "text": [
      "NUTS at 45.\n"
     ]
    },
    {
     "name": "stderr",
     "output_type": "stream",
     "text": [
      "┌ Warning: Only a single thread available: MCMC chains are not sampled in parallel\n",
      "└ @ AbstractMCMC /home/konstantin/.julia/packages/AbstractMCMC/BPJCW/src/sample.jl:291\n",
      "┌ Info: Found initial step size\n",
      "│   ϵ = 0.2\n",
      "└ @ Turing.Inference /home/konstantin/.julia/packages/Turing/uMQmD/src/inference/hmc.jl:188\n",
      "┌ Info: Found initial step size\n",
      "│   ϵ = 0.05\n",
      "└ @ Turing.Inference /home/konstantin/.julia/packages/Turing/uMQmD/src/inference/hmc.jl:188\n"
     ]
    },
    {
     "name": "stdout",
     "output_type": "stream",
     "text": [
      "Online at 45\n",
      "Some parameters in are not present in the chain but in the model: Set(Any[Symbol(\"sigmaSquared[45]\")]) \n",
      "Using prior samples from the model for them instead.\n",
      "SMC at 45\n"
     ]
    },
    {
     "name": "stderr",
     "output_type": "stream",
     "text": [
      "┌ Warning: Only a single thread available: MCMC chains are not sampled in parallel\n",
      "└ @ AbstractMCMC /home/konstantin/.julia/packages/AbstractMCMC/BPJCW/src/sample.jl:291\n"
     ]
    },
    {
     "name": "stdout",
     "output_type": "stream",
     "text": [
      "NUTS at 46.\n"
     ]
    },
    {
     "name": "stderr",
     "output_type": "stream",
     "text": [
      "┌ Warning: Only a single thread available: MCMC chains are not sampled in parallel\n",
      "└ @ AbstractMCMC /home/konstantin/.julia/packages/AbstractMCMC/BPJCW/src/sample.jl:291\n",
      "┌ Info: Found initial step size\n",
      "│   ϵ = 0.05\n",
      "└ @ Turing.Inference /home/konstantin/.julia/packages/Turing/uMQmD/src/inference/hmc.jl:188\n",
      "┌ Info: Found initial step size\n",
      "│   ϵ = 0.2\n",
      "└ @ Turing.Inference /home/konstantin/.julia/packages/Turing/uMQmD/src/inference/hmc.jl:188\n"
     ]
    },
    {
     "name": "stdout",
     "output_type": "stream",
     "text": [
      "Online at 46\n",
      "Some parameters in are not present in the chain but in the model: Set(Any[Symbol(\"sigmaSquared[46]\")]) \n",
      "Using prior samples from the model for them instead.\n",
      "SMC at 46\n"
     ]
    },
    {
     "name": "stderr",
     "output_type": "stream",
     "text": [
      "┌ Warning: Only a single thread available: MCMC chains are not sampled in parallel\n",
      "└ @ AbstractMCMC /home/konstantin/.julia/packages/AbstractMCMC/BPJCW/src/sample.jl:291\n"
     ]
    },
    {
     "name": "stdout",
     "output_type": "stream",
     "text": [
      "NUTS at 47.\n"
     ]
    },
    {
     "name": "stderr",
     "output_type": "stream",
     "text": [
      "┌ Warning: Only a single thread available: MCMC chains are not sampled in parallel\n",
      "└ @ AbstractMCMC /home/konstantin/.julia/packages/AbstractMCMC/BPJCW/src/sample.jl:291\n",
      "┌ Info: Found initial step size\n",
      "│   ϵ = 0.05\n",
      "└ @ Turing.Inference /home/konstantin/.julia/packages/Turing/uMQmD/src/inference/hmc.jl:188\n",
      "┌ Info: Found initial step size\n",
      "│   ϵ = 0.2\n",
      "└ @ Turing.Inference /home/konstantin/.julia/packages/Turing/uMQmD/src/inference/hmc.jl:188\n",
      "┌ Warning: The current proposal will be rejected due to numerical error(s).\n",
      "│   isfinite.((θ, r, ℓπ, ℓκ)) = (true, false, false, false)\n",
      "└ @ AdvancedHMC /home/konstantin/.julia/packages/AdvancedHMC/HQHnm/src/hamiltonian.jl:47\n"
     ]
    },
    {
     "name": "stdout",
     "output_type": "stream",
     "text": [
      "Online at 47\n",
      "Some parameters in are not present in the chain but in the model: Set(Any[Symbol(\"sigmaSquared[47]\")]) \n",
      "Using prior samples from the model for them instead.\n",
      "SMC at 47\n"
     ]
    },
    {
     "name": "stderr",
     "output_type": "stream",
     "text": [
      "┌ Warning: Only a single thread available: MCMC chains are not sampled in parallel\n",
      "└ @ AbstractMCMC /home/konstantin/.julia/packages/AbstractMCMC/BPJCW/src/sample.jl:291\n"
     ]
    },
    {
     "name": "stdout",
     "output_type": "stream",
     "text": [
      "NUTS at 48.\n"
     ]
    },
    {
     "name": "stderr",
     "output_type": "stream",
     "text": [
      "┌ Warning: Only a single thread available: MCMC chains are not sampled in parallel\n",
      "└ @ AbstractMCMC /home/konstantin/.julia/packages/AbstractMCMC/BPJCW/src/sample.jl:291\n",
      "┌ Info: Found initial step size\n",
      "│   ϵ = 0.2\n",
      "└ @ Turing.Inference /home/konstantin/.julia/packages/Turing/uMQmD/src/inference/hmc.jl:188\n",
      "┌ Warning: The current proposal will be rejected due to numerical error(s).\n",
      "│   isfinite.((θ, r, ℓπ, ℓκ)) = (true, false, false, false)\n",
      "└ @ AdvancedHMC /home/konstantin/.julia/packages/AdvancedHMC/HQHnm/src/hamiltonian.jl:47\n",
      "┌ Info: Found initial step size\n",
      "│   ϵ = 0.4\n",
      "└ @ Turing.Inference /home/konstantin/.julia/packages/Turing/uMQmD/src/inference/hmc.jl:188\n",
      "┌ Warning: The current proposal will be rejected due to numerical error(s).\n",
      "│   isfinite.((θ, r, ℓπ, ℓκ)) = (true, false, false, false)\n",
      "└ @ AdvancedHMC /home/konstantin/.julia/packages/AdvancedHMC/HQHnm/src/hamiltonian.jl:47\n"
     ]
    },
    {
     "name": "stdout",
     "output_type": "stream",
     "text": [
      "Online at 48\n",
      "Some parameters in are not present in the chain but in the model: Set(Any[Symbol(\"sigmaSquared[48]\")]) \n",
      "Using prior samples from the model for them instead.\n",
      "SMC at 48\n"
     ]
    },
    {
     "name": "stderr",
     "output_type": "stream",
     "text": [
      "┌ Warning: Only a single thread available: MCMC chains are not sampled in parallel\n",
      "└ @ AbstractMCMC /home/konstantin/.julia/packages/AbstractMCMC/BPJCW/src/sample.jl:291\n"
     ]
    },
    {
     "name": "stdout",
     "output_type": "stream",
     "text": [
      "NUTS at 49.\n"
     ]
    },
    {
     "name": "stderr",
     "output_type": "stream",
     "text": [
      "┌ Warning: Only a single thread available: MCMC chains are not sampled in parallel\n",
      "└ @ AbstractMCMC /home/konstantin/.julia/packages/AbstractMCMC/BPJCW/src/sample.jl:291\n",
      "┌ Info: Found initial step size\n",
      "│   ϵ = 0.05\n",
      "└ @ Turing.Inference /home/konstantin/.julia/packages/Turing/uMQmD/src/inference/hmc.jl:188\n",
      "┌ Info: Found initial step size\n",
      "│   ϵ = 0.2\n",
      "└ @ Turing.Inference /home/konstantin/.julia/packages/Turing/uMQmD/src/inference/hmc.jl:188\n"
     ]
    },
    {
     "name": "stdout",
     "output_type": "stream",
     "text": [
      "Online at 49\n",
      "Some parameters in are not present in the chain but in the model: Set(Any[Symbol(\"sigmaSquared[49]\")]) \n",
      "Using prior samples from the model for them instead.\n",
      "SMC at 49\n"
     ]
    },
    {
     "name": "stderr",
     "output_type": "stream",
     "text": [
      "┌ Warning: Only a single thread available: MCMC chains are not sampled in parallel\n",
      "└ @ AbstractMCMC /home/konstantin/.julia/packages/AbstractMCMC/BPJCW/src/sample.jl:291\n"
     ]
    },
    {
     "name": "stdout",
     "output_type": "stream",
     "text": [
      "NUTS at 50.\n"
     ]
    },
    {
     "name": "stderr",
     "output_type": "stream",
     "text": [
      "┌ Warning: Only a single thread available: MCMC chains are not sampled in parallel\n",
      "└ @ AbstractMCMC /home/konstantin/.julia/packages/AbstractMCMC/BPJCW/src/sample.jl:291\n",
      "┌ Info: Found initial step size\n",
      "│   ϵ = 0.2\n",
      "└ @ Turing.Inference /home/konstantin/.julia/packages/Turing/uMQmD/src/inference/hmc.jl:188\n",
      "┌ Info: Found initial step size\n",
      "│   ϵ = 0.05\n",
      "└ @ Turing.Inference /home/konstantin/.julia/packages/Turing/uMQmD/src/inference/hmc.jl:188\n",
      "┌ Warning: The current proposal will be rejected due to numerical error(s).\n",
      "│   isfinite.((θ, r, ℓπ, ℓκ)) = (true, false, false, false)\n",
      "└ @ AdvancedHMC /home/konstantin/.julia/packages/AdvancedHMC/HQHnm/src/hamiltonian.jl:47\n"
     ]
    },
    {
     "name": "stdout",
     "output_type": "stream",
     "text": [
      "Online at 50\n",
      "Some parameters in are not present in the chain but in the model: Set(Any[Symbol(\"sigmaSquared[50]\")]) \n",
      "Using prior samples from the model for them instead.\n",
      "SMC at 50\n"
     ]
    },
    {
     "name": "stderr",
     "output_type": "stream",
     "text": [
      "┌ Warning: Only a single thread available: MCMC chains are not sampled in parallel\n",
      "└ @ AbstractMCMC /home/konstantin/.julia/packages/AbstractMCMC/BPJCW/src/sample.jl:291\n"
     ]
    }
   ],
   "source": [
    "for (i,t) in enumerate(time)\n",
    "   \n",
    "    # set up model\n",
    "    model_t = garch(y[1:i])\n",
    "    \n",
    "    if i == 1\n",
    "        println(\"NUTS at $i\")\n",
    "        chainDict[(i,\"NUTS\")] = tur.sample(model_t, NUTS, tur.MCMCThreads(), 100, num_chains; discard_adapt=true)\n",
    "        println(\"SMC at $i\")\n",
    "        chainDict[(i,\"SMC\")] = tur.sample(model_t, smc, tur.MCMCThreads(), 100, num_chains; discard_adapt=true)\n",
    "    elseif i ==2\n",
    "        println(\"NUTS at $i\")\n",
    "        chainDict[(i,\"NUTS\")] = tur.sample(model_t, NUTS, tur.MCMCThreads(), 100, num_chains; discard_adapt=true)\n",
    "        println(\"Online at $i\")\n",
    "        chainDict[(i,\"Online\")] = online.update(chainDict[(i-1,\"NUTS\")],model_t,tur.SMC(),rng)\n",
    "        println(\"SMC at $i\")\n",
    "        chainDict[(i,\"SMC\")] = tur.sample(model_t, smc, tur.MCMCThreads(), 100, num_chains; discard_adapt=true)\n",
    "    else\n",
    "        println(\"NUTS at $i.\")\n",
    "        chainDict[(i,\"NUTS\")] = tur.sample(model_t, NUTS, tur.MCMCThreads(), 100, num_chains; discard_adapt=true)\n",
    "        println(\"Online at $i\")\n",
    "        chainDict[(i,\"Online\")] = online.update(chainDict[(i-1,\"Online\")],model_t,tur.SMC(),rng)\n",
    "        println(\"SMC at $i\")\n",
    "        chainDict[(i,\"SMC\")] = tur.sample(model_t, smc, tur.MCMCThreads(), 100, num_chains; discard_adapt=true)\n",
    "    end\n",
    "end"
   ]
  },
  {
   "cell_type": "markdown",
   "metadata": {},
   "source": [
    "### Analysis"
   ]
  },
  {
   "cell_type": "code",
   "execution_count": 227,
   "metadata": {},
   "outputs": [
    {
     "data": {
      "text/plain": [
       "Dict{Any, Any} with 149 entries:\n",
       "  (15, \"SMC\")    => MCMC chain (100×20×2 Array{Float64, 3})\n",
       "  (41, \"NUTS\")   => MCMC chain (100×56×2 Array{Float64, 3})\n",
       "  (11, \"NUTS\")   => MCMC chain (100×26×2 Array{Float64, 3})\n",
       "  (36, \"NUTS\")   => MCMC chain (100×51×2 Array{Float64, 3})\n",
       "  (43, \"NUTS\")   => MCMC chain (100×58×2 Array{Float64, 3})\n",
       "  (47, \"Online\") => MCMC chain (100×52×2 Array{Float64, 3})\n",
       "  (48, \"SMC\")    => MCMC chain (100×53×2 Array{Float64, 3})\n",
       "  (14, \"Online\") => MCMC chain (100×19×2 Array{Float64, 3})\n",
       "  (3, \"Online\")  => MCMC chain (100×8×2 Array{Float64, 3})\n",
       "  (5, \"SMC\")     => MCMC chain (100×10×2 Array{Float64, 3})\n",
       "  (39, \"NUTS\")   => MCMC chain (100×54×2 Array{Float64, 3})\n",
       "  (35, \"SMC\")    => MCMC chain (100×40×2 Array{Float64, 3})\n",
       "  (7, \"NUTS\")    => MCMC chain (100×22×2 Array{Float64, 3})\n",
       "  (25, \"NUTS\")   => MCMC chain (100×40×2 Array{Float64, 3})\n",
       "  (33, \"Online\") => MCMC chain (100×38×2 Array{Float64, 3})\n",
       "  (30, \"SMC\")    => MCMC chain (100×35×2 Array{Float64, 3})\n",
       "  (40, \"Online\") => MCMC chain (100×45×2 Array{Float64, 3})\n",
       "  (32, \"SMC\")    => MCMC chain (100×37×2 Array{Float64, 3})\n",
       "  (34, \"NUTS\")   => MCMC chain (100×49×2 Array{Float64, 3})\n",
       "  (6, \"SMC\")     => MCMC chain (100×11×2 Array{Float64, 3})\n",
       "  (15, \"Online\") => MCMC chain (100×20×2 Array{Float64, 3})\n",
       "  (2, \"NUTS\")    => MCMC chain (100×17×2 Array{Float64, 3})\n",
       "  (10, \"NUTS\")   => MCMC chain (100×25×2 Array{Float64, 3})\n",
       "  (18, \"NUTS\")   => MCMC chain (100×33×2 Array{Float64, 3})\n",
       "  (26, \"NUTS\")   => MCMC chain (100×41×2 Array{Float64, 3})\n",
       "  ⋮              => ⋮"
      ]
     },
     "execution_count": 227,
     "metadata": {},
     "output_type": "execute_result"
    }
   ],
   "source": [
    "chainDict"
   ]
  },
  {
   "cell_type": "code",
   "execution_count": 236,
   "metadata": {},
   "outputs": [
    {
     "data": {
      "text/plain": [
       "plotEstimates (generic function with 1 method)"
      ]
     },
     "execution_count": 236,
     "metadata": {},
     "output_type": "execute_result"
    }
   ],
   "source": [
    "function plotEstimates(chainDict,name,prior_chain)\n",
    "    # time indices\n",
    "    times = sort(unique([t for (t,m) in keys(chainDict)]))\n",
    "    \n",
    "    colorDict = Dict(\"NUTS\" => \"C0\",\"Online\" => \"C1\",\"SMC\" => \"C2\")\n",
    "    jitter = 0.09\n",
    "    jitterDict = Dict(\"NUTS\" => -jitter,\"Online\" => 0.0,\"SMC\" => jitter)\n",
    "    \n",
    "    methods = [\"NUTS\",\"Online\",\"SMC\"]\n",
    "    \n",
    "    # extract values\n",
    "    for method in methods\n",
    "        for t in times\n",
    "            key = (t,method)           \n",
    "            if haskey(chainDict, key) && Symbol(name) in chainDict[key].name_map.parameters\n",
    "                samples = collect(Iterators.flatten(chainDict[key][Symbol(name)].data))                \n",
    "                mean = dist.mean(samples)\n",
    "                std = dist.std(samples)\n",
    "                \n",
    "                # pseudo x with jitter\n",
    "                x = t\n",
    "                x += jitterDict[method]\n",
    "\n",
    "                # plot errorbars\n",
    "                plt.errorbar(x=x,y=mean,yerr=std,fmt=\"o\",color=colorDict[method])\n",
    "            end\n",
    "        end    \n",
    "    end\n",
    "\n",
    "    # Add legend\n",
    "    for method in methods\n",
    "       plt.plot([],[],color=colorDict[method],label=method) \n",
    "    end    \n",
    "    \n",
    "    # Show true value\n",
    "    trueVal = prior_chain[Symbol(name)].data[1,1]\n",
    "    plt.plot(times,trueVal.*ones(length(times)),color=\"k\",label=\"True\")\n",
    "    plt.legend()\n",
    "    \n",
    "    # set labels\n",
    "    plt.ylabel(name)\n",
    "    plt.xlabel(\"Timestep\")\n",
    "    \n",
    "    return nothing\n",
    "end    "
   ]
  },
  {
   "cell_type": "code",
   "execution_count": 229,
   "metadata": {},
   "outputs": [
    {
     "data": {
      "image/png": "[encoded data removed]",
      "text/plain": [
       "PyPlot.Figure(PyObject <Figure size 640x480 with 1 Axes>)"
      ]
     },
     "metadata": {},
     "output_type": "display_data"
    }
   ],
   "source": [
    "plotEstimates(chainDict,\"omega\",prior_chain)"
   ]
  },
  {
   "cell_type": "code",
   "execution_count": 230,
   "metadata": {},
   "outputs": [
    {
     "data": {
      "image/png": "[encoded data removed]",
      "text/plain": [
       "PyPlot.Figure(PyObject <Figure size 640x480 with 1 Axes>)"
      ]
     },
     "metadata": {},
     "output_type": "display_data"
    }
   ],
   "source": [
    "plotEstimates(chainDict,\"alpha\",prior_chain)"
   ]
  },
  {
   "cell_type": "code",
   "execution_count": 231,
   "metadata": {},
   "outputs": [
    {
     "data": {
      "image/png": "[encoded data removed]",
      "text/plain": [
       "PyPlot.Figure(PyObject <Figure size 640x480 with 1 Axes>)"
      ]
     },
     "metadata": {},
     "output_type": "display_data"
    }
   ],
   "source": [
    "plotEstimates(chainDict,\"beta\",prior_chain)"
   ]
  },
  {
   "cell_type": "code",
   "execution_count": 239,
   "metadata": {},
   "outputs": [
    {
     "data": {
      "text/plain": [
       "plotScores (generic function with 1 method)"
      ]
     },
     "execution_count": 239,
     "metadata": {},
     "output_type": "execute_result"
    }
   ],
   "source": [
    "function plotScores(chainDict,params,trueVals)\n",
    "    # time indices\n",
    "    times = sort(unique([t for (t,m) in keys(chainDict)]))\n",
    "    \n",
    "    colorDict = Dict(\"NUTS\" => \"C0\",\"Online\" => \"C1\",\"SMC\" => \"C2\")\n",
    "    jitter = 0.09\n",
    "    jitterDict = Dict(\"NUTS\" => -jitter,\"Online\" => 0.0,\"SMC\" => jitter)\n",
    "    \n",
    "    methods = [\"NUTS\",\"Online\",\"SMC\"]\n",
    "    \n",
    "    # extract values\n",
    "    for method in methods\n",
    "        for t in times\n",
    "            key = (t,method)           \n",
    "            if haskey(chainDict, key) \n",
    "                chain = chainDict[key]\n",
    "                score = scoring.getScore(chain,params,trueVals)\n",
    "                \n",
    "                # pseudo x with jitter\n",
    "                x = t\n",
    "                x += jitterDict[method]\n",
    "\n",
    "                # plot errorbars\n",
    "                plt.errorbar(x=x,y=score,fmt=\"o\",color=colorDict[method])\n",
    "            end\n",
    "        end    \n",
    "    end\n",
    "\n",
    "    # Add legend\n",
    "    for method in methods\n",
    "       plt.plot([],[],color=colorDict[method],label=method) \n",
    "    end  \n",
    "    plt.legend()\n",
    "    \n",
    "    # set labels\n",
    "    plt.ylabel(\"Score\")\n",
    "    plt.xlabel(\"Timestep\")\n",
    "    \n",
    "    return nothing\n",
    "end"
   ]
  },
  {
   "cell_type": "code",
   "execution_count": 240,
   "metadata": {},
   "outputs": [
    {
     "data": {
      "image/png": "[encoded data removed]",
      "text/plain": [
       "PyPlot.Figure(PyObject <Figure size 640x480 with 1 Axes>)"
      ]
     },
     "metadata": {},
     "output_type": "display_data"
    }
   ],
   "source": [
    "plotScores(chainDict,[:omega,:alpha,:beta],trueVals)"
   ]
  },
  {
   "cell_type": "markdown",
   "metadata": {},
   "source": [
    "In general, the estimates of the online update agree with the ones of NUTS and the true value within one standard deviation. However, over repteated iterations there is a tendency to converge to narrow range of values. This degenaration could be rooted in the nature of the particle based methods."
   ]
  },
  {
   "cell_type": "markdown",
   "metadata": {},
   "source": [
    "## Summary <a name=\"sum\"></a>\n",
    "We could show that the online updates provided by the TuringOnline package offer a way to get estimates of similar quality, but in less time and with less memory consumption than rerunning the estimation with a reference algorithm like NUTS.\n",
    "\n",
    "For repteated usage there is the danger of the updated to converge to a narrow range after several updates, such that there may be a certain limit of steps after which one should refresh the estimates by a complete run of e.g. NUTS."
   ]
  },
  {
   "cell_type": "markdown",
   "metadata": {},
   "source": [
    "## Use real data <a name=\"data\"></a>\n",
    "We generate data synthetically by drawing from the model to rule out modelling errors as a cause for bad inference performance."
   ]
  },
  {
   "cell_type": "code",
   "execution_count": 54,
   "metadata": {},
   "outputs": [
    {
     "data": {
      "text/html": [
       "<table border=\"1\" class=\"dataframe\">\n",
       "  <thead>\n",
       "    <tr style=\"text-align: right;\">\n",
       "      <th></th>\n",
       "      <th>Year</th>\n",
       "      <th>Mkt-RF</th>\n",
       "      <th>SMB</th>\n",
       "      <th>HML</th>\n",
       "      <th>RF</th>\n",
       "    </tr>\n",
       "  </thead>\n",
       "  <tbody>\n",
       "    <tr>\n",
       "      <th>0</th>\n",
       "      <td>1927</td>\n",
       "      <td>29.47</td>\n",
       "      <td>-2.83</td>\n",
       "      <td>-3.40</td>\n",
       "      <td>3.12</td>\n",
       "    </tr>\n",
       "    <tr>\n",
       "      <th>1</th>\n",
       "      <td>1928</td>\n",
       "      <td>35.39</td>\n",
       "      <td>4.51</td>\n",
       "      <td>-6.17</td>\n",
       "      <td>3.56</td>\n",
       "    </tr>\n",
       "    <tr>\n",
       "      <th>2</th>\n",
       "      <td>1929</td>\n",
       "      <td>-19.54</td>\n",
       "      <td>-30.69</td>\n",
       "      <td>11.65</td>\n",
       "      <td>4.75</td>\n",
       "    </tr>\n",
       "    <tr>\n",
       "      <th>3</th>\n",
       "      <td>1930</td>\n",
       "      <td>-31.23</td>\n",
       "      <td>-5.34</td>\n",
       "      <td>-11.76</td>\n",
       "      <td>2.41</td>\n",
       "    </tr>\n",
       "    <tr>\n",
       "      <th>4</th>\n",
       "      <td>1931</td>\n",
       "      <td>-45.11</td>\n",
       "      <td>3.64</td>\n",
       "      <td>-14.56</td>\n",
       "      <td>1.07</td>\n",
       "    </tr>\n",
       "    <tr>\n",
       "      <th>5</th>\n",
       "      <td>1932</td>\n",
       "      <td>-9.39</td>\n",
       "      <td>4.56</td>\n",
       "      <td>10.83</td>\n",
       "      <td>0.96</td>\n",
       "    </tr>\n",
       "    <tr>\n",
       "      <th>6</th>\n",
       "      <td>1933</td>\n",
       "      <td>57.05</td>\n",
       "      <td>45.46</td>\n",
       "      <td>32.39</td>\n",
       "      <td>0.30</td>\n",
       "    </tr>\n",
       "    <tr>\n",
       "      <th>7</th>\n",
       "      <td>1934</td>\n",
       "      <td>3.02</td>\n",
       "      <td>25.60</td>\n",
       "      <td>-27.96</td>\n",
       "      <td>0.16</td>\n",
       "    </tr>\n",
       "    <tr>\n",
       "      <th>8</th>\n",
       "      <td>1935</td>\n",
       "      <td>44.96</td>\n",
       "      <td>10.91</td>\n",
       "      <td>8.74</td>\n",
       "      <td>0.17</td>\n",
       "    </tr>\n",
       "    <tr>\n",
       "      <th>9</th>\n",
       "      <td>1936</td>\n",
       "      <td>32.07</td>\n",
       "      <td>17.97</td>\n",
       "      <td>34.83</td>\n",
       "      <td>0.18</td>\n",
       "    </tr>\n",
       "    <tr>\n",
       "      <th>10</th>\n",
       "      <td>1937</td>\n",
       "      <td>-34.96</td>\n",
       "      <td>-14.14</td>\n",
       "      <td>-4.09</td>\n",
       "      <td>0.31</td>\n",
       "    </tr>\n",
       "    <tr>\n",
       "      <th>11</th>\n",
       "      <td>1938</td>\n",
       "      <td>28.48</td>\n",
       "      <td>9.29</td>\n",
       "      <td>-12.05</td>\n",
       "      <td>-0.02</td>\n",
       "    </tr>\n",
       "    <tr>\n",
       "      <th>12</th>\n",
       "      <td>1939</td>\n",
       "      <td>2.70</td>\n",
       "      <td>5.77</td>\n",
       "      <td>-18.98</td>\n",
       "      <td>0.02</td>\n",
       "    </tr>\n",
       "    <tr>\n",
       "      <th>13</th>\n",
       "      <td>1940</td>\n",
       "      <td>-7.14</td>\n",
       "      <td>1.18</td>\n",
       "      <td>-1.60</td>\n",
       "      <td>0.00</td>\n",
       "    </tr>\n",
       "    <tr>\n",
       "      <th>14</th>\n",
       "      <td>1941</td>\n",
       "      <td>-10.53</td>\n",
       "      <td>-4.04</td>\n",
       "      <td>11.13</td>\n",
       "      <td>0.06</td>\n",
       "    </tr>\n",
       "    <tr>\n",
       "      <th>15</th>\n",
       "      <td>1942</td>\n",
       "      <td>16.20</td>\n",
       "      <td>5.09</td>\n",
       "      <td>19.96</td>\n",
       "      <td>0.27</td>\n",
       "    </tr>\n",
       "    <tr>\n",
       "      <th>16</th>\n",
       "      <td>1943</td>\n",
       "      <td>27.96</td>\n",
       "      <td>33.29</td>\n",
       "      <td>38.47</td>\n",
       "      <td>0.35</td>\n",
       "    </tr>\n",
       "    <tr>\n",
       "      <th>17</th>\n",
       "      <td>1944</td>\n",
       "      <td>20.97</td>\n",
       "      <td>17.53</td>\n",
       "      <td>16.46</td>\n",
       "      <td>0.33</td>\n",
       "    </tr>\n",
       "    <tr>\n",
       "      <th>18</th>\n",
       "      <td>1945</td>\n",
       "      <td>38.38</td>\n",
       "      <td>25.14</td>\n",
       "      <td>10.88</td>\n",
       "      <td>0.33</td>\n",
       "    </tr>\n",
       "    <tr>\n",
       "      <th>19</th>\n",
       "      <td>1946</td>\n",
       "      <td>-6.73</td>\n",
       "      <td>-3.99</td>\n",
       "      <td>3.11</td>\n",
       "      <td>0.35</td>\n",
       "    </tr>\n",
       "    <tr>\n",
       "      <th>20</th>\n",
       "      <td>1947</td>\n",
       "      <td>2.95</td>\n",
       "      <td>-6.99</td>\n",
       "      <td>9.87</td>\n",
       "      <td>0.50</td>\n",
       "    </tr>\n",
       "    <tr>\n",
       "      <th>21</th>\n",
       "      <td>1948</td>\n",
       "      <td>1.07</td>\n",
       "      <td>-9.11</td>\n",
       "      <td>3.74</td>\n",
       "      <td>0.81</td>\n",
       "    </tr>\n",
       "    <tr>\n",
       "      <th>22</th>\n",
       "      <td>1949</td>\n",
       "      <td>19.12</td>\n",
       "      <td>3.75</td>\n",
       "      <td>-4.24</td>\n",
       "      <td>1.10</td>\n",
       "    </tr>\n",
       "    <tr>\n",
       "      <th>23</th>\n",
       "      <td>1950</td>\n",
       "      <td>28.82</td>\n",
       "      <td>1.13</td>\n",
       "      <td>27.04</td>\n",
       "      <td>1.20</td>\n",
       "    </tr>\n",
       "    <tr>\n",
       "      <th>24</th>\n",
       "      <td>1951</td>\n",
       "      <td>19.22</td>\n",
       "      <td>-5.22</td>\n",
       "      <td>-5.67</td>\n",
       "      <td>1.49</td>\n",
       "    </tr>\n",
       "    <tr>\n",
       "      <th>25</th>\n",
       "      <td>1952</td>\n",
       "      <td>11.80</td>\n",
       "      <td>-6.76</td>\n",
       "      <td>3.31</td>\n",
       "      <td>1.66</td>\n",
       "    </tr>\n",
       "    <tr>\n",
       "      <th>26</th>\n",
       "      <td>1953</td>\n",
       "      <td>-1.05</td>\n",
       "      <td>-1.16</td>\n",
       "      <td>-7.73</td>\n",
       "      <td>1.82</td>\n",
       "    </tr>\n",
       "    <tr>\n",
       "      <th>27</th>\n",
       "      <td>1954</td>\n",
       "      <td>49.35</td>\n",
       "      <td>-2.06</td>\n",
       "      <td>26.04</td>\n",
       "      <td>0.86</td>\n",
       "    </tr>\n",
       "    <tr>\n",
       "      <th>28</th>\n",
       "      <td>1955</td>\n",
       "      <td>23.75</td>\n",
       "      <td>-5.91</td>\n",
       "      <td>4.90</td>\n",
       "      <td>1.57</td>\n",
       "    </tr>\n",
       "    <tr>\n",
       "      <th>29</th>\n",
       "      <td>1956</td>\n",
       "      <td>5.90</td>\n",
       "      <td>-0.90</td>\n",
       "      <td>-1.84</td>\n",
       "      <td>2.46</td>\n",
       "    </tr>\n",
       "    <tr>\n",
       "      <th>30</th>\n",
       "      <td>1957</td>\n",
       "      <td>-13.16</td>\n",
       "      <td>-2.70</td>\n",
       "      <td>-6.18</td>\n",
       "      <td>3.14</td>\n",
       "    </tr>\n",
       "    <tr>\n",
       "      <th>31</th>\n",
       "      <td>1958</td>\n",
       "      <td>43.45</td>\n",
       "      <td>14.51</td>\n",
       "      <td>13.48</td>\n",
       "      <td>1.54</td>\n",
       "    </tr>\n",
       "    <tr>\n",
       "      <th>32</th>\n",
       "      <td>1959</td>\n",
       "      <td>9.76</td>\n",
       "      <td>5.46</td>\n",
       "      <td>1.78</td>\n",
       "      <td>2.95</td>\n",
       "    </tr>\n",
       "    <tr>\n",
       "      <th>33</th>\n",
       "      <td>1960</td>\n",
       "      <td>-1.46</td>\n",
       "      <td>-2.72</td>\n",
       "      <td>-4.55</td>\n",
       "      <td>2.66</td>\n",
       "    </tr>\n",
       "    <tr>\n",
       "      <th>34</th>\n",
       "      <td>1961</td>\n",
       "      <td>24.81</td>\n",
       "      <td>1.51</td>\n",
       "      <td>5.14</td>\n",
       "      <td>2.13</td>\n",
       "    </tr>\n",
       "    <tr>\n",
       "      <th>35</th>\n",
       "      <td>1962</td>\n",
       "      <td>-12.90</td>\n",
       "      <td>-8.34</td>\n",
       "      <td>9.02</td>\n",
       "      <td>2.73</td>\n",
       "    </tr>\n",
       "    <tr>\n",
       "      <th>36</th>\n",
       "      <td>1963</td>\n",
       "      <td>17.84</td>\n",
       "      <td>-6.06</td>\n",
       "      <td>15.45</td>\n",
       "      <td>3.12</td>\n",
       "    </tr>\n",
       "    <tr>\n",
       "      <th>37</th>\n",
       "      <td>1964</td>\n",
       "      <td>12.54</td>\n",
       "      <td>-0.76</td>\n",
       "      <td>9.65</td>\n",
       "      <td>3.54</td>\n",
       "    </tr>\n",
       "    <tr>\n",
       "      <th>38</th>\n",
       "      <td>1965</td>\n",
       "      <td>10.52</td>\n",
       "      <td>22.05</td>\n",
       "      <td>6.95</td>\n",
       "      <td>3.93</td>\n",
       "    </tr>\n",
       "    <tr>\n",
       "      <th>39</th>\n",
       "      <td>1966</td>\n",
       "      <td>-13.51</td>\n",
       "      <td>2.93</td>\n",
       "      <td>-1.14</td>\n",
       "      <td>4.76</td>\n",
       "    </tr>\n",
       "    <tr>\n",
       "      <th>40</th>\n",
       "      <td>1967</td>\n",
       "      <td>24.49</td>\n",
       "      <td>49.63</td>\n",
       "      <td>-7.30</td>\n",
       "      <td>4.21</td>\n",
       "    </tr>\n",
       "    <tr>\n",
       "      <th>41</th>\n",
       "      <td>1968</td>\n",
       "      <td>8.79</td>\n",
       "      <td>24.17</td>\n",
       "      <td>18.49</td>\n",
       "      <td>5.21</td>\n",
       "    </tr>\n",
       "    <tr>\n",
       "      <th>42</th>\n",
       "      <td>1969</td>\n",
       "      <td>-17.54</td>\n",
       "      <td>-14.12</td>\n",
       "      <td>-9.95</td>\n",
       "      <td>6.58</td>\n",
       "    </tr>\n",
       "    <tr>\n",
       "      <th>43</th>\n",
       "      <td>1970</td>\n",
       "      <td>-6.49</td>\n",
       "      <td>-11.76</td>\n",
       "      <td>21.54</td>\n",
       "      <td>6.52</td>\n",
       "    </tr>\n",
       "    <tr>\n",
       "      <th>44</th>\n",
       "      <td>1971</td>\n",
       "      <td>11.78</td>\n",
       "      <td>5.98</td>\n",
       "      <td>-11.26</td>\n",
       "      <td>4.39</td>\n",
       "    </tr>\n",
       "    <tr>\n",
       "      <th>45</th>\n",
       "      <td>1972</td>\n",
       "      <td>13.05</td>\n",
       "      <td>-12.26</td>\n",
       "      <td>1.76</td>\n",
       "      <td>3.84</td>\n",
       "    </tr>\n",
       "    <tr>\n",
       "      <th>46</th>\n",
       "      <td>1973</td>\n",
       "      <td>-26.18</td>\n",
       "      <td>-23.45</td>\n",
       "      <td>17.47</td>\n",
       "      <td>6.93</td>\n",
       "    </tr>\n",
       "    <tr>\n",
       "      <th>47</th>\n",
       "      <td>1974</td>\n",
       "      <td>-35.75</td>\n",
       "      <td>-0.72</td>\n",
       "      <td>9.87</td>\n",
       "      <td>8.00</td>\n",
       "    </tr>\n",
       "    <tr>\n",
       "      <th>48</th>\n",
       "      <td>1975</td>\n",
       "      <td>32.44</td>\n",
       "      <td>15.43</td>\n",
       "      <td>9.25</td>\n",
       "      <td>5.80</td>\n",
       "    </tr>\n",
       "    <tr>\n",
       "      <th>49</th>\n",
       "      <td>1976</td>\n",
       "      <td>21.91</td>\n",
       "      <td>14.58</td>\n",
       "      <td>24.28</td>\n",
       "      <td>5.08</td>\n",
       "    </tr>\n",
       "    <tr>\n",
       "      <th>50</th>\n",
       "      <td>1977</td>\n",
       "      <td>-8.26</td>\n",
       "      <td>22.60</td>\n",
       "      <td>7.50</td>\n",
       "      <td>5.12</td>\n",
       "    </tr>\n",
       "    <tr>\n",
       "      <th>51</th>\n",
       "      <td>1978</td>\n",
       "      <td>1.03</td>\n",
       "      <td>14.39</td>\n",
       "      <td>0.59</td>\n",
       "      <td>7.18</td>\n",
       "    </tr>\n",
       "    <tr>\n",
       "      <th>52</th>\n",
       "      <td>1979</td>\n",
       "      <td>13.09</td>\n",
       "      <td>21.23</td>\n",
       "      <td>-2.48</td>\n",
       "      <td>10.38</td>\n",
       "    </tr>\n",
       "    <tr>\n",
       "      <th>53</th>\n",
       "      <td>1980</td>\n",
       "      <td>22.13</td>\n",
       "      <td>5.70</td>\n",
       "      <td>-24.63</td>\n",
       "      <td>11.24</td>\n",
       "    </tr>\n",
       "    <tr>\n",
       "      <th>54</th>\n",
       "      <td>1981</td>\n",
       "      <td>-18.13</td>\n",
       "      <td>7.13</td>\n",
       "      <td>25.12</td>\n",
       "      <td>14.71</td>\n",
       "    </tr>\n",
       "    <tr>\n",
       "      <th>55</th>\n",
       "      <td>1982</td>\n",
       "      <td>10.66</td>\n",
       "      <td>8.70</td>\n",
       "      <td>13.36</td>\n",
       "      <td>10.54</td>\n",
       "    </tr>\n",
       "    <tr>\n",
       "      <th>56</th>\n",
       "      <td>1983</td>\n",
       "      <td>13.74</td>\n",
       "      <td>14.03</td>\n",
       "      <td>20.49</td>\n",
       "      <td>8.80</td>\n",
       "    </tr>\n",
       "    <tr>\n",
       "      <th>57</th>\n",
       "      <td>1984</td>\n",
       "      <td>-6.05</td>\n",
       "      <td>-8.20</td>\n",
       "      <td>19.07</td>\n",
       "      <td>9.85</td>\n",
       "    </tr>\n",
       "    <tr>\n",
       "      <th>58</th>\n",
       "      <td>1985</td>\n",
       "      <td>24.91</td>\n",
       "      <td>0.63</td>\n",
       "      <td>1.45</td>\n",
       "      <td>7.72</td>\n",
       "    </tr>\n",
       "    <tr>\n",
       "      <th>59</th>\n",
       "      <td>1986</td>\n",
       "      <td>10.12</td>\n",
       "      <td>-9.56</td>\n",
       "      <td>9.33</td>\n",
       "      <td>6.16</td>\n",
       "    </tr>\n",
       "    <tr>\n",
       "      <th>60</th>\n",
       "      <td>1987</td>\n",
       "      <td>-3.87</td>\n",
       "      <td>-10.85</td>\n",
       "      <td>-1.62</td>\n",
       "      <td>5.47</td>\n",
       "    </tr>\n",
       "    <tr>\n",
       "      <th>61</th>\n",
       "      <td>1988</td>\n",
       "      <td>11.55</td>\n",
       "      <td>5.76</td>\n",
       "      <td>14.37</td>\n",
       "      <td>6.35</td>\n",
       "    </tr>\n",
       "    <tr>\n",
       "      <th>62</th>\n",
       "      <td>1989</td>\n",
       "      <td>20.49</td>\n",
       "      <td>-12.90</td>\n",
       "      <td>-4.12</td>\n",
       "      <td>8.37</td>\n",
       "    </tr>\n",
       "    <tr>\n",
       "      <th>63</th>\n",
       "      <td>1990</td>\n",
       "      <td>-13.95</td>\n",
       "      <td>-14.02</td>\n",
       "      <td>-10.04</td>\n",
       "      <td>7.81</td>\n",
       "    </tr>\n",
       "    <tr>\n",
       "      <th>64</th>\n",
       "      <td>1991</td>\n",
       "      <td>29.18</td>\n",
       "      <td>16.16</td>\n",
       "      <td>-14.72</td>\n",
       "      <td>5.60</td>\n",
       "    </tr>\n",
       "    <tr>\n",
       "      <th>65</th>\n",
       "      <td>1992</td>\n",
       "      <td>6.23</td>\n",
       "      <td>7.67</td>\n",
       "      <td>24.49</td>\n",
       "      <td>3.51</td>\n",
       "    </tr>\n",
       "    <tr>\n",
       "      <th>66</th>\n",
       "      <td>1993</td>\n",
       "      <td>8.21</td>\n",
       "      <td>6.38</td>\n",
       "      <td>16.86</td>\n",
       "      <td>2.90</td>\n",
       "    </tr>\n",
       "    <tr>\n",
       "      <th>67</th>\n",
       "      <td>1994</td>\n",
       "      <td>-4.10</td>\n",
       "      <td>-0.30</td>\n",
       "      <td>-0.77</td>\n",
       "      <td>3.90</td>\n",
       "    </tr>\n",
       "    <tr>\n",
       "      <th>68</th>\n",
       "      <td>1995</td>\n",
       "      <td>31.22</td>\n",
       "      <td>-9.75</td>\n",
       "      <td>6.05</td>\n",
       "      <td>5.60</td>\n",
       "    </tr>\n",
       "    <tr>\n",
       "      <th>69</th>\n",
       "      <td>1996</td>\n",
       "      <td>15.96</td>\n",
       "      <td>-4.42</td>\n",
       "      <td>8.70</td>\n",
       "      <td>5.21</td>\n",
       "    </tr>\n",
       "    <tr>\n",
       "      <th>70</th>\n",
       "      <td>1997</td>\n",
       "      <td>25.96</td>\n",
       "      <td>-7.64</td>\n",
       "      <td>19.11</td>\n",
       "      <td>5.26</td>\n",
       "    </tr>\n",
       "    <tr>\n",
       "      <th>71</th>\n",
       "      <td>1998</td>\n",
       "      <td>19.46</td>\n",
       "      <td>-25.28</td>\n",
       "      <td>-10.32</td>\n",
       "      <td>4.86</td>\n",
       "    </tr>\n",
       "    <tr>\n",
       "      <th>72</th>\n",
       "      <td>1999</td>\n",
       "      <td>20.57</td>\n",
       "      <td>15.58</td>\n",
       "      <td>-31.96</td>\n",
       "      <td>4.68</td>\n",
       "    </tr>\n",
       "    <tr>\n",
       "      <th>73</th>\n",
       "      <td>2000</td>\n",
       "      <td>-17.60</td>\n",
       "      <td>-4.58</td>\n",
       "      <td>45.02</td>\n",
       "      <td>5.89</td>\n",
       "    </tr>\n",
       "    <tr>\n",
       "      <th>74</th>\n",
       "      <td>2001</td>\n",
       "      <td>-15.20</td>\n",
       "      <td>18.24</td>\n",
       "      <td>18.50</td>\n",
       "      <td>3.83</td>\n",
       "    </tr>\n",
       "    <tr>\n",
       "      <th>75</th>\n",
       "      <td>2002</td>\n",
       "      <td>-22.76</td>\n",
       "      <td>4.45</td>\n",
       "      <td>8.09</td>\n",
       "      <td>1.65</td>\n",
       "    </tr>\n",
       "    <tr>\n",
       "      <th>76</th>\n",
       "      <td>2003</td>\n",
       "      <td>30.75</td>\n",
       "      <td>26.51</td>\n",
       "      <td>5.11</td>\n",
       "      <td>1.02</td>\n",
       "    </tr>\n",
       "    <tr>\n",
       "      <th>77</th>\n",
       "      <td>2004</td>\n",
       "      <td>10.72</td>\n",
       "      <td>4.43</td>\n",
       "      <td>7.67</td>\n",
       "      <td>1.20</td>\n",
       "    </tr>\n",
       "    <tr>\n",
       "      <th>78</th>\n",
       "      <td>2005</td>\n",
       "      <td>3.09</td>\n",
       "      <td>-2.36</td>\n",
       "      <td>9.43</td>\n",
       "      <td>2.98</td>\n",
       "    </tr>\n",
       "    <tr>\n",
       "      <th>79</th>\n",
       "      <td>2006</td>\n",
       "      <td>10.60</td>\n",
       "      <td>0.08</td>\n",
       "      <td>11.75</td>\n",
       "      <td>4.80</td>\n",
       "    </tr>\n",
       "    <tr>\n",
       "      <th>80</th>\n",
       "      <td>2007</td>\n",
       "      <td>1.04</td>\n",
       "      <td>-7.40</td>\n",
       "      <td>-17.28</td>\n",
       "      <td>4.66</td>\n",
       "    </tr>\n",
       "    <tr>\n",
       "      <th>81</th>\n",
       "      <td>2008</td>\n",
       "      <td>-38.34</td>\n",
       "      <td>2.46</td>\n",
       "      <td>0.84</td>\n",
       "      <td>1.60</td>\n",
       "    </tr>\n",
       "    <tr>\n",
       "      <th>82</th>\n",
       "      <td>2009</td>\n",
       "      <td>28.26</td>\n",
       "      <td>9.35</td>\n",
       "      <td>-9.42</td>\n",
       "      <td>0.10</td>\n",
       "    </tr>\n",
       "    <tr>\n",
       "      <th>83</th>\n",
       "      <td>2010</td>\n",
       "      <td>17.37</td>\n",
       "      <td>14.29</td>\n",
       "      <td>-5.10</td>\n",
       "      <td>0.12</td>\n",
       "    </tr>\n",
       "    <tr>\n",
       "      <th>84</th>\n",
       "      <td>2011</td>\n",
       "      <td>0.44</td>\n",
       "      <td>-5.79</td>\n",
       "      <td>-8.54</td>\n",
       "      <td>0.04</td>\n",
       "    </tr>\n",
       "    <tr>\n",
       "      <th>85</th>\n",
       "      <td>2012</td>\n",
       "      <td>16.27</td>\n",
       "      <td>-1.32</td>\n",
       "      <td>9.85</td>\n",
       "      <td>0.06</td>\n",
       "    </tr>\n",
       "    <tr>\n",
       "      <th>86</th>\n",
       "      <td>2013</td>\n",
       "      <td>35.20</td>\n",
       "      <td>7.63</td>\n",
       "      <td>2.65</td>\n",
       "      <td>0.02</td>\n",
       "    </tr>\n",
       "    <tr>\n",
       "      <th>87</th>\n",
       "      <td>2014</td>\n",
       "      <td>11.71</td>\n",
       "      <td>-7.81</td>\n",
       "      <td>-1.46</td>\n",
       "      <td>0.02</td>\n",
       "    </tr>\n",
       "    <tr>\n",
       "      <th>88</th>\n",
       "      <td>2015</td>\n",
       "      <td>0.08</td>\n",
       "      <td>-3.92</td>\n",
       "      <td>-9.54</td>\n",
       "      <td>0.02</td>\n",
       "    </tr>\n",
       "    <tr>\n",
       "      <th>89</th>\n",
       "      <td>2016</td>\n",
       "      <td>13.30</td>\n",
       "      <td>6.64</td>\n",
       "      <td>22.62</td>\n",
       "      <td>0.20</td>\n",
       "    </tr>\n",
       "    <tr>\n",
       "      <th>90</th>\n",
       "      <td>2017</td>\n",
       "      <td>21.51</td>\n",
       "      <td>-4.95</td>\n",
       "      <td>-13.48</td>\n",
       "      <td>0.80</td>\n",
       "    </tr>\n",
       "    <tr>\n",
       "      <th>91</th>\n",
       "      <td>2018</td>\n",
       "      <td>-6.93</td>\n",
       "      <td>-3.34</td>\n",
       "      <td>-9.80</td>\n",
       "      <td>1.81</td>\n",
       "    </tr>\n",
       "    <tr>\n",
       "      <th>92</th>\n",
       "      <td>2019</td>\n",
       "      <td>28.28</td>\n",
       "      <td>-6.06</td>\n",
       "      <td>-10.48</td>\n",
       "      <td>2.14</td>\n",
       "    </tr>\n",
       "    <tr>\n",
       "      <th>93</th>\n",
       "      <td>2020</td>\n",
       "      <td>23.67</td>\n",
       "      <td>12.77</td>\n",
       "      <td>-46.31</td>\n",
       "      <td>0.44</td>\n",
       "    </tr>\n",
       "  </tbody>\n",
       "</table>\n"
      ],
      "text/plain": [
       "    Year  Mkt-RF    SMB    HML    RF\n",
       "0   1927   29.47  -2.83  -3.40  3.12\n",
       "1   1928   35.39   4.51  -6.17  3.56\n",
       "2   1929  -19.54 -30.69  11.65  4.75\n",
       "3   1930  -31.23  -5.34 -11.76  2.41\n",
       "4   1931  -45.11   3.64 -14.56  1.07\n",
       "..   ...     ...    ...    ...   ...\n",
       "89  2016   13.30   6.64  22.62  0.20\n",
       "90  2017   21.51  -4.95 -13.48  0.80\n",
       "91  2018   -6.93  -3.34  -9.80  1.81\n",
       "92  2019   28.28  -6.06 -10.48  2.14\n",
       "93  2020   23.67  12.77 -46.31  0.44\n",
       "\n",
       "[94 rows x 5 columns]\n"
      ]
     },
     "execution_count": 54,
     "metadata": {},
     "output_type": "execute_result"
    }
   ],
   "source": [
    "df = pd.read_csv(\"returns.txt\")"
   ]
  },
  {
   "cell_type": "markdown",
   "metadata": {},
   "source": [
    "### Show the data"
   ]
  },
  {
   "cell_type": "code",
   "execution_count": 87,
   "metadata": {},
   "outputs": [
    {
     "data": {
      "image/png": "[encoded data removed]",
      "text/plain": [
       "PyPlot.Figure(PyObject <Figure size 640x480 with 1 Axes>)"
      ]
     },
     "metadata": {},
     "output_type": "display_data"
    }
   ],
   "source": [
    "plt.title(\"Generated cases over time\")\n",
    "plt.plot(df.Year,df.HML);\n",
    "plt.ylabel(\"y\");\n",
    "plt.xlabel(\"Time\");"
   ]
  },
  {
   "cell_type": "code",
   "execution_count": null,
   "metadata": {},
   "outputs": [],
   "source": []
  }
 ],
 "metadata": {
  "kernelspec": {
   "display_name": "Julia 1.6.2",
   "language": "julia",
   "name": "julia-1.6"
  },
  "language_info": {
   "file_extension": ".jl",
   "mimetype": "application/julia",
   "name": "julia",
   "version": "1.6.2"
  }
 },
 "nbformat": 4,
 "nbformat_minor": 4
}
